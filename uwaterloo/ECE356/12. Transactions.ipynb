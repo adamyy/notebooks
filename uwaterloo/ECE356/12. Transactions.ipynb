{
 "cells": [
  {
   "cell_type": "markdown",
   "metadata": {},
   "source": [
    "# Transaction\n",
    "\n",
    "- a **transaction** is a *unit* of program execution that accesses and possibly updates variaous data items\n",
    "- two important issues must be dealt with in transaction processing\n",
    "    - **failure**: failures of various kinds, such as hardware failures and system crashes\n",
    "    - **concurrency**: concurrent execution of multiple transactions\n",
    "\n",
    "## ACID Properties\n",
    "\n",
    "- example: a transaction to transfer 50 dollars from account A to B\n",
    "    1. read(A)\n",
    "    2. A := A - 50\n",
    "    3. write(A)\n",
    "    4. read(B)\n",
    "    5. B := B + 50\n",
    "    6. write(B)\n",
    "\n",
    "\n",
    "- **atomicity**: either all operations of the transaction are properly reflected in the database, or none are\n",
    "    - if 50 dollars is debited from A, then it is deposited in B or credited back to A\n",
    "- **consistency**: execution of a transaction in isolation preserves the consistency of the database (includes integrity constraints, check constraints, and assertions)\n",
    "    - the total balance of A plus B is preserved\n",
    "- **durability**: after a transaction completes successfully (i.e., without aborting and rolling back), the changes it has made to the database persist, even if failures occur\n",
    "    - if 50 dollars is deposited in B, it will not disappear from B\n",
    "- **isolation**: multiple transactions may execute concurrently, each transaction must be unaware of other concurrently executing transactions; intermediate transaction results should be **hidden** from other concurrently executed transactions\n",
    "    - two transfers executing in parallel should not be aware of each other"
   ]
  },
  {
   "cell_type": "markdown",
   "metadata": {},
   "source": [
    "# Transaction State\n",
    "\n",
    "<img src=\"img/Snip20191104_116.png\" width=60%/>\n",
    "\n",
    "- **active**: the initial state, the transaction remains in this state while it is executing\n",
    "- **partially committed**: after the final statement has been executed, before updates are reflected in the database\n",
    "- **failed**: after discovering that normal execution can no longer proceed, and hence the transaction must be rolled back\n",
    "- **Aborted**: after the transaction has been rolled back and the database is restored to its state prior to the start of the transaction, there are two options after an abort\n",
    "    1. restart the transaction (e.g., if it aborted due to a crash failure or due to contention)\n",
    "    2. kill the transaction (e.g., if it aborted due to a logic error that must be debugged)\n",
    "    \n",
    "    \n",
    "- **Committed**: After successful completion, updates are reflected in the database"
   ]
  },
  {
   "cell_type": "markdown",
   "metadata": {},
   "source": [
    "# Concurrent Execution\n",
    "\n",
    "- **Concurrency**: when multiple transactions run simultaneously\n",
    "    - enables better performance\n",
    "    - **increased processor and disk utilization**, leading to better **transaction throughput**\n",
    "    - **reduced average response time** for transactions: short transactions need not to wait behind long ones\n",
    "\n",
    "- a **concurrency control mechanism** is needed to preserve ACID properties, for example when two transactions attempt to access the same row of the same table\n"
   ]
  },
  {
   "cell_type": "markdown",
   "metadata": {},
   "source": [
    "# Schedules\n",
    "\n",
    "- to define concepts such as serializable isolation in a precise manner we need a rigorous framework for reasoning about concurrent execution of transactions\n",
    "\n",
    "- a **schedule** is a sequence of instructions that specify the chronological order in which instructions of concurrent transactions are executed\n",
    "- a **serial schedule** is one in which a transaction that has been started runs to completion before another transaction may start\n",
    "\n",
    "\n",
    "- a transaction that successfully completes its execution ends with a **commit instruction**\n",
    "- a tansaction that fails to successfully complete its execution ends with an **abort instruction**\n",
    "\n",
    "\n",
    "- the commit and abort instructions are sometimes omitted for brevity when the outcome of the transaction is clear from the context\n",
    "\n",
    "- our simplified model of transactions only captures *read and write* operations on data objects, but not *creation or deletion* of such objects\n",
    "\n",
    "<img src=\"img/Snip20191108_190.png\" width=80%/>\n",
    "\n",
    "<img src=\"img/Snip20191108_191.png\" width=80%/>\n",
    "\n",
    "<img src=\"img/Snip20191108_192.png\" width=80%/>"
   ]
  },
  {
   "cell_type": "markdown",
   "metadata": {},
   "source": [
    "# Serializability\n",
    "\n",
    "- **assumption**: each transaction, when executed in isolation, preserves database consistency (e.g., integrity constraints)\n",
    "    - implies that any serial schedule containing possibly many transactions also preserves database consistency\n",
    "\n",
    "- a schedule is **serializable** if it is equivalent to a serial schedule\n",
    "    - a serializable schedule also preserves database consistency even through the transactions in the schedule may not be executed serially\n",
    "\n",
    "- different definitions of schedule equivalence give rise to the formal notions of **conflict serializability** and **view serializability**\n"
   ]
  },
  {
   "cell_type": "markdown",
   "metadata": {},
   "source": [
    "# Conflicting Instructions\n",
    "\n",
    "- instructions $I_i$ and $I_j$ of transactions $T_i$ and $T_j$ respectively, they **conflict** if and only if there exists some item $Q$ accessed by both $I_i$ and $I_j$, and at least one of these instructions wrote $Q$\n",
    "    1. $I_i = read(Q), I_j = read(Q)$: no conflict\n",
    "    2. $I_i = read(Q), I_j = write(Q)$: conflict\n",
    "    3. $I_i = write(Q), I_j = read(Q)$: conflict\n",
    "    4. $I_i = write(Q), I_j = write(Q)$: conflict\n",
    "\n",
    "\n",
    "- a conflict between $I_i$ and $I_j$ **forces a logical ordering between them**\n",
    "\n",
    "- if $I_i$ and $I_j$ are consecutive in a schedule and they do not conflict, their results would remain the same even if they had been interchanged in the schedule (commute)"
   ]
  },
  {
   "cell_type": "markdown",
   "metadata": {},
   "source": [
    "# Conflict Serializability\n",
    "\n",
    "- def: let $S$ and $S'$ be schedules for some set $R$ of transactions; if schedule $S$ can be transformed into schedule $S'$ by a series of swaps of non-conflicting instructions, then we say that $S$ and $S'$ are **conflict equivalent**\n",
    "    - none of the swaps can change the order of instructions that belong to the same transaction; \n",
    "\n",
    "- schedule $S$ is **conflict serializable** if it is conflict equivalent to a serial schedule\n",
    "\n",
    "<img src=\"img/Snip20191108_193.png\" width=80%/>\n",
    "\n",
    "<img src=\"img/Snip20191108_195.png\" width=60%/>"
   ]
  },
  {
   "cell_type": "markdown",
   "metadata": {},
   "source": [
    "# View Serializability\n",
    "\n",
    "- let $S$ and $S'$ be two schedules with the same set of transactions; $S$ and $S'$ are **view equivalent** if the following three conditions are met for each data item $Q$\n",
    "    1. if in schedule $S$, a $read(Q)$ of transaction $T_i$ returns the initial value of $Q$, then in schedule $S'$ the corresponding $read(Q)$ of $T_i$ must also return the initial value of $Q$\n",
    "    2. if in schedule $S$, a $read(Q)$ of transaction $T_i$ returns the value written by some $write(Q)$ of transaction $T_j$ (if any), then in schedule $S'$ the corresponding $read(Q)$ of $T_i$ must also return the value written by the corresponding $write(Q)$ of transaction $T_j$\n",
    "    3. the transaction (if any) that performs the final $write(Q)$ operation in schedule $S$ must also perform the final $write(Q)$ operation in schedule $S'$\n",
    "    \n",
    "    \n",
    "- a schedule $S$ is **view serializable** if it is view equivalent to a serial schedule\n",
    "- **theorem**: every conflict serializable schedule is also view serializable\n",
    "\n",
    "<img src=\"img/Snip20191108_196.png\" width=80%/>\n",
    "\n"
   ]
  },
  {
   "cell_type": "markdown",
   "metadata": {},
   "source": [
    "# Testing for Conflict Serializability\n",
    "\n",
    "- consider a given schedule of a set of transactions $T_1, T_2,..., T_n$\n",
    "- **precedence graph**: a directed graph where the vertices are the transactions (denoted by their names), and edges represent conflicting operations\n",
    "- we draw an egde from $T_i$ to $T_j$ if the two transactions contain conflicting instructions on some data item $X$, and\n",
    "    - $T_i$ does a $write(X)$ before $T_j$ does a $read(X)$, or\n",
    "    - $T_i$ does a $read(X)$ before $T_j$ does a $write(X)$, or\n",
    "    - $T_i$ does a $write(X)$ before $T_j$ does a $write(X)$\n",
    "\n",
    "- **Observation**: an edge from $T_i$ and $T_j$ implies that $T_i$ must precede $T_j$ in any conflict-equivalent serial schedule (if one exists at all)\n",
    "\n",
    "- **Theorem**: a schedule is conflict serializable if and only if its precedence graph is acyclic\n",
    "\n",
    "<img src=\"img/Snip20191108_197.png\" width=40%/>\n",
    "\n",
    "- cycle-detection can be done in $O(n + e)$ time where $n$ is the number of vertices in the graph and $e$ is the number of edges\n",
    "- if the precedence graph is acyclic, the order of transactions in an equivalent serial schedule can be obtained by a *topological sorting* of the graph\n",
    "\n",
    "<img src=\"img/Snip20191108_198.png\" width=60%/>\n"
   ]
  },
  {
   "cell_type": "markdown",
   "metadata": {},
   "source": [
    "# Test for View Serializability\n",
    "\n",
    "- the precedence graph test for conflict serializability cannot be used directly to test for view serializability\n",
    "    - if the precedence graph is acyclic then the schedule is view-serializable, but if there is a cycle in the graph then the schedule may or may not be view-serializable\n",
    "    - extension to test for view serializability has cost exponential in the size of the precedence graph\n",
    "- the problem of testing view serializability falls in the class of NP-complete problems"
   ]
  },
  {
   "cell_type": "markdown",
   "metadata": {},
   "source": [
    "# Recoverable Schedules\n",
    "\n",
    "- motivation: we must address the effect of transaction failures on concurrently executing transactions\n",
    "- **Recoverable Schedule**: if a transaction $T_j$ reads a data item previously written by a transaction $T_i$, and if $T_j$ later commits successfully, then $T_i$ also commits successfully and moreover, the commit operation of $T_i$ occurs before the commit operation of $T_j$\n",
    "\n",
    "<img src=\"img/Snip20191108_199.png\" width=80%/>"
   ]
  },
  {
   "cell_type": "markdown",
   "metadata": {},
   "source": [
    "# Cascading Rollbacks\n",
    "\n",
    "- **Cascading Rollback**: a single transaction failure leads to a series of transaction rollbacks;\n",
    "\n",
    "<img src=\"img/Snip20191108_201.png\" width=60%/>\n",
    "\n",
    "- none of the transactions has yet committed so the schedule is recoverable\n",
    "- if $T_{10}$ fails, $T_{11}$ and $T_{12}$ must also be rolled back\n",
    "- can lead to the undoing of a significant amount of work, hence wasted CPU cycles and disk IOs\n",
    "\n",
    "# Cascadeless Schedules\n",
    "\n",
    "- **Cascadeless Schedules**: cascading rollbacks cannot occur; \n",
    "    - for each pair of transaction $T_i$ and $T_j$ such that $T_j$ reads a data item previously written by $T_i$, transaction $T_i$ commits successfully, and moreover, the commit operation of $T_i$ occurs **before** the read operation of $T_j$\n",
    "\n",
    "- for performance it is desirable to restrict the schedules to those that are cascadeless\n",
    "- **Theorem**: every cascadeless schedule is a recoverable schedule\n",
    "\n",
    "\n"
   ]
  },
  {
   "cell_type": "markdown",
   "metadata": {},
   "source": [
    "# Concurrency Control\n",
    "\n",
    "- a db must provide a mechanism that will ensure that all possible schedules are\n",
    "    - conflict or view-serializable, and \n",
    "    - are recoverable and preferably cascadeless\n",
    "- a policy in which only one transaction can execute at a time generates only serial schedules, but severely restricts concurrency\n",
    "- testing a schedule for serializability *after* it has executed is too late\n",
    "- Goal: develop concurrency control protocols that will guarantee serializability by design\n",
    "- Observation: concurrency control protocols generally do not execute serializability tests internally\n",
    "    - we can use serializability tests to understand why a concurrency control protocol is correct\n"
   ]
  },
  {
   "cell_type": "markdown",
   "metadata": {},
   "source": [
    "# Weaker-than-serializable Isolation\n",
    "\n",
    "- some applications can tolerate weak levels of transaction isolation\n",
    "    - e.g., a read-only transaction that only wants to get an approximate total balance of all accounts\n",
    "    - e.g., approximate db stats computed for query optimization\n",
    "- the ability to choose among multiple isolation levels make it possible to trade off correctness for performance"
   ]
  },
  {
   "cell_type": "markdown",
   "metadata": {},
   "source": [
    "# Transaction Isolation Anomalies\n",
    "\n",
    "- **Phantom Read**: the results of a query in one transaction are changed by another transaction before the former commits\n",
    "    - e.g., $T_1$ executes a range query (e.g., find instructors where salary is less than 80k), then $T_2$ inserts a record, and finally $T_1$ executes the same range query again with a different result set\n",
    "\n",
    "\n",
    "- **Non-repeatable Read**: repeated reads of same record in one transaction return different values because of an update made by another transaction\n",
    "    - e.g., $T_1$ reads a record, then $T_2$ updates the same record, then $T_1$ reads the record again and sees the updated value\n",
    "    - not a conflict-serializable schedule in this case\n",
    "\n",
    "\n",
    "- **Dirty Read**: one transaction reads a value written by another transaction that has not yet committed\n",
    "    - e.g., $T_1$ updates a record in a table, then $T_2$ reads the updated record before $T_1$ has committed\n",
    "    - not a cascadeless schedule, not recoverable either if $T_2$ commits before $T_1$"
   ]
  },
  {
   "cell_type": "markdown",
   "metadata": {},
   "source": [
    "# Transaction Isolation Levels in SQL-92\n",
    "\n",
    "<img src=\"img/Snip20191111_219.png\" width=80%/>\n",
    "\n",
    "- the InnoDB storage engine provides **repeatable read** by default"
   ]
  },
  {
   "cell_type": "code",
   "execution_count": null,
   "metadata": {},
   "outputs": [],
   "source": []
  }
 ],
 "metadata": {
  "kernelspec": {
   "display_name": "Python 3",
   "language": "python",
   "name": "python3"
  },
  "language_info": {
   "codemirror_mode": {
    "name": "ipython",
    "version": 3
   },
   "file_extension": ".py",
   "mimetype": "text/x-python",
   "name": "python",
   "nbconvert_exporter": "python",
   "pygments_lexer": "ipython3",
   "version": "3.7.5"
  }
 },
 "nbformat": 4,
 "nbformat_minor": 2
}
