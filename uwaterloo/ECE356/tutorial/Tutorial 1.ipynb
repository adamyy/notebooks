{
 "cells": [
  {
   "cell_type": "markdown",
   "metadata": {},
   "source": [
    "Given\n",
    "- `employee(person_name, street, city)`\n",
    "- `works(person_name, company_name, salary)`\n",
    "- `company(company_name, city)`\n",
    "\n",
    "1. find the names of all employees who live in city 'Miami'\n",
    "    - \n",
    "2. find the names of all employees whose salary is greater than 100,000\n",
    "    - \n",
    "3. find the names of all employees who live in 'Miami' and whose salary is greater than 100,000\n",
    "    -\n",
    "\n",
    "\n"
   ]
  }
 ],
 "metadata": {
  "kernelspec": {
   "display_name": "Python 3",
   "language": "python",
   "name": "python3"
  },
  "language_info": {
   "codemirror_mode": {
    "name": "ipython",
    "version": 3
   },
   "file_extension": ".py",
   "mimetype": "text/x-python",
   "name": "python",
   "nbconvert_exporter": "python",
   "pygments_lexer": "ipython3",
   "version": "3.7.4"
  }
 },
 "nbformat": 4,
 "nbformat_minor": 2
}
