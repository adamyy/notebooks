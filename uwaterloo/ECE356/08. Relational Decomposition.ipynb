{
 "cells": [
  {
   "cell_type": "markdown",
   "metadata": {},
   "source": [
    "# Overview\n",
    "\n",
    "- **normalization procedures** remove redundancy by decomposing a relation schema into multiple smaller schemas\n",
    "- **lossless-join decompositions**: a schema $R$ is decomposed into $R_1$ and $R_2$ such that for every legal relation $r$ of schema $R$, the following holds: $r = \\Pi_{R1}(r)\\bowtie\\Pi_{R2}(r)$\n",
    "    - if it does not hold, it is a **lossy decompositions**"
   ]
  },
  {
   "cell_type": "markdown",
   "metadata": {},
   "source": [
    "# Dependency Preservation\n",
    "\n",
    "- FDs are both an asset and a liability\n",
    "    - allows us to constrain the set of legal relations, in principle, such constraints can be checked and enforced by the database to prevent anomalies\n",
    "    - checking that a relation satisfies a set $F$ of FDs carries a cost\n",
    "    - we want to minimize the cost by avoiding joins and Cartesian product\n",
    "\n",
    "- **Goal for decomposition procedures**: ensure that all FDs can be enforced in the decomposed schema by checking them against one table at a a time\n",
    "\n",
    "## Verification\n",
    "\n",
    "- Let $R$ be a relation schema and let $F$ be a set of FDs for $R$\n",
    "- consider a lossless-join decomposition of $R$ into $R_1, R_2, ..., R_n$\n",
    "- let $F_i$ denote the set of dependencies in $F^+$ that include only attributes in $R_i$\n",
    "- the decomposition is **dependency preserving** if and only if\n",
    "    - $(F_1 \\cup F_2 \\cup ... \\cup F_n)^+ = F^+$\n",
    "- if the above does not hold, then checking updates for violation of FDs may require computing potentially expensive joins\n",
    "\n",
    "## Decomposing a Schema into BCNF\n",
    "\n",
    "- suppose we have a relation schema $R$ and set $F$ of FDs such that some non-trivial dependency $\\alpha \\rightarrow \\beta$ in $F$ causes a violation w.r.t. $F$\n",
    "- to avoid this violation, we can decompose $R$ into two relations\n",
    "    - $(\\alpha \\cup \\beta)$\n",
    "    - $(R - (\\beta - \\alpha))$\n",
    "\n",
    "- **Example**: $R(\\underline{\\textrm{ID}}, name, salary, dept\\_name, building, budget)$\n",
    "    - $\\alpha = dept\\_name$\n",
    "    - $\\beta = building, budget$\n",
    "    - $(\\alpha \\cup \\beta) = (\\underline{dept\\_name}, building, budget)$\n",
    "    - $(R - (\\beta - \\alpha)) = (\\underline{\\textrm{ID}}, name, salary, dept\\_name)$\n",
    "    \n",
    "\n",
    "    \n"
   ]
  },
  {
   "cell_type": "markdown",
   "metadata": {},
   "source": [
    "## BCNF Decomposition Procedure\n",
    "\n",
    "- **input** := $R, F$\n",
    "- result := $\\{R\\}$\n",
    "- **while** there is a schema $R_i$ in result that is not BCNF w.r.t. $F$, **do**\n",
    "    - let $\\alpha \\rightarrow \\beta$ be a nontrivial FD that holds on $R_i$ such that $(\\alpha \\cap \\beta) = \\emptyset$ and $\\alpha$ is not a superkey for $R_i$\n",
    "    - remove relation $R_i$ from result\n",
    "    - add a relation on the attributes $R_i - \\beta$ to result\n",
    "    - add a relation on the attributes $\\alpha\\beta$ to result\n",
    "- **output** result\n",
    "\n",
    "- each $R_i$ returned is in BCNF w.r.t. $F$ and decomposition is lossless join\n"
   ]
  },
  {
   "cell_type": "markdown",
   "metadata": {},
   "source": [
    "### BCNF Decomposition Example \n",
    "\n",
    "- $R(A,B,C,D,E)$, $F=\\{A\\rightarrow B, BC \\rightarrow D\\}$\n",
    "    - $A \\rightarrow B$ violates BCNF because $A$ is not a superkey\n",
    "    - so $R_1(A, B), R_2(A,C,D,E)$\n",
    "    - $R_1$ is BCNF because it only has two attributes\n",
    "    - apply the general BCNF test to $R_2$\n",
    "        - $(AC)^+ = ABCD$ => $AC \\rightarrow D$ holds and violates BCNF\n",
    "    - next, decompose $R_2$ into $R_{2.1}(A,C,D)$ and $R_{2.2}(A,C,E)$\n",
    "        - apply the general BCNF test to $R_{2.1}$ and $R_{2.2}$, there are only trivial dependencies, so both of them are in BCNF\n",
    "    - output: $\\{R_1(A,B), R_{2.1}(A,C,D), R_{2.2}(A,C,E)\\}$\n",
    "    - this is not dependency preserving because $BC\\rightarrow D$\n",
    "    "
   ]
  },
  {
   "cell_type": "markdown",
   "metadata": {},
   "source": [
    "## 3NF Decomposition Procedure\n",
    "\n",
    "- **input**: $R$, $F$\n",
    "- $F_c := \\textrm{canonical cover for }F$\n",
    "- $i := 0$\n",
    "- **for each** FD $\\alpha\\rightarrow\\beta$ in $F_c$ **do**\n",
    "    - $i := i + 1$\n",
    "    - $R_i = \\alpha \\beta$\n",
    "- **if** none of the schemas $R_j$, for $1 \\le j \\le i$ contains a candidate key for $R$ **then**\n",
    "    - $i := i+1$\n",
    "    - $R_i :=$ any candidate key for $R$\n",
    "    \n",
    "/* optionally, remove redundant relations */\n",
    "- **repeat**\n",
    "    - **if** any schema $R_j$ is contained in another schema $R_k$, **then**\n",
    "        - delete $R_j$, $R_j := R_i$, $i := i - 1$\n",
    "- **until** no more $R_j$ can be deleted\n",
    "- **return** $(R_1, R_2, ..., R_i)$\n",
    "\n",
    "### Caveats in 3NF Decomposition\n",
    "\n",
    "- $F_c$ is not the same as $F^+$\n",
    "- To check whether $R_j$ contains a candidate key, let $\\alpha = R_j$ then compute $\\alpha^+$ using $F_c$, and test whether $\\alpha^+ = R$\n",
    "- if none of the $R_j$ contains a candidate key for $R$, then we must find a candidate key $\\alpha$ for $R$ and create a new relation over $\\alpha$, to find $\\alpha$\n",
    "    - first find any superkey $\\gamma$ for $R$\n",
    "    - then try to remove attributes from $\\gamma$ (one by one) to make it minimal\n",
    "    - let $\\alpha$ be the final $\\gamma$"
   ]
  },
  {
   "cell_type": "markdown",
   "metadata": {},
   "source": [
    "### 3NF Decomposition Example\n",
    "\n",
    "- $R(A, B, C, D), F = \\{AB \\rightarrow CD, B \\rightarrow C, AC \\rightarrow B, B \\rightarrow D\\}$\n",
    "    - candidate keys are $AB$ and $AC$\n",
    "    - apply simplified 3NF test since $F$ only refers to attributes in $R$\n",
    "        - $R$ is not in 3NF w.r.t. $F$ because $B\\rightarrow D$ holds and $B$ is not a superkey and $D$ is not part of any candidate key\n",
    "    - compute a canonical cover\n",
    "        - after removing extraneous attributes and applying the union rule, $F_c = \\{B\\rightarrow CD, AC \\rightarrow B\\}$\n",
    "    - the 3NF decomposition first creates $R_1(B,C,D)$ and $R_2(A,B,C)$\n",
    "    - no redundant relations and $R_2$ contains a candidate key\n",
    "    - output $\\{R_1, R_2\\}$\n",
    "\n",
    "- 3NF decomposition is **always dependency-preserving**\n",
    "    - every FD in $F_c$ can be checked against one of $R_1$ and $R_2$"
   ]
  },
  {
   "cell_type": "markdown",
   "metadata": {},
   "source": [
    "### 3NF Decomposition Example 2\n",
    "\n",
    "- $R(A, B, C, D), F = \\{A \\rightarrow B, B \\rightarrow C\\}$\n",
    "    - find the candidate keys\n",
    "        - note that $A$ and $D$ must appear in every candidate key, since there is no functional dependency in $F$ where $A$ or $D$ appear on the right\n",
    "        - $(AD)^+ = ABCD$ => $AD$ is one and only candidate key\n",
    "    - apply simplified 3NF since $F$ only refers to attributes in $R$\n",
    "        - $R$ is not in 3NF, since $A\\rightarrow B$ holds where $A$ is not a superkey and $B$ is not part of of any candidate key\n",
    "    - $F$ itself is a canonical cover, so $F_c = F$\n",
    "    - the 3NF decomposition first creates $R_1(A, B)$ and $R_2(B,C)$\n",
    "    - next, add $R_3(A,D)$ since neither $R_1$ nor $R_2$ contains a candidate key\n",
    "    - none of the relations are redundant\n",
    "    - output $R_1, R_2, R_3$"
   ]
  },
  {
   "cell_type": "code",
   "execution_count": null,
   "metadata": {},
   "outputs": [],
   "source": [
    "    "
   ]
  }
 ],
 "metadata": {
  "kernelspec": {
   "display_name": "Python 3",
   "language": "python",
   "name": "python3"
  },
  "language_info": {
   "codemirror_mode": {
    "name": "ipython",
    "version": 3
   },
   "file_extension": ".py",
   "mimetype": "text/x-python",
   "name": "python",
   "nbconvert_exporter": "python",
   "pygments_lexer": "ipython3",
   "version": "3.7.5"
  }
 },
 "nbformat": 4,
 "nbformat_minor": 2
}
