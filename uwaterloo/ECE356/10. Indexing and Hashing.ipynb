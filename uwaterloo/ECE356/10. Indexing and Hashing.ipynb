{
 "cells": [
  {
   "cell_type": "markdown",
   "metadata": {},
   "source": [
    "Operations Efficiency|Lookups| Insertions\n",
    "---|---|---\n",
    "Sorted (Sequential File)| if search on search key: O(log(N)), otherwise O(N)| O(N)\n",
    "Unsorted (Heap File)|O(N)| O(1)\n",
    "**B-tree**| O(log(N)) or O(N) | O(log(N))\n",
    "\n",
    "- thus OLTP chooses B-tree"
   ]
  },
  {
   "cell_type": "markdown",
   "metadata": {},
   "source": [
    "# Motivation\n",
    "\n",
    "- queries often select a subset of records in a table\n",
    "    - **point query**: find records with a specified attribute value\n",
    "    - **range query**: find records with attribute values in a given range\n",
    "- in most cases the query returns only a small subset of the records in a table -> we would like to *locate these records efficiently*\n",
    "- fundamental file structures have fundamental weaknesses\n",
    "    - **heap file**: insertion is fast but a lookup requires a *scan*\n",
    "    - **sequential file**: supports binary search (logarithmic time) but only on *one search key*, all other queries require a *scan*, and furthermore the use of *overflow blocks* degrades performance\n",
    "- when a file is stored on a disk, even \"efficient\" binary search can be slow because each record fetched may require a random I/O\n",
    "\n",
    "\n"
   ]
  },
  {
   "cell_type": "markdown",
   "metadata": {},
   "source": [
    "## Index (Indices)\n",
    "- a data structure that speeds up lookup of records by specific search keys\n",
    "- indices boost performance in two ways\n",
    "    1. organize data in ways that benefit specific types of queries\n",
    "    2. usually smaller than the data files they refer to \n",
    "        - the buffer pool manager is more likely to hold them in main memory, which avoids expensive I/O operations\n",
    "        - even when they reside on disk, they can be searched using fewer I/O operations\n",
    "\n",
    "## Desigining the Physical Schema\n",
    "\n",
    "- suppose that the logical schema is decided\n",
    "- first choose a structure for each relation such as sequential, heap, or index-organized\n",
    "- then add indices with caution\n",
    "    1. identify *costly* queries that would benefit from the index\n",
    "        - e.g., queries with where clauses, or queries with joins\n",
    "    2. choose index type: B+Tree or hash\n",
    "- adding an index can make **insertion and updates slower**\n",
    "- some indices may be created automatically by the DBMS, such as on primary and foreign keys\n"
   ]
  },
  {
   "cell_type": "markdown",
   "metadata": {},
   "source": [
    "## Basic Concepts\n",
    "\n",
    "- **Search key**: an attribute or set of attributes used to look up records\n",
    "- an **index** is a collection of records, called **index entries**, in the form of <search key, pointer>\n",
    "    - looks a lot like a table, and itself requires some concrete structure for storage\n",
    "\n",
    "### Types of indices\n",
    "\n",
    "- **ordered indices**: search keys are stored in sorted order (e.g., variations on a B-tree)\n",
    "- **hash indices**: search keys are distributed (nearly) uniformly across buckets using a hash function"
   ]
  },
  {
   "cell_type": "markdown",
   "metadata": {},
   "source": [
    "## Ordered Indices\n",
    "- **primary index**: the index whose search key coincides with the sequential order of the file (or structure) that stores the table\n",
    "    - also called **clustered index**\n",
    "    - search key usually (but not necessarily) equal to the primary key\n",
    "- **secondary index**: an index whose search key specifies an *order different from the sequential order of the file (or structure)* that stores the table\n",
    "    - also called **non-clustered index**\n",
    "- **index-sequential file**: ordered sequential file + a primary index\n",
    "\n",
    "## Dense Index Files\n",
    "\n",
    "- **Dense index**: one index record for **every** value of the search key in the file\n",
    "- both of the examples below are primary indices\n",
    "\n",
    "<img src=\"img/Snip20191101_100.png\" width=80%/>\n",
    "<img src=\"img/Snip20191101_101.png\" width=80%/>\n",
    "\n",
    "## Sparse Index Files\n",
    "\n",
    "- **Sparse index**: contains index records for **only some** of the values of the search key in the file, possible only when the file is ordered by the same search key\n",
    "- to locate a record with search key value *K* we\n",
    "    - inf the index record with largest search key value < *K*\n",
    "    - scan the file forward starting at the record to which the index record points, stop when searh key value becomes > *K*\n",
    "- compared to dense indices\n",
    "    - use less space and incur less maintenance overhead for insertions and deletions\n",
    "    - generally slower for locating individual records\n",
    "- tradeoff: sparse index with an index entry for every block in file, corresponding to the lowest search key value in the block\n",
    "\n",
    "<img src=\"img/Snip20191101_102.png\" width=30%/>\n",
    "\n",
    "- below example is still primary index\n",
    "\n",
    "<img src=\"img/Snip20191101_103.png\" width=80%/>"
   ]
  },
  {
   "cell_type": "markdown",
   "metadata": {},
   "source": [
    "# Secondary Indices\n",
    "\n",
    "<img src=\"img/Snip20191101_104.png\" width=80%/>\n",
    "\n",
    "- index record comprises the search key and a set of pointers to matching file records, the pointers may be record numbers or primary key values (requiring a primary index lookup)\n",
    "- secondary indices are always **dense**"
   ]
  },
  {
   "cell_type": "markdown",
   "metadata": {},
   "source": [
    "# Primary vs Secondary Indices\n",
    "\n",
    "- indices enable faster searches\n",
    "- updating indices incurs overhead: when a table is modified, every index on the table must be updated\n",
    "- a sequential scan using primary/clustered index is efficient as long as the sequential file has few overflow blocks, but a sequential scan using a secondary index is expensive \n",
    "    - each record access may fetch a new block from disk\n",
    "    - a block fetch from hard disk requires about 5~10 ms if it leads to random I/O, vs ~100ns from memory\n",
    "\n",
    "## The Need for Advanced Data Structures\n",
    "- sequential files can be used to store both indices and data\n",
    "- sequential files enable efficient search, but suffer from the **degradation problem**\n",
    "    - searching becomes slower as file grows due to overflow blocks\n",
    "    - the file must be reorganized periodically\n",
    "- B+Trees: good all around and support efficient range queries\n",
    "- hashes: good for point queries only"
   ]
  },
  {
   "cell_type": "markdown",
   "metadata": {},
   "source": [
    "# B+Tree Index Files\n",
    "\n",
    "- Disadvantage of indexed-sequential files\n",
    "    - **degradation problem**: searching becomes slower as file grows due to overflow blocks and the file must be reorganized periodically\n",
    "- Advanatage of B+Tree index files\n",
    "    - automatically reorganizes itself with *small, local, changes* in the face of insertions and deletions\n",
    "    - reorganization of entire structure at once is not required to maintain performance\n",
    "- Disadvantage of B+Trees\n",
    "    - computation and space overheads\n",
    "\n",
    "- A B+Tree satisfies many of the useful properties of B-Tree\n",
    "    - all paths from root to leaf have **equal length**\n",
    "    - large branching factor, hence **shallow height**\n",
    "    - each node that is not a root is at least **half full**\n",
    "- a B+Tree differs from B-Tree in\n",
    "    - internal nodes only store **separator keys** and pointers to other nodes\n",
    "    - all the data values are stored in leaf nodes, which are chained together using **sibling pointers**\n",
    "    - the data values are pointers to records in a file, which can be represented as record numbers or as values of the primary key\n",
    "\n",
    "- inter-node connections are pointers, nodes that are close together logically (e.g., siblings) are not always close together in terms of their physical storage on disk\n",
    "    - tree traverslas **may require random I/Os** (tree nodes should align with disk blocks)\n",
    "    - an in-order walk through the leaf nodes of a B+tree can be slower than scanning a sequential file\n",
    "\n",
    "- B+trees are shallow\n",
    "    - with $K$ key-data pairs and $n$ child pointers per internal node, $\\textrm{height}<=\\lceil{\\log_{\\lceil n/2\\rceil}(K)}\\rceil$\n",
    "    - insertions and deletions run in time proportional to height\n",
    "    - internal levels easily buffered in main memory, in which case most B+tree operations require only one random I/O"
   ]
  },
  {
   "cell_type": "markdown",
   "metadata": {},
   "source": [
    "<img src=\"img/Snip20191104_113.png\" width=100%/>"
   ]
  },
  {
   "cell_type": "markdown",
   "metadata": {},
   "source": [
    "# Indexing Strings with B+trees\n",
    "\n",
    "- keys are often variable length strings (e.g., VARCHAR in SQL)\n",
    "    - possible to use a variable branching factor\n",
    "    - decision to split determined by space utilization, not the number of keys\n",
    "- **Prefix Compression**: a technique to reduces space overhead\n",
    "    - keys at internal nodes can be prefixes of full key\n",
    "        - retain enough characters to distinguish entries in the sub-trees separated by the key value\n",
    "    - keys can also be compressed by sharing a common prefix\n",
    "\n",
    "# Index-Organized Tables\n",
    "\n",
    "- in an index-organized table, the index stores the rows of the table rather than pointers to the rows\n",
    "- advantage: avoids having to traverse a pointer from the index to the file when performing a row lookup by primary key\n",
    "- disadvantage: a full traversal of the index structure is required to scan the entire table, which may incur more random I/Os than scanning a sequential file\n",
    "\n",
    "- InnoDB tables are index-organized tables stored in clustered B+tree indices, if you do not declare a primary key then InnoDB will create one and build a clustered index\n",
    "- InnoDB also provides in-memory adaptive hash indexing on top of the B-tree indices to speed up lookups on frequently accessed table rows\n"
   ]
  },
  {
   "cell_type": "markdown",
   "metadata": {},
   "source": [
    "# Multiple-Key Access\n",
    "\n",
    "- multiple indices may be useful for certain types of queries\n",
    "\n",
    "\n",
    "- e.g., `SELECT ID FROM instructor WHERE dept_name = \"Finance\" AND salary = 80000`\n",
    "- possible strategies for processing query using indices on single attributes\n",
    "    1. use index on dept_name to find instructors with dept_name Finance; test salary = 80000\n",
    "    2. use index on salary and test dept_name\n",
    "    3. use dept_name to find pointers, use salary to find pointers; take intersection of both sets of pointers\n"
   ]
  },
  {
   "cell_type": "markdown",
   "metadata": {},
   "source": [
    "## Indices on Multiple Attributes\n",
    "\n",
    "- **Composite search keys**: search keys containing more than one attribute\n",
    "    - e.g., (dept_name, salary)\n",
    "- Composite search keys are compared using **lexicographic ordering**\n",
    "    - $(a_1, a_2) < (b_1, b_2)$ if \n",
    "        - $a_1 < b_1$, or\n",
    "        - $a_1 = b_1$, and $a_2 < b_2$\n",
    "\n",
    "- suppose we have an index on the composite search key (dept_name, saslary)\n",
    "    - efficiently handle queries like\n",
    "        - `WHERE dept_name = \"Finance\" AND salary = 80000`\n",
    "        - `WHERE dept_name = \"Finance\" AND salary < 80000`\n",
    "    - but inefficient for\n",
    "        - `WHERE dept_name < \"Finance\" AND salary = 80000`\n",
    "    - the index can be used to find records that satisfy the first condition but do not always satisfy the second condition\n"
   ]
  },
  {
   "cell_type": "code",
   "execution_count": null,
   "metadata": {},
   "outputs": [],
   "source": []
  }
 ],
 "metadata": {
  "kernelspec": {
   "display_name": "Python 3",
   "language": "python",
   "name": "python3"
  },
  "language_info": {
   "codemirror_mode": {
    "name": "ipython",
    "version": 3
   },
   "file_extension": ".py",
   "mimetype": "text/x-python",
   "name": "python",
   "nbconvert_exporter": "python",
   "pygments_lexer": "ipython3",
   "version": "3.7.5"
  }
 },
 "nbformat": 4,
 "nbformat_minor": 2
}
