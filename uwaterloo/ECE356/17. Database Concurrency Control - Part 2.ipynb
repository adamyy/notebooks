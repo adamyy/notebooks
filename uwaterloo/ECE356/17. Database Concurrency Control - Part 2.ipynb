{
 "cells": [
  {
   "cell_type": "markdown",
   "metadata": {},
   "source": [
    "# MVCC (Not in Final)\n",
    "\n",
    "TODO"
   ]
  },
  {
   "cell_type": "markdown",
   "metadata": {},
   "source": [
    "# Timestamp Ordering Protocol\n",
    "\n",
    "- **it is possible to achieve serializability without using locks**\n",
    "\n",
    "\n",
    "- instead of using locks to prevent conflicting accesses to data, transactions use timestamps to detect such conflicts as they are about to occur; the transaction that discovers the conflict resolves it by aborting itself => can lead to **starvation**\n",
    "\n",
    "\n",
    "- each transaction is issued a timestamp when it enters the system; if an old transaction $T_i$ has timestamp $TS(T_i)$, a newer transaction $T_j$ is assigned a timestamp $TS(T_j)> TS(T_i)$\n",
    "- two timestamps are recorded for each data item $Q$\n",
    "    - **W-timestamp(Q)**: the largest timestamp of any transaction that executed **write(Q)** successfully\n",
    "    - **R-timestamp(Q)**: the largest timestamp of any transaction that executed **read(Q)** successfully\n",
    "    - \"successfully\" means a transaction issues a read/write and completes it without detecting a conflict and aborting\n",
    "- the timestamp ordering protocol ensures that any conflicting **read** and **write** operations are executed in timestamp order (or not at all)\n",
    "\n",
    "\n",
    "\n"
   ]
  },
  {
   "cell_type": "markdown",
   "metadata": {},
   "source": [
    "## Timestamp Ordering Protocol - Read\n",
    "\n",
    "- suppose a transaction $T_i$ issues a **read(Q)**\n",
    "    - if TS($T_i$) < W-timestamp(Q), then $T_i$ is attempting to read a value of $Q$ that has already been overwritten\n",
    "        - in this case the **read** operation is *rejected* and $T_i$ is *rolled back*\n",
    "    - otherwise $T_i$ is attempting to read the latest value of $Q$, this read operation returns the value of $Q$ and R-timestamp(Q) is set to **max**(R-timestamp(Q), TS($T_i$))\n",
    "        - in this case the **read** operation is *executed successfully*\n",
    "\n",
    "\n",
    "$T_i$ | TS($T_i$) < W-timestamp(Q) | TS($T_i)$ $\\ge$  W-timestamp(Q)\n",
    "---|---|---\n",
    "Result| read is rejected| read successfully, R-timestamp(Q):=**max**(R-timestamp(Q), TS($T_i$))\n",
    "\n",
    "\n"
   ]
  },
  {
   "cell_type": "markdown",
   "metadata": {},
   "source": [
    "## Timestamp Ordering Protocol - Write\n",
    "\n",
    "- suppose a transaction $T_i$ issues **write(Q)**\n",
    "    - if TS($T_i$) < R-timestamp(Q), then the value of Q that $T_i$ is producing was needed previously, and the system assumed that the value would never be produced\n",
    "        - the write operation is rejected and $T_i$ is rolled back\n",
    "    - if TS($T_i$) < W-timestamp(Q), then $T_i$ is attempting to write an obsolete value of Q\n",
    "        - the write operation is rejected and $T_i$ is rolled back\n",
    "    - otherwise, the write operation updates Q and W-timestamp(Q) is set to TS($T_i$)\n",
    "        - executed successfully\n",
    "\n",
    "$T_i$ | TS($T_i$) < R-timestamp(Q) | TS($T_i$) < W-timestamp(Q)| TS($T_i$)$\\ge$ R-timestamp(Q) && TS($T_i$)$\\ge$W-timestamp(Q)\n",
    "---|---|---|---\n",
    "Result|write is rejected|write is rejected | write successfully, W-timestamp(Q):=TS($T_i$)"
   ]
  },
  {
   "cell_type": "markdown",
   "metadata": {},
   "source": [
    "## Timestamp Ordering Protocol Correctness\n",
    "\n",
    "- the timestamp ordering protocol guarantees the edges in the precedence graph are of the form\n",
    "\\begin{equation}\n",
    "\\textrm{transaction with smaller timstamp} \\rightarrow \\textrm{transaction with larger timestamp}\n",
    "\\end{equation}\n",
    "\n",
    "- since edges always point from older transactions to newer ones, there can be no cycles in the precedence graph, thus timestamp ordering **guarantees conflict serializability**\n",
    "\n",
    "- timestamp ordering also ensures **freedom from deadlock** since no transaction ever waits for another (e.g., to release a lock)\n",
    "\n",
    "- but the schedule **may not be cascadeless**, and **may not even be recoverable**, also **starvation** may occur if the same transaction (e.g., large read-only transaction) aborts repeatedly\n",
    "\n",
    "### Recoverbility Problem\n",
    "\n",
    "- suppose $T_i$ aborts, but $T_j$ has read a data item written by $T_i$, then $T_j$ must abort; if $T_j$ had been allowed to commit earlier, the schedule is not recoverable\n",
    "\n",
    "**Solution**: keep track of commit dependencies and delay commitment of a transaction until all of the transactions it depends on have committed => ensures recoverable schedules\n",
    "\n",
    "### Cascade-Freedom Problem\n",
    "\n",
    "- suppose $T_i$ aborts, but $T_j$ has read a data item written by $T_i$, then $T_j$ must abort; furthermore, any transaction that has read a data item written by $T_j$ must abort, which can lead to cascading rollback\n",
    "\n",
    "**Solution**: A transaction is structured such that all of its writes are performed at the end, atomically with the commit step => ensure cascadeless schedules"
   ]
  },
  {
   "cell_type": "markdown",
   "metadata": {},
   "source": [
    "## Thomas' Write Rule\n",
    "\n",
    "- modified version of the timestamp ordering protocol in which obsolete **write** operations may be ignored under certain circumstances\n",
    "\n",
    "\n",
    "- **Thomas' Write Rule**: when $T_i$ attempts to write data item $Q$, if $\\textrm{TS}(T_i) < \\textrm{W-timestamp}(Q)$, then $T_i$ is attempting to write an obsolete value of $Q$; rather than rolling back $T_i$, we can simply ignore the **write** operation (i.e., treat it as a no-op) provided that $\\textrm{TS}(T_i) \\ge \\textrm{R-timestamp}(Q)$\n",
    "    - enables slightly greater concurrency, and permits some view-serializable schedules that are not conflict serializable, e.g.:\n",
    "    \n",
    "<img src=\"img/Snip20191129_91.png\" width=50%/>\n",
    "\n"
   ]
  },
  {
   "cell_type": "markdown",
   "metadata": {},
   "source": [
    "<img src=\"img/Snip20191129_92.png\" width=80%/>\n",
    "<img src=\"img/Snip20191129_93.png\" width=80%/>"
   ]
  },
  {
   "cell_type": "markdown",
   "metadata": {},
   "source": [
    "# Deadlock Handling\n",
    "\n",
    "<img src=\"img/Snip20191129_94.png\" width=60%/>\n",
    "\n",
    "- system is deadlocked if there is a set of transactions such that every transaction in the set is waiting for another transaction in the set\n",
    "\n",
    "\n",
    "- **Deadlock prevention** protocols ensure that the system will never enter into a deadlock state\n",
    "    - **pre-declaration**: require that each transaction locks all its data items before it begins execution\n",
    "    - **lock ordering**: impose a partial order on all data items and require that a transaction lock data items in the order specified\n",
    "    - **timeout-based**: a transaction waits for a lock only for a specified amount of time, then rolls back if lock is not granted\n",
    "- **Deadlock detection** protocols allow deadlock to occur, detect when it has occurred, and then recover by rolling back some transaction\n",
    "\n",
    "\n",
    "## Remark\n",
    "\n",
    "- deadlock avoidance is preferale if the consequences of abort are serious, and if there is high contention and a resulting high probability of deadlock\n",
    "\n"
   ]
  },
  {
   "cell_type": "markdown",
   "metadata": {},
   "source": [
    "## Wait-die (non-preemptive) & Wound-wait (preemptive)\n",
    "\n",
    "- deadlock prevention strategies that incorporate transaction timestamps that indicate the time when a transaction became active\n",
    "- both wait-die and wound-wait **avoid starvation**\n",
    "\n",
    "\n",
    "\n",
    "- **Wait-die**: older transaction may wait for younger one to release a lock; younger transactions never wait for older ones, they are rolled back (i.e., die) instead\n",
    "    - a transaction may die several times before acquiring a needed lock\n",
    "\n",
    "\n",
    "\n",
    "- **Wound-wait**: older transaction *wounds* (forces rollback of) younger transaction instead of waiting for it; younger transactions may wait for older ones\n",
    "    - potentially fewer rollbacks than *wait-die* scheme\n",
    "    - used by Google Spanner\n",
    "\n",
    "\n"
   ]
  },
  {
   "cell_type": "markdown",
   "metadata": {},
   "source": [
    "# Deadlock Detection\n",
    "\n",
    "\n",
    "- deadlocks can be detected by constructing a **wait-for graph** $G(V, E)$ where\n",
    "    - $V$ is a set of vertices representing the transactions in the system\n",
    "    - $E$ is a set of directed edges representing wait-for dependencies where $T_i\\rightarrow T_j$ is in $E$ if $T_i$ is waiting for $T_j$ to release a data item\n",
    "\n",
    "\n",
    "- when $T_i$ requests a data item currently being held by $T_j$, then the edge $T_i\\rightarrow T_j$ is inserted into the wait-for graph; this edge is removed only when $T_i$ stops waiting, such as when $T_j$ is no longer holding a lock on a data item needed by $T_i$\n",
    "\n",
    "\n",
    "- the system is in a **deadlock state if and only if the wait-for graph has a cycle**\n",
    "    - the DBMS must invoke a deadlock detection algorithm periodically to check for cycles\n",
    "    \n",
    "<img src=\"img/Snip20191129_96.png\" width=80%/>"
   ]
  },
  {
   "cell_type": "markdown",
   "metadata": {},
   "source": [
    "# Deadlock Recovery\n",
    "\n",
    "- some transaction must be rolled back (i.e., made a victim) to break the deadlock\n",
    "- the victim is chosen to be the transaction whose rollback will incur minimum cost\n",
    "- starvation happens if the same transaction is chosen as victim repeatedly; the number of rollbacks can be included in the cost calculation to avoid starvation\n",
    "- the victim may be rolled back either partially or completely\n",
    "    - total rollback: abort the transaction and then restart it\n",
    "    - partial rollback: roll back the transaction only as far as necessary to break the deadlock"
   ]
  },
  {
   "cell_type": "code",
   "execution_count": null,
   "metadata": {},
   "outputs": [],
   "source": []
  }
 ],
 "metadata": {
  "kernelspec": {
   "display_name": "Python 3",
   "language": "python",
   "name": "python3"
  },
  "language_info": {
   "codemirror_mode": {
    "name": "ipython",
    "version": 3
   },
   "file_extension": ".py",
   "mimetype": "text/x-python",
   "name": "python",
   "nbconvert_exporter": "python",
   "pygments_lexer": "ipython3",
   "version": "3.7.5"
  }
 },
 "nbformat": 4,
 "nbformat_minor": 2
}
