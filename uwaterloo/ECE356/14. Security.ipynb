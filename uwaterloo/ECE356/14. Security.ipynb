{
 "cells": [
  {
   "cell_type": "markdown",
   "metadata": {},
   "source": [
    "# Application Architecture Evolution\n",
    "\n",
    "<img src=\"img/Snip20191118_40.png\" width=80%/>\n",
    "\n",
    "- mainframe (1960s ~ 1970s)\n",
    "- personal computer era (1980s)\n",
    "- web era (1990s onwards)"
   ]
  },
  {
   "cell_type": "markdown",
   "metadata": {},
   "source": [
    "# SQL Injection\n",
    "\n",
    "- sql injection is a code injection technique, used to attack data-driven applications, in which nefarious SQL statements are inserted into an entry field for execution (e.g., to dump the db contents to the attacker)\n",
    "\n",
    "\n",
    "- **first-order SQL Injection**: caused by the application trusting data obtained directly from the user\n",
    "    - e.g., `SELECT * FROM instructor WHERE name = \"' + name '\"`\n",
    "    - users enters `x' or 'y' = 'y`\n",
    "    - the query actually executed is equivalent to `SELECT * FROM instructor`\n",
    "\n",
    "- **second-order SQL injection**: queries may be vulnerable to these even if the variable data comes from an existing database table\n",
    "    - `name = result of \"SELECT name FROM instructor ORDER BY salary LIMIT 1\"`\n",
    "    - `SELECT dept_name FROM instructor WHERE name = \"' + name '\"`\n",
    "    - harder to carry out successfully because it requires a deeper understanding of data flow within the application\n",
    "\n"
   ]
  },
  {
   "cell_type": "markdown",
   "metadata": {},
   "source": [
    "# SQL Injection Prevention\n",
    "\n",
    "- in application code, **never concatenate strings to form an SQL query**\n",
    "    - always use a **prepared statement** to incorporate user input into a query\n",
    "\n",
    "\n",
    "```java\n",
    "Connection conn = DriverManager.getConnection(url, user, pwd)\n",
    "PreparedStatement pStmt = conn.prepareStatement(\"SELECT * FROM instructor WHERE ID = ?\")\n",
    "pStmt.setInt(1, dataFromWebForm);\n",
    "ResultSet rs = pStmt.executeQuery();\n",
    "```\n",
    "\n",
    "- prepared statements ensure that user input is treated as data and not executable SQL code\n",
    "\n",
    "- escaping characters only take you so far\n",
    "    - it is unclear what characters are unsafe\n",
    "    - DB/API can deal with different encodings\n",
    "\n",
    "- in SQL, stored procedure can integrate inputs safely into a query without to do string concatenation"
   ]
  },
  {
   "cell_type": "markdown",
   "metadata": {},
   "source": [
    "# Authentication\n",
    "\n",
    "- the process of determining whether someone or something is, in fact, who or what it is declared to be\n",
    "- can be performed by the application or by the DBMS\n",
    "    - common to use both\n",
    "    - the DB admin configures one DB user for each web app user the **create user** and **grant** SQL commands (DCL)\n",
    "    - the application keeps track of human users by storing logins and passwords in a table\n",
    "    - the application authenticates the human against the application-maintained user table; the DB authenticates the web application against its own user table"
   ]
  },
  {
   "cell_type": "markdown",
   "metadata": {},
   "source": [
    "# Password Authentication\n",
    "\n",
    "- never store plaintext passwords\n",
    "- Store a **hash** of the password: `INSERT INTO Users VALUES (login, SHA2(password, 512))`\n",
    "    - to check password, compare the hash of user-provided password against the hash stored in the application-maintained password table\n",
    "- Combine the password with a random **salt** before hashing `INSERT INTO Users VALUES (login, salt, SHA2(CONCAT(salt, password), 512))`\n",
    "\n",
    "## how it works\n",
    "- hashing alone prevents an attacker from seeing the plaintext password if they hack the DBMS or the host\n",
    "- salting prevents an attacker from cracking a weak password quickly using a pre-computed \"rainbow table\"\n",
    "- since the salts are stored in plaintext, an attacker can still crack a weak password using brute force\n",
    "\n",
    "## tips\n",
    "- always compute the hash at the server, never at the client\n",
    "- use a good cryptographic hash function such as **SHA-2** or a key derivation function such as **bcrypt** or **PBKDF2**\n",
    "- use a large random salt (e.g., same size as the hash)\n",
    "- use a different salt for each user, and re-generate the salt each time the password is changed\n"
   ]
  },
  {
   "cell_type": "markdown",
   "metadata": {},
   "source": [
    "# Access Control\n",
    "\n",
    "- selective restriction of **access** to a place or resource\n",
    "- **role-based access control** in web applications\n",
    "    - define a role for each user\n",
    "    - for each component of the web application, decide which users should have access\n",
    "    - each time a component is accessed check that the user's role allows it\n",
    "    - do not assume that a user should have access to a component just because they know the URL\n",
    "    - managed entirely by the application\n",
    "    "
   ]
  },
  {
   "cell_type": "markdown",
   "metadata": {},
   "source": []
  }
 ],
 "metadata": {
  "kernelspec": {
   "display_name": "Python 3",
   "language": "python",
   "name": "python3"
  },
  "language_info": {
   "codemirror_mode": {
    "name": "ipython",
    "version": 3
   },
   "file_extension": ".py",
   "mimetype": "text/x-python",
   "name": "python",
   "nbconvert_exporter": "python",
   "pygments_lexer": "ipython3",
   "version": "3.7.5"
  }
 },
 "nbformat": 4,
 "nbformat_minor": 2
}
