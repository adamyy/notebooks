{
 "cells": [
  {
   "cell_type": "markdown",
   "metadata": {},
   "source": [
    "# Database Modeling\n",
    "\n",
    "- a database can be modeled as a collection of entites and relationship among entities\n",
    "- an **entity** is an object that exists and is distinguishable from other objects\n",
    "    - entities have **attributes**\n",
    "- an **entity set** is a set of entities of the same type that share the same properties\n",
    "\n",
    "<img src=\"img/Snip20191202_119.png\" width=80%/>\n",
    "\n",
    "- a **relationship** is an association among several entites\n",
    "- a **relationship set** is a mathematical relation among $n \\ge 2$ entities, each taken from entity sets\n",
    "\\begin{equation}\n",
    "\\{(e_1, e_2, ..., e_n) | e_1 \\in E_1, e_2 \\in E_2, ..., e_n \\in E_n\\}\n",
    "\\end{equation}\n",
    "\n",
    "- where $(e_1, e_2, ..., e_n)$ is a relationship\n",
    "\n",
    "<img src=\"img/Snip20191202_120.png\" width=80%/>\n",
    "\n",
    "- an **attribute** can also be a property of a relationship set\n",
    "    - e.g., the advisor relationship set between entity sets instructor and student may have a **descriptive attribute** *date* that indicates when the student started being associated with the advisor\n",
    "    \n",
    "<img src=\"img/Snip20191202_121.png\" width=80%/>"
   ]
  },
  {
   "cell_type": "markdown",
   "metadata": {},
   "source": [
    "## Degree of a Relationship Set\n",
    "\n",
    "- the most common type of relationship is **binary relationship**, which involves two entity sets (or degree two)\n",
    "\n",
    "## Attributes\n",
    "\n",
    "- an entity is represented by a set of attributes, which are descriptive properties possessed by all members of an entity set\n",
    "- **domain**: the set of permitted values for an attribute\n",
    "- attribute types\n",
    "    - **simple** (e.g., credits) vs **composite** (e.g., address)\n",
    "    - **single-valued** (e.g., course_ID) vs **multivalued** (e.g., phone_numbers)\n",
    "- a **composite attribute** comprises a collection of **component attribtes**, such attributes may be composed recursively\n",
    "\n",
    "<img src=\"img/Snip20191202_122.png\" width=80%/>\n",
    "        \n"
   ]
  },
  {
   "cell_type": "markdown",
   "metadata": {},
   "source": [
    "## Cardinality Constraints \n",
    "\n",
    "- **cadinality constraints** express the number of entites to which another entity can be associated via a relationship set\n",
    "- the constraints reflect the general structure of the data rather than the structure in a specific data set\n",
    "    - most useful in describing binary relationship sets\n",
    "    - for a binary relationship set, the mapping cardinality must be in one of the following\n",
    "        - one-to-one (1:1)\n",
    "        - one-to-many (1:N)\n",
    "        - many-to-one (N:1)\n",
    "        - many-to-many (N:N)\n",
    "\n",
    "one-to-one|one-to-many|many-to-one|many-to-many\n",
    "---|---|---|---\n",
    "<img src=\"img/Snip20191202_123.png\">|<img src=\"img/Snip20191202_124.png\">|<img src=\"img/Snip20191202_125.png\">|<img src=\"img/Snip20191202_126.png\">\n"
   ]
  },
  {
   "cell_type": "markdown",
   "metadata": {},
   "source": [
    "## Keys\n",
    "\n",
    "- a **super key** of an entity set is a set of one or more attributes whose values identity each entity uniquely\n",
    "- a **candidate key** of an entity set is a minimal super key\n",
    "    - ID is a candidate key of instructor\n",
    "    - course_id is candidate key of course\n",
    "- several candidate keys may exist, one of the candidate keys is selected by the database designer to be the **primary key**\n",
    "\n",
    "\n",
    "\n",
    "- the combination of primary keys of the participating entity sets forms a super key of a relationship set\n",
    "    - e.g., (student.ID, instructor.ID) is the super key of advisor\n",
    "    - **dotted notation** (e.g., student.ID) is used to resolve attribute name collisions\n",
    "    - **a pair of entities can participate at most once in a particular binary relationship set**\n",
    "        - e.g., if we wish to track multiple metting dates between a student and her advisor, we cannot assume a distinct relationship for each meeting, instead we can add a multivalued descriptive attribute to the relationship set\n",
    "\n",
    "\n"
   ]
  },
  {
   "cell_type": "markdown",
   "metadata": {},
   "source": [
    "# E-R Diagrams\n",
    "\n",
    "<img src=\"img/Snip20191202_127.png\" width=80%/>\n",
    "\n",
    "- rectangles represent entity sets\n",
    "- diamonds represent relationship sets\n",
    "- attributes are listed inside entity rectangle\n",
    "- underlined attributes are part of the primary key"
   ]
  },
  {
   "cell_type": "markdown",
   "metadata": {},
   "source": [
    "<img src=\"img/Snip20191202_128.png\" width=80%/>"
   ]
  },
  {
   "cell_type": "markdown",
   "metadata": {},
   "source": [
    "<img src=\"img/Snip20191202_129.png\" width=80%/>"
   ]
  },
  {
   "cell_type": "markdown",
   "metadata": {},
   "source": [
    "## Roles\n",
    "\n",
    "- the entity sets of a relationship need not be distinct\n",
    "- each occurence of an entity set plays a \"role\" in the relationship\n",
    "- the labels \"course_id\" and \"prereq_id\" below are called **roles**\n",
    "\n",
    "<img src=\"img/Snip20191202_130.png\" width=80%/>"
   ]
  },
  {
   "cell_type": "markdown",
   "metadata": {},
   "source": [
    "## Cardinality Constraints\n",
    "\n",
    "- the cardinality constraints is expressed by drawing either a directed line ($\\rightarrow$), signifying \"one\", or an undirected line ($-$), signifying \"many\" between the relationship set and the entity set\n",
    "\n",
    "<img src=\"img/Snip20191202_131.png\" width=90%/>"
   ]
  },
  {
   "cell_type": "markdown",
   "metadata": {},
   "source": [
    "## Participation of an Entity Set in a Relationship Set\n",
    "\n",
    "- **total participation** (indicated by double line): every entity in the entity set participates in at least one relationship in the relationship set\n",
    "\n",
    "<img src=\"img/Snip20191202_132.png\" width=80%/>\n",
    "\n",
    "- a student must have at least one advisor; but an instructor is not required to advise any students"
   ]
  },
  {
   "cell_type": "markdown",
   "metadata": {},
   "source": [
    "## Cardinality Limits\n",
    "\n",
    "- cardinality limits can also express partiticipation constraints\n",
    "\n",
    "<img src=\"img/Snip20191202_133.png\" width=80%/>"
   ]
  },
  {
   "cell_type": "markdown",
   "metadata": {},
   "source": [
    "## Weak Entity Sets\n",
    "\n",
    "- an entity set whose attributes do not provide a primary key is referred to as a **weak entity sets**\n",
    "- the existence of a weak entity set depends on the existence of an **identifying entity set**\n",
    "    - the weak entity set must relate to the identifying entity set via a *one-to-many* relationship set from the identifying to the weak entity set, with *total participation* of the weak entity set\n",
    "    - **identifying relationship** depicted using a double diamond\n",
    "- the **discriminator** (or partial key) of a weak entity set is the set of attributes that distinguishes a given weak entity among all the other entities that map to the same identifying entity\n",
    "    - the primary key of a weak entity set comprises the primary key of the identifying entity set plus the discriminator of the weak entity set\n",
    "\n",
    "<img src=\"img/Snip20191202_134.png\" width=80%/>\n",
    "\n",
    "- the discriminator of a weak entity set is underlined with a dashed line\n",
    "- the identifying relationship of a weak entity is placed in a double diamond\n",
    "- primary key for section: (course_id, sec_id, semester, year)\n",
    "- the primary key of the weak entity is a super key of the idnetifying relationship \n",
    "\n",
    "\n"
   ]
  },
  {
   "cell_type": "markdown",
   "metadata": {},
   "source": [
    "<img src=\"img/Snip20191202_135.png\"/>"
   ]
  },
  {
   "cell_type": "markdown",
   "metadata": {},
   "source": [
    "# Design Issues\n",
    "\n",
    "## Use of Entity Sets vs Attributes\n",
    "\n",
    "<img src=\"img/Snip20191202_136.png\" width=80%/>\n",
    "\n",
    "- using phone as an attribute is simpler; but use phone as an entity is more expressive because it allows representing additional information about phone numbers, e.g., location, home, office, mobile\n",
    "- in either case, we can allow one instructor to have multiple phone numbers by using a multi-valued attribute or 1:N relationship\n",
    "\n",
    "## Use of Entity Sets vs Relationship Sets (Actors vs Actions)\n",
    "\n",
    "- possible guideline to use a relationship set to describe an action that occurs between entities\n",
    "\n",
    "<img src=\"img/Snip20191202_137.png\" width=80%/>\n",
    "\n",
    "## Binary vs N-ary Relationship Sets\n",
    "\n",
    "- it is possible to replace any non-binary (n-ary, for n > 2) relationship set by a collection of distinct binary relationship sets, an n-ary relationship set shows more clearly that several entities participate in a single relationship\n",
    "- some relationships that appear to be non-binary may be better represented using binary relationships; nevertheless, there are some relationships that are naturally non-binary\n",
    "\n",
    "\n",
    "\n",
    "\n"
   ]
  },
  {
   "cell_type": "markdown",
   "metadata": {},
   "source": [
    "## Specialization and Generalization\n",
    "\n",
    "- **top-down design process**: designate subgroupings within an entity set that are distinctive from other entities in the set\n",
    "- **bottom-up design process**: combine a number of entity sets that share the same features into a higher-level entity set\n",
    "\n",
    "\n",
    "- the terms specialization and generalization are used interchangeably, specialization and generalization are inversions of each other\n",
    "\n",
    "\n",
    "- **attribute inheritance**: a lower-level entity set inherits all the attributes and relationship participation of the higher-level entity set to which"
   ]
  },
  {
   "cell_type": "markdown",
   "metadata": {},
   "source": [
    "<img src=\"img/Snip20191203_152.png\"/>"
   ]
  },
  {
   "cell_type": "markdown",
   "metadata": {},
   "source": [
    "# Reduction to Relation Schemas\n",
    "\n",
    "- entity sets and relationship sets can be expressed uniformly as relation schemas\n",
    "- a database that conforms to an E-R diagram can be represented by a collection of schemas\n",
    "- for each entity set and relationship set there is usually a unique schema that is assigned the name of the corresponding entity set or relationship set\n",
    "- in special cases (i.e., total participation) the schema for a relationship set is collapsed with the schema for one of the participating entity sets\n",
    "- the attributes of the schema reflects the attributes of the entity set or relationship set reduced to this schema"
   ]
  },
  {
   "cell_type": "markdown",
   "metadata": {},
   "source": [
    "## Entity Sets With Simple Attributes\n",
    "\n",
    "- **simple attribute**: not composite or multi-valued\n",
    "- An ordinary (i.e., non-weak) entity set with simple attributes reduces to a schema with the same attributes: e.g., $\\textrm{student}(\\underline{\\textrm{ID}}, \\textrm{name}, \\textrm{tot_cred})$\n",
    "- A weak entity set with simple attributes reduces to a schema that includes the primary key of the identifying entity set: $\\textrm{section}(\\underline{\\textrm{course_id, sec_id, sem, year}})$\n",
    "\n",
    "<img src=\"img/Snip20191205_169.png\" width=80%/>"
   ]
  },
  {
   "cell_type": "markdown",
   "metadata": {},
   "source": [
    "## Representing Relationship Sets\n",
    "\n",
    "- any relationship set with/without simple descriptive attributes can be represented as a schema with attributes for the primary keys of the participating entity sets, and for all the descriptive attributes\n",
    "\n",
    "\n",
    "<img src=\"img/Snip20191205_170.png\" width=80%/>\n",
    "\n",
    "- e.g., $\\textrm{advisor}(\\underline{\\textrm{s_ID, i_ID}})$ (we are free to choose new names for the primary keys of the participating entity sets, such as s_ID instead of student.ID)\n",
    "\n",
    "\n",
    "- choosing primary keys for relations derived from binary relationship sets:\n",
    "    - **many-to-many**: include attributes for the primary keys of both participating entity sets\n",
    "    - **one-to-many**: include only the attributes for the primary key of the \"many\" side\n",
    "        - e.g., one instructor to many students, primary key is {s_ID}\n",
    "    - **many-to-one**: analogous to one-to-many\n",
    "    - **one-to-one**: choose one of the participating entity sets (arbitrarily) and include only the attributes of that entity set\n",
    "        - e.g., one instructor to one student, primary key is {s_ID} or {i_ID}"
   ]
  },
  {
   "cell_type": "markdown",
   "metadata": {},
   "source": [
    "## Redundancy in Schemas\n",
    "\n",
    "- many-to-one and one-to-many relationship sets that are total on the many-side can also be represented by adding an extra attribute to the \"many\" side, containing the primary key of the \"one\" side\n",
    "\n",
    "<img src=\"img/Snip20191205_171.png\" width=80%/>\n",
    "\n",
    "- e.g., instead of creating separate schema for relationship set inst_dept, add an attribute dept_name to the schema for instructor"
   ]
  },
  {
   "cell_type": "markdown",
   "metadata": {},
   "source": [
    "## Composite and Multivalued Attributes\n",
    "\n",
    "<img src=\"img/Snip20191205_172.png\" width=30%/>\n",
    "\n",
    "\n",
    "- composite attributes are *flattened out* by creating a separate attribute for each component attributes\n",
    "    - e.g, given `name` with component attributes `first_name` and `last_name`, the schema corresponding to the entity set has two attributes: `name_first_name` and `name_last_name` (omit the prefix `name_` if there is no ambiguity)\n",
    "    \n",
    "\n",
    "- a multivalued attribute $M$ of an entity $E$ is represented by a separate schema $EM$\n",
    "    - schema $EM$ has attributes corresponding to the primary key of $E$ and an attribute corresponding to multivalued attribute $M$\n",
    "    - the primary key of $EM$ comprises both attributes\n",
    "    - e.g., multivalued attribute `phone_number` of `instructor` is represented by a schema: $\\textrm{inst_phone}(\\underline{\\textrm{ID, phone_number}})$\n",
    "    - each value of the multivalued attribute maps to a separate tuple of the relation on schema $EM$"
   ]
  },
  {
   "cell_type": "markdown",
   "metadata": {},
   "source": [
    "# Specialization via Schemas\n",
    "\n",
    "## Method 1\n",
    "\n",
    "- form a schema for the higher-level entity first\n",
    "- then form a schema for each lower-level entity set, include the primary key of the higher-level entity set and local attributes\n",
    "\n",
    "schema| attributes\n",
    "---|---\n",
    "person| __ID__, name, street, city\n",
    "student| __ID__, tot_cred\n",
    "employee| __ID__, salary\n",
    "\n",
    "- drawback: getting information about an employee requires accessing two relations: one corresponding to the low-level schema and the one corresponding to the high-level schema\n",
    "\n",
    "## Method 2\n",
    "\n",
    "- form a schema for each entity set with all local and inherited attributes\n",
    "\n",
    "\n",
    "schema| attributes\n",
    "---|---\n",
    "person| __ID__, name, street, city\n",
    "student| __ID__, name, street, city, tot_cred\n",
    "employee| __ID__, name, street, city, salary\n",
    "\n",
    "\n",
    "- if specialization is total, the schema for the generalized entity set (person) is not required to store information\n",
    "    - relation person can be defined as a \"view\" relation containing the union of student and employee\n",
    "    - an explicit schema may still be needed for foreign key constraints\n",
    "\n",
    "- drawback: name, street, and city may be stored redundantly for people who are both students and employees"
   ]
  },
  {
   "cell_type": "code",
   "execution_count": null,
   "metadata": {},
   "outputs": [],
   "source": []
  }
 ],
 "metadata": {
  "kernelspec": {
   "display_name": "Python 3",
   "language": "python",
   "name": "python3"
  },
  "language_info": {
   "codemirror_mode": {
    "name": "ipython",
    "version": 3
   },
   "file_extension": ".py",
   "mimetype": "text/x-python",
   "name": "python",
   "nbconvert_exporter": "python",
   "pygments_lexer": "ipython3",
   "version": "3.7.5"
  }
 },
 "nbformat": 4,
 "nbformat_minor": 2
}
