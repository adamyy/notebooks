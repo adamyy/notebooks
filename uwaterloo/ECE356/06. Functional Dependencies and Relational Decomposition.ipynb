{
 "cells": [
  {
   "cell_type": "markdown",
   "metadata": {},
   "source": [
    "# Relational Database Design\n",
    "\n",
    "- goal of relational database design is to generate a set of relation schemas that allows us to store information without necessary redundancy, yet also allows easy information retrival\n",
    "- this is accomplished by designing schemas that are in an appropriate **normal form**"
   ]
  },
  {
   "cell_type": "markdown",
   "metadata": {},
   "source": [
    "# Features of Good Relational Designs\n",
    "\n",
    "- it is possible to generate a set of relation schemas directly from the E-R design\n",
    "- the quality of the schemas depends on the quality of the E-R design\n",
    "\n",
    "<img src=\"img/Snip20190927_26.png\" width=80%/>\n",
    "\n"
   ]
  },
  {
   "cell_type": "markdown",
   "metadata": {},
   "source": [
    "## Design Alternative: Larger Schemas\n",
    "\n",
    "**Example** Instead of having the schemas *instructor* and *department*, we have the schema *inst_dept(ID, name, salary, dept_name, building, budget)*, which is equivalent to the result of a natural join on the relations corresponding to *instructor* and *department*\n",
    "\n",
    "- we have repeated the department information (\"building\" and \"budget\") for each instructor in the department\n",
    "- it is important that *all these tuples agree as to the budget amount* otherwise the database will be inconsistent\n",
    "    - in the original design, we store the amount of each budget exactly once in *department*, this suggests that using *inst_dept* is a bad idea since it **stores the budget amounts redundantly and runs the risk that some user might update the budget amount in one tuple but not all**, and thus create inconsistency\n",
    "- also, suppose we are creating a new department in the university, in the design of *inst_dept*, we **cannot represent directly the information concerning a department** unless that department has at least one instructor \n"
   ]
  },
  {
   "cell_type": "markdown",
   "metadata": {},
   "source": [
    "## Design Alternative: Smaller Schemas\n",
    "\n",
    "**Example** Suppose we somehow started with *inst_dept*, how would we recognize that it requires repetition of information and should be split\n",
    "\n",
    "- by observing the contents of actual relations on schema *inst_dept*, we could note the repetition of info resulting from having to list the building and budget once for each instructor associated with a department\n",
    "- this approach also does not allow us to determine whether the lack of repetition is a special case or whether it is a manifestation of a general rule\n",
    "\n",
    "**Functional Dependency**: if we want to enforce the rule that \"each specific value for *dept_name* corresponds to at most one *budget*\" even in cases where *dept_name* is not the primary key for the schema in question\n",
    "- we need to write a rule that says \"if there were a schema(*dept_name*, *budget*), the *dept_name* is able to serve as the primary key\"\n",
    "- $\\textrm{dept_name} \\rightarrow \\textrm{budget}$\n",
    "\n",
    "Given rules like the functional dependency, we can then recognize the problem in the *inst_dept* schema, because *dept_name* cannot be the primary key for *inst_dept*\n",
    "\n",
    "\n",
    "\n",
    "\n"
   ]
  },
  {
   "cell_type": "markdown",
   "metadata": {},
   "source": [
    "# Database Normalization Motivation\n",
    "\n",
    "- redundancy in database leads to troublesome anomalies\n",
    "    - **update anomalies**: a repeated value may be changed in one place but not in another place\n",
    "    - **insertion anomalies**: in order to insert one value, it becomes necessary to insert some unrelated value\n",
    "    - **deletion anomalies**: deleting one type of information leads to the loss of an another unrelated type of information\n",
    "\n",
    "- **Example** *inst_dept(ID, name, salary, dept_name, building, budget)*\n",
    "    - if one department changes its name, we need to update many rows\n",
    "    - if an instructor is inserted, we must include the instructor's department budget in the same row\n",
    "    - if all ECE instructors are deleted, the ECE department no longer has any representation in the database\n",
    "    \n",
    "- redundancy can be removed by decomposing attributes and relations, the price is\n",
    "    - additional processing needed to compute joins\n",
    "    - additional space needed for tables and indexes\n",
    "    - must enforce referential integrity constraints\n",
    "- usually the price is right\n",
    "    - computation and memory/storage becoming less expensive\n",
    "    - joins and referential integrity checks can be fast (with small tables and good indexes)\n",
    "    - dealing with anomalies may require human intervention (slow and costly)"
   ]
  },
  {
   "cell_type": "markdown",
   "metadata": {},
   "source": [
    "# Repetition Diagnosis and Remedy\n",
    "\n",
    "- repetition within one tuple\n",
    "    - the value domains of some attributes are not **atomic**, one value may encode multiple pieces of information\n",
    "    - *section(course_id, sec_id, semester, year, building, room_number)*\n",
    "    - ('ECE356', '001', 'W**13**', '**2013**', '**E2**', '**E2**-1303')\n",
    "    - **Remedy**: break up value domains to create atomic domains\n",
    "- repetition between tuples\n",
    "    - attribute values in different tuples are related by **functional dependencies**: one subset of attributes **functionally determines** the values of another subset (a type of constraint present in real data)\n",
    "    - *inst_dept(ID, name, salary, dept_name, building, budget)*\n",
    "    - department name, building, and budget is repeated\n",
    "    - *dept_name $\\rightarrow$ building, budget*\n",
    "    - **Remedy**: decompose relations to avoid specific types of FD's\n"
   ]
  },
  {
   "cell_type": "markdown",
   "metadata": {},
   "source": [
    "# Relational Decomposition\n",
    "\n",
    "- the goal is to produce a **lossless-join decomposition**: decomposition of relation schema $R$ into schemas $R_1$ and $R_2$ such that for every instane $r(R)$, letting $r_1(R_1)$ and $r_2(R_2)$ denote the corresponding decomposed instances, $r=r_1\\bowtie r_2$ holds\n",
    "    - $r=r_1\\bowtie r_2$ must hold for every possible relation instance $r$ and corresponding instances $r_1$, $r_2$\n",
    "- beware of **lossy decompositions**, in which relation $r$ connot always be reconstructed by joining $r_1$ and $r_2$\n",
    "\n",
    "<img src=\"img/Snip20190927_27.png\" width=80%/>\n",
    "\n",
    "<img src=\"img/Snip20190927_28.png\" width=80%/>"
   ]
  },
  {
   "cell_type": "markdown",
   "metadata": {},
   "source": [
    "# Roadmap\n",
    "\n",
    "1. define a theory of functional dependencies\n",
    "2. use functional dependencies to decide whether a particular relation schema R is in \"good\" form\n",
    "3. if $R$ is not in \"good\" form, we decompose it into a set of relation schemas $\\{R_1, R_2, ..., R_n\\}$ such that\n",
    "    - each of the new relation schemas is in \"good\" form\n",
    "    - the decomposition is a lossless-join decomposition\n",
    "4. we will study the precise definitions of various levels of \"goodness\" called **normal forms**, which can be achieved by applying specific decomposition procedures"
   ]
  },
  {
   "cell_type": "markdown",
   "metadata": {},
   "source": [
    "# First Normal Form (1NF)\n",
    "\n",
    "- a value domain is **atomic** if its elements are considered to be *indivisible units*\n",
    "    - examples of non-atomic domains:\n",
    "        - multi-valued and composite attributes\n",
    "        - identifiers that can be broken up into parts\n",
    "- a relational schema $R$ is in **first normal form** if the domains of all attributes of $R$ are atomic\n",
    "- non-atomic domains are bad\n",
    "    - complicate storage\n",
    "    - encourage redundancy\n",
    "    - lead to information being encoded in business logic"
   ]
  },
  {
   "cell_type": "markdown",
   "metadata": {},
   "source": [
    "# Theory of Functional Dependencies\n",
    "\n",
    "- **Functional Dependencies** (FD) are constraints on the set of **legal relations**, ones that conform to some conceptual model of the data, which itself is guided by our informal understanding of the world\n",
    "- FDs state that the value for a certain set of attributes determines (i.e., constrains) uniquely the value for another set of attributes\n",
    "    - an FD is a generalization of the notion of a *key*\n",
    "    - e.g., *dept_name* $\\rightarrow$ *building, budget*\n",
    "    - \"dept_name **functionally determines** building and budget\"\n",
    "\n",
    "\n",
    "- Let $R$ be a relation schema where $\\alpha \\subseteq R$ and $\\beta \\subseteq R$\n",
    "- the **functional dependency $\\alpha \\rightarrow \\beta$ holds on a relation instance $r(R)$** if and only if whenever any two tuples $t_1$ and $t_2$ of $r$ agree on the attributes $\\alpha$, they also agree on the attributes $\\beta$\n",
    "    - $t_1[\\alpha] = t_2[\\alpha] \\rightarrow t_1[\\beta] = t_2[\\beta]$\n",
    "- the **functional dependency $\\alpha \\rightarrow \\beta$ holds on $R$** if and only if for **any** legal relation instance $r(R)$, the functional dependency holds on $r$\n",
    "\n",
    "\n",
    "- $K$ is a superkey for relation schema $R$ if and only if $K\\rightarrow R$\n",
    "- $K$ is a candidate key for $R$ if and only if \n",
    "    - $K$ is a superkey, $K\\rightarrow R$\n",
    "    - $K$ is minimal, there is no $\\alpha \\subset K$ such that $\\alpha \\rightarrow R$\n",
    "\n",
    "\n",
    "- FDs allow us to express constraints that cannot be expressed using superkeys\n",
    "\n",
    "## Use of Functional Dependencies\n",
    "\n",
    "- test relations instances to see if they are legal under a given set of functional dependencies\n",
    "    - given a relation schema $R$, if a relation instance $r(R)$ is legal under a set $F$ of functional depenencies (i.e., every F.D. in $F$ holds on $r$) then we say **$r$ satisfies $F$**\n",
    "- specify constraints on the set of legal relations\n",
    "    - given a relation schema $R$, if every legal relation instance $r(R)$ satisfies a set $F$ of functional dependencies then we say **$F$ holds on $R$**\n",
    "    \n",
    "- a specific instance of a relation may satisfy a functional dependency even if the functional dependency does not hold on all legal instances of the relation\n",
    "\n",
    "- a functional dependency is **trivial** if it is satisfied by all instances of a relation\n"
   ]
  },
  {
   "cell_type": "markdown",
   "metadata": {},
   "source": [
    "# Closure of a Set of FDs\n",
    "\n",
    "- the set of **all** functional dependencies logically implied by $F$ is the *closure* of $F$\n",
    "    - denoted by $F^+$\n",
    "    - in general $F^+ \\supseteq F$\n",
    "- given a set $F$ of FDs, there may be certain other FDs that are not in $F$ but are logically implied by those in $F$"
   ]
  },
  {
   "cell_type": "markdown",
   "metadata": {},
   "source": [
    "# Armstrong's Axioms\n",
    "\n",
    "- $F^+$ can be found y repeatedly applying **Armstrong's Axioms**\n",
    "    - **reflexivity**: if $\\beta \\subseteq \\alpha$, then $\\alpha \\rightarrow \\beta$\n",
    "    - **augmentation**: if $\\alpha \\rightarrow \\beta$, then $\\gamma\\alpha \\rightarrow \\gamma\\beta$\n",
    "    - **transitivity**: if $\\alpha \\rightarrow \\beta$, and if $\\beta \\rightarrow \\gamma$, then $\\alpha \\rightarrow \\gamma$\n",
    "\n",
    "- these axioms (**inference rules**) are\n",
    "    - **sound**: generate only functional dependencies that hold\n",
    "    - **complete**: generate *all* functional dependencies that hold\n",
    "\n",
    "**Example** $R=(A,B,C,G,H,I)$, $F=\\{A\\rightarrow B, A\\rightarrow C, CG \\rightarrow H, CG \\rightarrow I, B \\rightarrow H\\}$\n",
    "\n",
    "- obtain additional members of $F^+$ by applying the axioms\n",
    "    - $A\\rightarrow H$\n",
    "        - by transitivity from $A\\rightarrow B$ and $B \\rightarrow H$\n",
    "    - $AG \\rightarrow I$\n",
    "        - augment $A \\rightarrow C$ with $G$, then $AG \\rightarrow CG$\n",
    "        - since $CG \\rightarrow I$, so $AG \\rightarrow I$\n",
    "    - $CG \\rightarrow HI$\n",
    "        - augment $CG \\rightarrow I$ with $CG$, then $CG \\rightarrow CGI$\n",
    "        - augment $CG \\rightarrow H$ with $I$, then $CGI \\rightarrow HI$\n",
    "        - then by transitivity, $CG \\rightarrow HI$"
   ]
  },
  {
   "cell_type": "markdown",
   "metadata": {},
   "source": [
    "# Procedure for Computing $F^+$\n",
    "\n",
    "- input: $F$ (a set of FDs)\n",
    "- $F^+ := F$\n",
    "\n",
    "```\n",
    "repeat\n",
    "    for each functional dependency f in F+\n",
    "        apply reflexivity and augmentation rules on f\n",
    "        add the resulting FD to F+\n",
    "    for each pair of FD f1 and f2 in F+\n",
    "        if f1 and f2 can be combined using transitivity\n",
    "            then add the resulting FD to F+\n",
    "until F+ stops growing\n",
    "output F+\n",
    "```"
   ]
  },
  {
   "cell_type": "markdown",
   "metadata": {},
   "source": [
    "# Additional Inference Rules\n",
    "\n",
    "- **union**:\n",
    "    - given $\\alpha \\rightarrow \\beta$ and $\\alpha \\rightarrow \\gamma$\n",
    "    - then $\\alpha \\rightarrow \\beta\\gamma$\n",
    "- **decomposition**: \n",
    "    - given $\\alpha \\rightarrow \\beta\\gamma$\n",
    "    - then $\\alpha \\rightarrow \\beta$ and $\\alpha \\rightarrow \\gamma$\n",
    "- **pseudotransitivity**:\n",
    "    - given $\\alpha \\rightarrow \\beta$ and $\\gamma\\beta \\rightarrow \\delta$\n",
    "    - then $\\alpha\\gamma \\rightarrow \\delta$"
   ]
  },
  {
   "cell_type": "markdown",
   "metadata": {},
   "source": [
    "# Closure of Attribute Sets\n",
    "\n",
    "- given a set of attributes $\\alpha$, the closure of $\\alpha$ under $F$ (denoted by $\\alpha^+$) is defined as the set of attributes that are functionally determined by $\\alpha$ under $F$\n",
    "\n",
    "**Algorithm**\n",
    "\n",
    "<img src=\"img/Snip20190930_41.png\" width=60%/>\n",
    "\n",
    "**Example** $R=(A,B,C,G,H,I)$, $F=\\{A\\rightarrow B, A\\rightarrow C, CG \\rightarrow H, CG \\rightarrow I, B \\rightarrow H\\}$, find $(AG)^+$\n",
    "\n",
    "1. result = $AG$\n",
    "    - add $B$ and $C$, since $A\\rightarrow B$ and $A \\rightarrow C$ and $A\\subseteq AG$\n",
    "2. result = $ABCG$\n",
    "    - add $H$, since $CG \\rightarrow H$ and $CG \\subseteq ABCG$\n",
    "3. result = $ABCGH$\n",
    "    - add $I$, since $CG \\rightarrow I$ and $CG \\subseteq ABCGH$\n",
    "4. result = $ABCGHI$\n",
    "    - done since result = $R$\n"
   ]
  },
  {
   "cell_type": "markdown",
   "metadata": {},
   "source": [
    "# Uses of Attributes Set Closure\n",
    "\n",
    "- let $R$ denote a relation schema, and let $\\alpha$ denote a set of attributes\n",
    "- **Testing for a Superkey**\n",
    "    - to set whether $\\alpha$ is a superkey of $R$, compute $\\alpha^+$ and check that $\\alpha^+$ contains all attributes of $R$\n",
    "- **Testing individual functional dependencies**\n",
    "    - to test whether a FD $\\alpha \\rightarrow \\beta$ holds on $R$, compute $\\alpha^+$ and check that $\\beta \\subseteq \\alpha^+$\n",
    "- **Computing the closure $F^+$ of a set of FDs**\n",
    "    - for each $\\gamma \\subseteq R$\n",
    "         1. find the closure $\\gamma^+$\n",
    "         2. for each $S\\subseteq \\gamma^+$, output the FD $\\gamma \\rightarrow S$\n",
    "\n",
    "**Example** $R=(A,B,C,G,H,I)$, $F=\\{A\\rightarrow B, A\\rightarrow C, CG \\rightarrow H, CG \\rightarrow I, B \\rightarrow H\\}$, we have $(AG)^+ = ABCGHI$, is $AG$ a candidate key?\n",
    "\n",
    "1. is $AG$ a super key?\n",
    "    - test if $AG \\rightarrow R$, which is equivalent to $(AG)^+ \\supseteq R$\n",
    "        - spoiler: yes\n",
    "2. test if $AG$ is minimal (i.e., no subset of $AG$ is a superkey)\n",
    "    - test if $A \\rightarrow R$, which is equivalent to $(A)^+ \\supseteq R$ hold\n",
    "    - test if $G \\rightarrow R$, which is equivalent to $(G)^+ \\supseteq R$ hold\n"
   ]
  },
  {
   "cell_type": "markdown",
   "metadata": {},
   "source": [
    "# Canonical Cover\n",
    "\n",
    "- sets of functional dependencies may have redundant dependencies that can be inferred from the others\n",
    "    - e.g., $A \\rightarrow C$ is redundant in $\\{A \\rightarrow B, B \\rightarrow C, A \\rightarrow C\\}$\n",
    "\n",
    "- parts of a functional dependency may be redundant\n",
    "    - e.g., on RHS: $\\{A \\rightarrow B, B \\rightarrow C, A \\rightarrow CD\\}$\n",
    "        - can be simplified to $\\{A \\rightarrow B, B \\rightarrow C, A \\rightarrow D\\}$\n",
    "    - e.g., on LHS: $\\{A \\rightarrow B, B \\rightarrow C, AC \\rightarrow D\\}$\n",
    "        - can be simplified to $\\{A \\rightarrow B, B \\rightarrow C, A \\rightarrow D\\}$\n",
    "\n",
    "**Canonical Cover** a canonical cover of $F$ is a \"minimal\" set of functional dependencies equivalent to $F$, having no redundant dependencies or redundant parts of dependencies\n",
    "\n",
    "- formally, a **canonical cover** for a set $F$ of FDs is a set $F_C$ of FDs such that\n",
    "    - 1) $F$ logically implies all dependencies in $F_C$\n",
    "    - 2) $F_C$ logically implies all dependencies in $F$\n",
    "    - 3) No functional dependency in $F_C$ contains an extraneous attribute\n",
    "    - 4) each left side of a functional dependency in $F_C$ is unique"
   ]
  },
  {
   "cell_type": "markdown",
   "metadata": {},
   "source": [
    "# Extraneous Attributes\n",
    "\n",
    "- given a set $F$ of functional dependencies and a functional dependency $\\alpha \\rightarrow \\beta$ in $F$\n",
    "    - attribute $A$ is **extraneous** in $\\alpha$ if $A\\in \\alpha$ and \n",
    "        - $F$ logically implies $(F - \\{\\alpha \\rightarrow \\beta\\})\\cup\\{(\\alpha - A) \\rightarrow \\beta\\}$\n",
    "    - attribute $B$ is **extraneous** in $\\beta$ if $B\\in \\beta$ and the set of functional dependencies\n",
    "        - $(F - \\{\\alpha \\rightarrow \\beta\\})\\cup\\{\\alpha \\rightarrow (\\beta - B)\\}$ logically implies $F$\n",
    "\n",
    "- logical implications (\"$X$ logically implies $Y$\") means that any FD in $Y$ can be obtained from the FDs in $X$ using Armstrong's Axioms\n",
    "    - prove using attribute set closures"
   ]
  },
  {
   "cell_type": "markdown",
   "metadata": {},
   "source": [
    "## Testing if an Attribute is Extraneous\n",
    "\n",
    "Consider a set $F$ of FDs and a FD $\\alpha\\rightarrow\\beta$ in $F$, we need two separate tests for extraneousness depending on whether the attribute being tested is part of $\\alpha$ of $\\beta$ (left or right)\n",
    "\n",
    "- To test whether attribute $A\\in \\alpha$ is extraneous in $\\alpha$\n",
    "    - 1) compute $(\\{\\alpha - A\\})^+$ using the dependencies in $F$\n",
    "    - 2) A is extraneous in $\\alpha$ if and only if $(\\{\\alpha - A\\})^+$ contains $\\beta$\n",
    "\n",
    "- To test whether attribute $B \\in \\beta$ is extraneous in $\\beta$\n",
    "    - 1) compute $\\alpha^+$ using only the dependencies in $G = (F - \\{\\alpha \\rightarrow \\beta\\})\\cup\\{\\alpha \\rightarrow (\\beta - B)\\}$\n",
    "    - 2) B is extraneous in $\\beta$ if and only if $\\alpha^+$ contains B\n",
    "\n",
    "**Example** $R=(A,B,C,D)$, $F=\\{A\\rightarrow C, AB\\rightarrow C\\}$\n",
    "- $B$ is extraneous in $AB\\rightarrow C$ because $F$ logically implies $(F-\\{AB\\rightarrow C\\})\\cup\\{A\\rightarrow C\\} = \\{A\\rightarrow C\\}$\n",
    "\n",
    "**Example** $R=(A,B,C,D)$, $F=\\{A\\rightarrow C, AB\\rightarrow CD\\}$\n",
    "- $C$ is extraneous in $AB\\rightarrow CD$ because $(F-\\{AB\\rightarrow CD\\})\\cup \\{AB\\rightarrow D\\} = \\{A\\rightarrow C, AB\\rightarrow D\\}$ logically implies F"
   ]
  },
  {
   "cell_type": "markdown",
   "metadata": {},
   "source": [
    "# Computing a Canonical Cover\n",
    "\n",
    "**input**: $F$ (set of FDs)\n",
    "\n",
    "$F_c := F$\n",
    "\n",
    "- **repeat**\n",
    "    - use the union rule to replace any pair of dependencies $\\alpha_1 \\rightarrow \\beta_1$ and $\\alpha_1 \\rightarrow \\beta_2$ in $F_c$ with $\\alpha_1 \\rightarrow \\beta_1 \\beta_2$\n",
    "    - look for a functional dependency $\\alpha \\rightarrow \\beta$ in $F_c$ with an extraneous attribute either in $\\alpha$ or in $\\beta$\n",
    "    - if found an extraneous attribute in $\\alpha$, delete it from $\\alpha$ in $\\alpha\\rightarrow\\beta$\n",
    "    - **DO NOT DELETE ATTRIBUTES FROM BOTH $\\alpha$ AND $\\beta$ in the same iteration**\n",
    "- **until** $F_c$ does not change\n",
    "- **output** $F_c$\n",
    "\n",
    "**Note**: if all attributes in a functional dependency $\\alpha \\rightarrow \\beta$ are extraneous (or if $\\alpha =\\beta =\\emptyset$) then the dependency should be removed\n",
    "\n",
    "**Example** $R=(A, B, C)$, $F=\\{A\\rightarrow BC, B\\rightarrow C, A\\rightarrow B, AB\\rightarrow C\\}$\n",
    "- combine $A\\rightarrow BC$ and $A\\rightarrow B$ into $A\\rightarrow BC$\n",
    "    - $F_c$ becomes $F=\\{A\\rightarrow BC, B\\rightarrow C, AB\\rightarrow C\\}$\n",
    "- test if $A$ is extraneous in $AB\\rightarrow C$\n",
    "    - check whether $F=\\{A\\rightarrow BC, B\\rightarrow C, AB\\rightarrow C\\}$ logically implies $B\\rightarrow C$\n",
    "    - yes, because the set on the left includes $B\\rightarrow C$\n",
    "    - $F_c$ becomes $F=\\{A\\rightarrow BC, B\\rightarrow C\\}$\n",
    "- test if $C$ is extraneous in $A\\rightarrow BC$\n",
    "    - check whether $F=\\{A\\rightarrow B, B\\rightarrow C\\}$ logically implies $A\\rightarrow BC$\n",
    "    - yes, by transitivity with $\\{A\\rightarrow B, B\\rightarrow C\\}$\n",
    "    - $F_c$ becomes $\\{A\\rightarrow B, B\\rightarrow C\\}$\n",
    "- result $\\{A\\rightarrow B, B\\rightarrow C\\}$ is a canonical cover for $F$\n"
   ]
  },
  {
   "cell_type": "code",
   "execution_count": null,
   "metadata": {},
   "outputs": [],
   "source": []
  }
 ],
 "metadata": {
  "kernelspec": {
   "display_name": "Python 3",
   "language": "python",
   "name": "python3"
  },
  "language_info": {
   "codemirror_mode": {
    "name": "ipython",
    "version": 3
   },
   "file_extension": ".py",
   "mimetype": "text/x-python",
   "name": "python",
   "nbconvert_exporter": "python",
   "pygments_lexer": "ipython3",
   "version": "3.7.5"
  }
 },
 "nbformat": 4,
 "nbformat_minor": 2
}
