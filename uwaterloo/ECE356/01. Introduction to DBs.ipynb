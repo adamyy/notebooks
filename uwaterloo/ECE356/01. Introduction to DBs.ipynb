{
 "cells": [
  {
   "cell_type": "markdown",
   "metadata": {},
   "source": [
    "# History of Database Systems\n",
    "\n",
    "- 1950s to early 1960s\n",
    "    - transistor-based programmable digital computers\n",
    "    - punched cards and magnetic tapes\n",
    "- late 1960s to 1970s\n",
    "    - hard disks allowed more direct access to data\n",
    "    - network and hierachical data models in widespread use\n",
    "    - Ted Codd defines the relational data model\n",
    "        - won the ACM Turing Award in 1981\n",
    "        - IBM -> System R prototype\n",
    "        - UCB -> Ingres prototype\n",
    "    - high-performance transaction processing\n",
    "- 1980s\n",
    "    - research relational prototypes evolve into commercial systems\n",
    "    - SQL becomes industry standard\n",
    "    - first parallel and distributed database systems\n",
    "    - object-oriented database systems\n",
    "- 1990s\n",
    "    - large multi-terabyte data warehouses\n",
    "- early 2000s\n",
    "    - XML and XQuery standards\n",
    "    - automated database administration\n",
    "- late 2000s\n",
    "    - unstructured and semi-structured data\n",
    "    - scalable NoSQL systems (BigTable, Dynamo)"
   ]
  },
  {
   "cell_type": "markdown",
   "metadata": {},
   "source": [
    "# Drawbacks of File Systems\n",
    "\n",
    "- file systems lead to data **redundancy and inconsistency**\n",
    "    - multiple file formats, duplication of information in different files\n",
    "- file systems **cannot answer queries directly**\n",
    "    - write a new program to carry out each new task\n",
    "    - one data set may be scattered across multiple files\n",
    "- file systems do **not enforce integrity**\n",
    "    - integrity constriants become buried in program code rather than being stated explicitly\n",
    "    - adding new constraints or changing existing ones is cumbersome\n",
    "- updates in a file system are **not always atomic**\n",
    "    - failures may leave data in an inconsistent state with partial updates carried out\n",
    "- file systems offer **limited support for concurrent access** by multiple users\n",
    "    - concurrent access needed for performance\n",
    "    - uncontrolled concurrent accesses can lead to inconsistencies\n",
    "- file systems do not provide sufficient **security**\n",
    "    - difficult to provide access to a specific subset of the data\n",
    "\n",
    "A database management system (DBMS) offers solutions to above problems\n"
   ]
  },
  {
   "cell_type": "markdown",
   "metadata": {},
   "source": [
    "# Levels of Abstraction in a Database\n",
    "\n",
    "![Snip20190909_13.png](img/Snip20190909_13.png)\n",
    "\n",
    "- **physical level**: describes how a record (e.g., customer) is stored\n",
    "    - e.g., customers are stored in ascending order by ID, and there is a secondary index on the name attribute\n",
    "- **logical level**: describes the structure of the data stored in a database, and the relationships among the data\n",
    "    - e.g., an instructor has an ID and name, and belongs to some department\n",
    "- **view level**: describes a virtual structure of the data imposed by the database designer on top of the logical level (e.g., a virtual table defined as the result of querying a base table or joining two base tables)"
   ]
  },
  {
   "cell_type": "markdown",
   "metadata": {},
   "source": [
    "# Physical vs Logical Schemas\n",
    "\n",
    "- **Schema**: the shape or structure of the database\n",
    "    - **physical schema**: design at physical level (storage, file formats, indexes)\n",
    "    - **logical schema**: design at logical level (data types, relations, rows, columns)\n",
    "- **Physical Data Independence**: the ability to modify the physical schema without changing the logical schema or the application program\n",
    "    - e.g., a table that is accessed frequently can be moved to a faster disk without breaking any of the queries\n",
    "    - e.g., an index can be added to speed up a specific query without breaking that query or other queries\n",
    "- **Logical Data Independence**: the ability to modify the logical schema without changing the application program\n",
    "    - e.g., a new table can be added to the logical schema without breaking any of the queries defined over existing tables or views\n",
    "    - e.g., a coulmn can be added to a table without breaking any of the queries that access the table or any view defined over the table"
   ]
  },
  {
   "cell_type": "markdown",
   "metadata": {},
   "source": [
    "# Structure of a Modern Database\n",
    "\n",
    "![Snip20190909_14.png](img/Snip20190909_14.png)"
   ]
  },
  {
   "cell_type": "code",
   "execution_count": null,
   "metadata": {},
   "outputs": [],
   "source": []
  }
 ],
 "metadata": {
  "kernelspec": {
   "display_name": "Python 3",
   "language": "python",
   "name": "python3"
  },
  "language_info": {
   "codemirror_mode": {
    "name": "ipython",
    "version": 3
   },
   "file_extension": ".py",
   "mimetype": "text/x-python",
   "name": "python",
   "nbconvert_exporter": "python",
   "pygments_lexer": "ipython3",
   "version": "3.7.4"
  }
 },
 "nbformat": 4,
 "nbformat_minor": 2
}
