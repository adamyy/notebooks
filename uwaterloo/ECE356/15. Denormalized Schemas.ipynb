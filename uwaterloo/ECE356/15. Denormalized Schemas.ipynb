{
 "cells": [
  {
   "cell_type": "markdown",
   "metadata": {},
   "source": [
    "# Data Fragmentation (Partitioning)\n",
    "\n",
    "- division of relation $r$ into fragments $r_1, r_2, ..., r_n$ that contain sufficient information to reconstruct relation $r$\n",
    "\n",
    "\n",
    "\n",
    "- **horizontal fragmentation**: each tuple of $r$ is assigned to one or more fragments stoerd at different servers\n",
    "    - advantages: allows parallel processing on fragments of a relation, which leads to scalability; allows a relation to be split so that tuples are located where they are most frequently accessed\n",
    "\n",
    "<img src=\"img/Snip20191118_42.png\" width=80%/>\n",
    "\n",
    "\n",
    "\n",
    "\n",
    "- **vertical fragmentation**: the schema for relation $r$ is split into several smaller schemas\n",
    "    - all schemas must contain a common candidate key (or superkey) to ensure the lossless join property\n",
    "    - a special attribute, the tuple-id attribute, may be added to each schema to serve as a candidate key\n",
    "    \n",
    "<img src=\"img/Snip20191118_43.png\" width=80%/>\n",
    "\n",
    "\n",
    "- vertical and horizontal fragmentation can be mixed\n"
   ]
  },
  {
   "cell_type": "markdown",
   "metadata": {},
   "source": [
    "# Practical Considerations\n",
    "\n",
    "- suppose that a relation has $k$ attributes and $n$ tuples\n",
    "    - horizontal fragmentation makes it possible to partition the table across up to $n$ fragments\n",
    "    - vertical fragmentation makes it possible to partition the table across up to $k$ fragments\n",
    "    - $n>>k$ in practice, thus horizontal partitioning enables greater scalability\n",
    "\n",
    "\n",
    "- \\[**Hash Partitioning**\\] the simplest strategy for horizontal fragmentation is to determine the fragment by applying a hash function to a **partitioning key**, usually the primary key or a prefix of the primary key\n",
    "    - tends to spread the storage load uniformly across fragments or partitions\n",
    "    - does not always spread the computation load well since some tuples may be accessed much more frequenctly than others\n",
    "\n",
    "- the hash function can be designed in such a way that when the $n$th server is added to the cluster, roughly $1/n$ the fragments will be re-hashed, which ccan be accomplished using **consistent hashing**\n",
    "    \n",
    "\n",
    "\n"
   ]
  },
  {
   "cell_type": "markdown",
   "metadata": {},
   "source": [
    "# Data Modeling for Horizontal Fragmentation\n",
    "\n",
    "- Goals\n",
    "    - spread data evenly (accomplished through hash-partitioning)\n",
    "    - minimize the number of partitions/fragments read (accomplished by choosing an appropriate partitioning key)\n",
    "- Non-goals\n",
    "    - minimize number of writes (ordinarily accomplished by avoiding data duplication)\n",
    "    - minimize data duplication (ordinarily accomplished through normalization)\n"
   ]
  },
  {
   "cell_type": "markdown",
   "metadata": {},
   "source": [
    "# Choosing the Partitioning Key\n",
    "\n",
    "- a *small* query can be answered more quickly if it refers to only one fragment of the database\n",
    "    - e.g., `SELECT account_name FROM account WHERE branch_name='Hillside'`, the partitioning key that best serves this query is `(branch_name)` since the query may access multiple accounts in the same branch by referring to only one partition\n",
    "    - `(branch_name)` as partitioning key also works well for `SELECT branch_name, count(*) FROM account GROUP BY branch_name`\n"
   ]
  },
  {
   "cell_type": "markdown",
   "metadata": {},
   "source": [
    "# Adding Redundancy: Example 1\n",
    "\n",
    "- $instructor(\\underline{\\textrm{ID}}, name, dept\\_name, salary)$\n",
    "- $department(\\underline{dept\\_name}, building, budget)$\n",
    "\n",
    "\n",
    "- consider `SELECT building FROM instructor NATURAL JOIN department WHERE ID = 123`\n",
    "\n",
    "- we want to avoid accessing multiple fragments/partitions\n",
    "- $instructor$ must be partitioned on $\\textrm{ID}$ to allow efficient lookup of $dept\\_name$\n",
    "- $department$ must be partitioned on $dept\\_name$ to allow efficient lookup of building\n",
    "\n",
    "## Option - Demormalized Schema with Duplicated Attribute\n",
    "\n",
    "\n",
    "- $instructor(\\underline{\\textrm{ID}}, name, dept\\_name, building, salary)$\n",
    "- $department(\\underline{dept\\_name}, building, budget)$\n",
    "\n",
    "\n",
    "- violates both 3NF and BCNF, and now there is update anomaly\n",
    "- no joins needed for previous query: `SELECT building FROM instructor WHERE ID = 123`\n",
    "- the query can be answered efficiently (i.e., by referring to one partition) if $instructor$ is partitioned by its primary key ID\n",
    "\n",
    "## Option - Introducing Redundant Relation\n",
    "\n",
    "- $id\\_builidng(\\underline{\\textrm{ID}}, building)$\n",
    "- satisfies both 3NF and BCNF\n",
    "- no joins: `SELECT building FROM id_building WHERE ID = 123`\n",
    "- the query can be answered efficiently if $id\\_building$ is partitioned by its primary key ID\n",
    "\n",
    "\n",
    "- **disadvantages**\n",
    "    - both ID and building are now duplicated\n",
    "    - the additional relation is only useful for answering one query (i.e., look up *building* given ID)\n",
    "    \n",
    "\n"
   ]
  },
  {
   "cell_type": "markdown",
   "metadata": {},
   "source": [
    "# Adding Redundancy: Example 2\n",
    "\n",
    "- assume instructor-to-department mapping is many-to-many\n",
    "    - $instructor(\\underline{\\textrm{ID}}, name, salary)$\n",
    "    - $department(\\underline{dept\\_name}, building, budget)$\n",
    "    - $inst\\_dept(\\underline{\\textrm{ID}}, \\underline{dept\\_name})$\n",
    "\n",
    "\n",
    "- consider `SELECT building FROM inst_dept NATURAL JOIN department WHERE ID = 123`\n",
    "\n",
    "## Option - Denormalize Schema with Duplicated Attribute & Multi-valued Attribute\n",
    "\n",
    "- $instructor(\\underline{\\textrm{ID}}, name, salary, \\textrm{List}<building>)$\n",
    "\n",
    "\n",
    "- speeds up building query (one fragment / one row accessed)\n",
    "- **disadvantages**\n",
    "    - multiple buildings stored in one instructor tuple (1NF violation)\n",
    "    - multi-valued attributes not supported directly by most databases\n",
    "\n",
    "\n",
    "- going further, the schema can be redunced to one relation: $instructor(\\underline{\\textrm{ID}}, name, salary, \\textrm{List}<dept\\_name, building, budget>)$\n",
    "    - lookup of instructor by `dept_name` becomes hard\n",
    "\n",
    "## Option - Denormalize Schema with Duplicated Attribute\n",
    "\n",
    "- $instructor(\\underline{\\textrm{ID}}, name, salary)$\n",
    "- $department(\\underline{dept\\_name}, building, budget)$\n",
    "- $inst\\_dept(\\underline{\\textrm{ID}}, \\underline{dept\\_name}, building)$\n",
    "\n",
    "- the query can be answered directly by inst_dept, efficiently if inst_dept is partitioned by ID, and not the case if the partitioning key is the entire primary key because in that case the department name would have to be looked up first\n",
    "\n"
   ]
  },
  {
   "cell_type": "code",
   "execution_count": null,
   "metadata": {},
   "outputs": [],
   "source": []
  }
 ],
 "metadata": {
  "kernelspec": {
   "display_name": "Python 3",
   "language": "python",
   "name": "python3"
  },
  "language_info": {
   "codemirror_mode": {
    "name": "ipython",
    "version": 3
   },
   "file_extension": ".py",
   "mimetype": "text/x-python",
   "name": "python",
   "nbconvert_exporter": "python",
   "pygments_lexer": "ipython3",
   "version": "3.7.5"
  }
 },
 "nbformat": 4,
 "nbformat_minor": 2
}
