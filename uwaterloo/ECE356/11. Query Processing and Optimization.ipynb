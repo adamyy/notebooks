{
 "cells": [
  {
   "cell_type": "markdown",
   "metadata": {},
   "source": [
    "- DBMS has a query processor which includes a query evaluation engine\n",
    "- the query processor translates every SQL query submitted by an application to a concrete evaluation plan\n",
    "- the evaluation engine then executues the plan by interacting with the storage manager layer\n",
    "- the storage manager is responsible for fetching rows from tables, inserting and updating rows, enforcing integrity constraints, and performing concurrency control and managing transactions\n",
    "\n",
    "<img src=\"img/Snip20191104_114.png\"/>"
   ]
  },
  {
   "cell_type": "markdown",
   "metadata": {},
   "source": [
    "# Query Processing\n",
    "\n",
    "<img src=\"img/Snip20191104_115.png\" width=80%/>\n",
    "\n",
    "1. Parsing and translation\n",
    "2. Optimization\n",
    "3. Evaluation"
   ]
  },
  {
   "cell_type": "markdown",
   "metadata": {},
   "source": [
    "# Query Optimization and Evaluation\n",
    "\n",
    "- one relational algebra expression may have many equivalent expressions\n",
    "- each relational algebra operation can be evaluated using one of several different algorithms\n",
    "    - there are many ways to evaluate a given relational algebra expression\n",
    "- an **evaluation plan** is an annotated expression specifying the detailed evaluation strategy for a given query\n",
    "    - e.g., join instructor with teaches first, then join with course\n",
    "    - e.g., use an index on salary to find instructors with salary < 75000\n",
    "- optimizing a query entails reasoning about the following\n",
    "    - equivalent relational algebra expressions for the query\n",
    "    - possible evaluation plans for each candidate RA expression\n",
    "    - cost of each candidate evaluation plan\n",
    "- assuming that we can settle on a meaningful definition of *cost*, optimizing a query entails finding the equivalent RA expression and evaluation plan that *minimize the cost*\n",
    "- **Cost** is **estimated** in practice using statistical information recorded in the system catalog, examples:\n",
    "    - \\# of tuples in a table, # of entries in an index\n",
    "    - size of each tuple or index entry, height of a B+tree index\n",
    "    - **cadinality** of an attribute: # distinct attribute values stored\n",
    "    - **selectivity** of an index: cadinality of indexed attribute(s) / total # of index entries\n",
    "\n"
   ]
  },
  {
   "cell_type": "markdown",
   "metadata": {},
   "source": [
    "# Engineer's Dilemma\n",
    "\n",
    "- adding indexes can speed up some queries drastically\n",
    "- indexing slows down insertions and updates\n",
    "- looking up an index repeatedly during a join is not necessarily faster than scanning the inner relation\n",
    "    - indexed nested loops joins vs block nested loops join\n",
    "- DBMS may create the most important indexes automatically and it may not offer many choices of index structure \n",
    "- it is difficult to outsmart a good query optimizer, which has access to detailed statistics about tables and uses elaborate optimization algorithms\n",
    "\n",
    "## Properly Designing Good Physical Schemas\n",
    "- using a basic understanding of query evaluation, making an educated guess as to what index or indexes might benefit the most important queries\n",
    "- inspect the evaluation plan for a given query to understand how an index is used by the query optimizer\n",
    "- determining the impact of adding an index by measuring performancne differences empirically\n"
   ]
  },
  {
   "cell_type": "markdown",
   "metadata": {},
   "source": [
    "# Index Extensions\n",
    "\n",
    "- **index extension**: when the DBMS automatically appends the primary key to each secondary index enrty\n",
    "    - example: a secondary index on department.building has entries of the form <building, dept_name>\n",
    "- advantages\n",
    "    - make it possible to physically relocate table rows without having to update all secondary indexes\n",
    "    - enable efficient evaluation of queries that refer to both the primary key and non-key attributes\n",
    "- disadvantages\n",
    "    - retrieving a department record given the building requires an additional primary index lookup\n",
    "    - the secondary index becomes larger and less likely to remain buffered in main memory\n"
   ]
  },
  {
   "cell_type": "markdown",
   "metadata": {},
   "source": [
    "# Covering Indexes\n",
    "\n",
    "- **Covered Query**: a query that can evaluated using indexes only, without accessing the tables\n",
    "- **Covering Index** (with respect to a covered query): an index that is used to evaluate the covered query\n",
    "\n",
    "- example: `SELECT ID FROM instructor WHERE dept_name = \"Finance\" AND salary < 80000`\n",
    "    - suppose that a secondary B+tree index is defined on <dept_name, salary>, due to the extension, the entries of this index are triples of the form (dept_name, salary, ID), such an index is a covering index for the above query\n",
    "\n"
   ]
  },
  {
   "cell_type": "markdown",
   "metadata": {},
   "source": [
    "# Index Size\n",
    "\n",
    "- the smaller the index, the more likely it is to remain buffered in main memory and the lower the cost of accessing that index\n",
    "- techinques to reduce the size of an index\n",
    "    - *shorten the primary key*\n",
    "        - instead of making a VARCHAR the primary key, create a shorter fixed-length **surrogate key** by adding an auto-increment ID attribute to department (replace VARCHART with integers)\n",
    "        - if index extension is used, this optimization also benefits all secondary indexes on department\n",
    "    - **index only a prefix of a column**\n",
    "        - instead of indexing the VARCHAR attribute in full, index only the first n characters\n",
    "        "
   ]
  },
  {
   "cell_type": "code",
   "execution_count": null,
   "metadata": {},
   "outputs": [],
   "source": []
  }
 ],
 "metadata": {
  "kernelspec": {
   "display_name": "Python 3",
   "language": "python",
   "name": "python3"
  },
  "language_info": {
   "codemirror_mode": {
    "name": "ipython",
    "version": 3
   },
   "file_extension": ".py",
   "mimetype": "text/x-python",
   "name": "python",
   "nbconvert_exporter": "python",
   "pygments_lexer": "ipython3",
   "version": "3.7.5"
  }
 },
 "nbformat": 4,
 "nbformat_minor": 2
}
