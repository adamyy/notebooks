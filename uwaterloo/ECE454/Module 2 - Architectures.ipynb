{
 "cells": [
  {
   "cell_type": "markdown",
   "metadata": {},
   "source": [
    "## Definitions \n",
    "\n",
    "- **Component**: a modular unit with well-defined interfaces\n",
    "- **Connector**: a mechanism that mediates communication, coordination, or cooperation among components\n",
    "- **Software architecture**: organization of software component\n",
    "- **System architecture**: instantiation of software architecture in which software components are placed on real machines\n",
    "- **Autonomic system**: adapts to its environment by monitoring its own behavior and reacting accordingly"
   ]
  },
  {
   "cell_type": "markdown",
   "metadata": {},
   "source": [
    "## Architectural Styles\n",
    "\n",
    "Many distributed software systems conform to one of the following architectural styles\n",
    "\n",
    "- Layered\n",
    "- Object-based\n",
    "- Data-centered\n",
    "- Event-based"
   ]
  },
  {
   "cell_type": "markdown",
   "metadata": {},
   "source": [
    "## Layered Architecture\n",
    "\n",
    "- Control flows from layer to layer: requests flow down the hierarchy and responses flow upward\n",
    "\n",
    "<img src=\"img/Snip20200515_1.png\" width=50%/>\n",
    "\n",
    "\n",
    "## Variations on Layers\n",
    "\n",
    "<img src=\"img/Snip20200515_2.png\" width=80%/>"
   ]
  },
  {
   "cell_type": "markdown",
   "metadata": {},
   "source": [
    "## Client-Server Interactions\n",
    "\n",
    "Interactions among components often follow a client-server pattern in which one component (client) requests a service from another component (server) and waits for a response \n",
    "\n",
    "<img src=\"img/Snip20200515_3.png\" width=60%/>"
   ]
  },
  {
   "cell_type": "markdown",
   "metadata": {},
   "source": [
    "## Application Layering\n",
    "\n",
    "Many enterprise systems are organized into three layers: user interface, application server, and database; in which the middle layer acts both as a client and a server\n",
    "\n",
    "<img src=\"img/Snip20200515_4.png\" width=80%/>"
   ]
  },
  {
   "cell_type": "markdown",
   "metadata": {},
   "source": [
    "## Multi-tiered Architectures\n",
    "\n",
    "Logical software layers must be mapped onto physical **tiers**, with a two-tiered architecture comprises client machines and server machines only, one can have several alternative mappings of the three layer architecture listed above\n",
    "\n"
   ]
  },
  {
   "cell_type": "markdown",
   "metadata": {},
   "source": [
    "## Horizontal vs Vertical Distribution\n",
    "\n",
    "\n",
    "- **Veritical distribution**: when the logical layers of a system are organized as separate physical tiers\n",
    "    - e.g., use separate machines for the application server and database\n",
    "\n",
    "\n",
    "- **Horizontal distribution**: when one logical layer is split across multiple machines\n",
    "    - e.g., a data set is hash-partitioned across multiple independent database instances running on separate machines (also known as **sharding**)\n"
   ]
  },
  {
   "cell_type": "markdown",
   "metadata": {},
   "source": [
    "## Object-based Architecture\n",
    "\n",
    "Components are more loosely organized in an object-based architecture.\n",
    "Objects communicate with each other using RPC protocols or libraries like the Java RMI (remote method invocation)\n",
    "\n",
    "<img src=\"img/Snip20200515_5.png\" width=50%/>\n"
   ]
  },
  {
   "cell_type": "markdown",
   "metadata": {},
   "source": [
    "## Data-centered Architecture\n",
    "\n",
    "Components communicate by accessing a shared data repository such as a database, storage system, or file system; web applications often incorporate such pattern\n",
    "\n",
    "<img src=\"img/Snip20200515_6.png\" width=50%/>"
   ]
  },
  {
   "cell_type": "markdown",
   "metadata": {},
   "source": [
    "## Event-based Architecture\n",
    "\n",
    "Components communicate by propagating events. **Publish/Subscribe systems** can be used for sharing news, balancing workloads, refreshing distributed caches, event logging, and asynchronous workflows\n",
    "\n",
    "|||\n",
    "|---|---|\n",
    "|<img src=\"img/Snip20200515_7.png\"/>|<img src=\"img/Snip20200515_8.png\"/>|"
   ]
  },
  {
   "cell_type": "markdown",
   "metadata": {},
   "source": [
    "## Peer-to-peer Systems\n",
    "\n",
    "P2P systems **rely on horizontal distribution** and are designed to deal with **churn** (**machines joining and leaving**). They organize processes in an **overlay network** that defines a set of communication channels\n",
    "\n",
    "\n",
    "Example: Chord, a P2P distributed hash table (DHT) uses a ring overlay\n",
    "\n",
    "<img src=\"img/Snip20200515_9.png\" width=30%>\n",
    "\n"
   ]
  },
  {
   "cell_type": "markdown",
   "metadata": {},
   "source": [
    "## Hybrid Architecture\n",
    "\n",
    "BitTorrent combines client-server and P2P architectures.\n",
    "Client nodes obtain tracker information from a server and then exchange data with peer nodes.\n",
    "\n",
    "<img src=\"img/Snip20200515_10.png\" width=80%/>"
   ]
  },
  {
   "cell_type": "markdown",
   "metadata": {},
   "source": [
    "## Self-management\n",
    "\n",
    "Self-managing systems can be constructed using a **feedback control loop** that monitors system behaviors and adjusts the system's internal operation (e.g., data placement, scheduling)\n",
    "\n",
    "<img src=\"img/Snip20200515_11.png\" width=80%/>"
   ]
  },
  {
   "cell_type": "markdown",
   "metadata": {},
   "source": []
  },
  {
   "cell_type": "code",
   "execution_count": null,
   "metadata": {},
   "outputs": [],
   "source": []
  }
 ],
 "metadata": {
  "kernelspec": {
   "display_name": "Python 3",
   "language": "python",
   "name": "python3"
  },
  "language_info": {
   "codemirror_mode": {
    "name": "ipython",
    "version": 3
   },
   "file_extension": ".py",
   "mimetype": "text/x-python",
   "name": "python",
   "nbconvert_exporter": "python",
   "pygments_lexer": "ipython3",
   "version": "3.7.6"
  },
  "toc": {
   "base_numbering": 1,
   "nav_menu": {},
   "number_sections": false,
   "sideBar": false,
   "skip_h1_title": false,
   "title_cell": "Table of Contents",
   "title_sidebar": "Contents",
   "toc_cell": false,
   "toc_position": {},
   "toc_section_display": false,
   "toc_window_display": false
  }
 },
 "nbformat": 4,
 "nbformat_minor": 4
}
