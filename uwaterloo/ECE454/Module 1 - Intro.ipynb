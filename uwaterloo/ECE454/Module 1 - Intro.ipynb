{
 "cells": [
  {
   "cell_type": "markdown",
   "metadata": {},
   "source": [
    "## What is a distributed system\n",
    "\n",
    "- A collection of autonomous computing elements that appears to its users as a single coherent system; a software system in which components located on networked computers communicate and coordinate their actions by passing messages\n",
    "    - Leslie Lamport (2013 Turing Award recipient): a system in which the failure of one computer can render others unusable (e.g., DNS sinkhole)\n",
    "    - Maarten van Steen: easy to disassemble but hard to put back together\n",
    "\n"
   ]
  },
  {
   "cell_type": "markdown",
   "metadata": {},
   "source": [
    "## Why build distributed system\n",
    "\n",
    "1. Resource sharing saves money\n",
    "    - Office staff share a printer and a file server\n",
    "    \n",
    "\n",
    "2. Integrating multiple systems into one can simplify business processes\n",
    "    - payroll system talk to accounting system\n",
    "\n",
    "\n",
    "3. A centralized system may not be powerful or dependable enough to solve a problem\n",
    "    - Google search does not fit on a single server\n",
    "\n",
    "\n",
    "4. In some scenarios the users are distributed around the world\n",
    "    - Social network"
   ]
  },
  {
   "cell_type": "markdown",
   "metadata": {},
   "source": [
    "## Middleware\n",
    "\n",
    "- In order to support heterogeneous computers and networks while offering a **single-system view**, distributed systems are often organized as middleware: *a layer of software that separates applications from the underlying platforms*\n",
    "\n",
    "<img src=\"img/Snip20200511_1.png\" width=80%/>\n",
    "\n",
    "### Common Middleware Services\n",
    "\n",
    "- Communication\n",
    "    - e.g., add job to remote queu\n",
    "- Transactions\n",
    "    - e.g., access two independent services automatically\n",
    "- Service composition\n",
    "    - e.g., Google map enhanced with weather forecast\n",
    "- Reliability\n",
    "    - e.g., replicated state machine"
   ]
  },
  {
   "cell_type": "markdown",
   "metadata": {},
   "source": [
    "## Goals of Distributed Systems\n",
    "\n",
    "- Supporting resource sharing\n",
    "- Making distribution transparent\n",
    "    - Users should not be aware of the distributed essence of the system\n",
    "    - Achieveing 100% transparency is impossible\n",
    "- Being open\n",
    "- Being scalable\n",
    "    - Increase performance by horziontal scaling\n",
    "\n",
    "### Supporting Resource Sharing\n",
    "\n",
    "- Peripheral devices (e.g., printers, video cameras)\n",
    "- Storage facilities (e.g., file server)\n",
    "- Enterprise data (e.g., contact info, payroll)\n",
    "- Web pages (e.g., web search)\n",
    "- CPUs (e.g., supercomputer)\n",
    "\n",
    "### Making Distribution Transparent\n",
    "\n",
    "- Distributed systems, particularly middleware systems, attempt to provide **distribution transparency**, that is to hide the fact that processes and resources are physically distributed\n",
    "\n",
    "|Transparency|Description|\n",
    "|:---|:---|\n",
    "|**Access**|Hide differences in data representation and how a resource is accessed (e.g., copper wire cables vs optical cables)|\n",
    "|**Location**|Hide where a resource is located (e.g., server location)|\n",
    "|**Migration**|Hide that a resource may move to another location (e.g., DNS for dynamic IPs)|\n",
    "|**Relocation**|Hide that a resource may be moved to another location while in use|\n",
    "|**Replication**|Hide that a resource is replicated (e.g., uploading files to S3)|\n",
    "|**Concurrency**|Hide that a resource may be shared by several competitive users (e.g., multiple users sharing a single cloud drive)|\n",
    "|**Failure**|Hide the failure and recovery of a resource (e.g., resume download from a different server when one server fails)|\n",
    "\n",
    "### Being Open\n",
    "\n",
    "- An **open distributed system** offers components that can be easily used by or integrated into other systems, the openness properties:\n",
    "    - Interoperability\n",
    "        - Defining clear interfaces\n",
    "        - Middleware provides a RPC interface for multiple communicating parties\n",
    "    - Composability\n",
    "        - Defining modules that can be reused in multiple components\n",
    "    - Extensibility\n",
    "    - Separation of policy from mechanism\n",
    "        - Configurable parameters for changing a system's behavior\n",
    "\n",
    "### Being Scalable\n",
    "\n",
    "- **Scalability** is a system's ability to expand along three axes\n",
    "    - Size (e.g., adding users and resources)\n",
    "    - Geography (e.g., users on different continents)\n",
    "    - Administration (e.g., multiple independent admins)\n",
    "\n",
    "\n",
    "- Design concepts tend to limit scalability\n",
    "    - Centralized service (e.g., a single server for all users)\n",
    "    - Centralized data (e.g., a single online telephone book)\n",
    "    - Centralized algorithms (e.g., routing based on complete information)\n",
    "\n",
    "\n",
    "- Scaling techniques\n",
    "    - Hiding communication latencies, e.g., validating web form at server vs at client\n",
    "    - Replication, e.g., using distributed memory cache to speed up web application\n",
    "    - Partitioning, e.g., original DNS name space was divided into zones\n"
   ]
  },
  {
   "cell_type": "markdown",
   "metadata": {},
   "source": [
    "## Fallacies/Pitfalls of Networked and Distributed Computing\n",
    "\n",
    "1. The network is reliable\n",
    "2. The network is secure\n",
    "3. The network is homogeneous\n",
    "4. The topology does not chaneg\n",
    "5. The latency is zero\n",
    "6. The bandwidth is infinite\n",
    "7. Transport cost is zero\n",
    "8. There is one administrator\n"
   ]
  },
  {
   "cell_type": "markdown",
   "metadata": {},
   "source": [
    "## Types of Distributed Systems\n",
    "\n",
    "- Websites and web services \n",
    "- High performance computing (HPC)\n",
    "- Cluster computing (e.g., Hadoop, Spark)\n",
    "- Cloud and grid computing\n",
    "- Transaction processing\n",
    "- Enterprise application integration (EAI)\n",
    "- Distributed pervasive systems / Internet of things (IoT)\n",
    "- Sensor networks"
   ]
  },
  {
   "cell_type": "markdown",
   "metadata": {},
   "source": [
    "## High Performance Computing\n",
    "\n",
    "<img src=\"img/Snip20200513_1.png\" width=80%/>"
   ]
  },
  {
   "cell_type": "markdown",
   "metadata": {},
   "source": [
    "## Shared Memory vs Message Passing Paradigms\n",
    "\n",
    "#### Shared Memory Paradigm\n",
    "\n",
    "- Threads communicate by accessig shared variables, easier to program but requires shared variable abstraction\n",
    "- Used heavily for solving CPU-intensive problems\n",
    "- Tend to be called \"parallel computing\"\n",
    "\n",
    "#### Message Passing Paradigms\n",
    "\n",
    "- Processes communicate by sending and receiving messages over a network (more scalable but programmer deals with messages)\n",
    "- Used heavily for resource sharing and coordination\n",
    "- Tend to be called \"distributed computing\"\n",
    "\n"
   ]
  },
  {
   "cell_type": "markdown",
   "metadata": {},
   "source": [
    "## Cluster Computing Systems\n",
    "\n",
    "- One of the most common type message passing systems\n",
    "- Cluster computing frameworks distribute CPU or I/O intensive jobs across multiple servers\n",
    "\n",
    "<img src=\"img/Snip20200513_2.png\" width=80%/>\n",
    "\n"
   ]
  },
  {
   "cell_type": "markdown",
   "metadata": {},
   "source": [
    "## Cloud and Grid Computing\n",
    "\n",
    "- Grid computing, also called commodity computing\n",
    "\n",
    "<img src=\"img/Snip20200513_3.png\" width=80%/>\n",
    "\n",
    "\n"
   ]
  },
  {
   "cell_type": "markdown",
   "metadata": {},
   "source": [
    "## Transaction Processing Systes\n",
    "\n",
    "- Distributed transactions are coordinated by a **transaction processing (TP) monitor**\n",
    "- To ensure atomocity, implement atomic transaction commitment protocol, which can be a feature of the TP monitor\n",
    "\n",
    "<img src=\"img/Snip20200513_4.png\" width=80%/>"
   ]
  },
  {
   "cell_type": "markdown",
   "metadata": {},
   "source": [
    "## Enterprise Application Integration\n",
    "\n",
    "- Middleware is often used as a communication facilitator\n",
    "\n",
    "<img src=\"img/Snip20200513_5.png\" width=80%/>"
   ]
  },
  {
   "cell_type": "markdown",
   "metadata": {},
   "source": [
    "## Sensor Networks\n",
    "\n",
    "- Relies heavily on **in-network data processing** to reduce communication costs\n",
    "- Example: activity tracking in smartwatches\n",
    "\n",
    "<img src=\"img/Snip20200513_6.png\" width=80%/>"
   ]
  },
  {
   "cell_type": "code",
   "execution_count": null,
   "metadata": {},
   "outputs": [],
   "source": []
  }
 ],
 "metadata": {
  "kernelspec": {
   "display_name": "Python 3",
   "language": "python",
   "name": "python3"
  },
  "language_info": {
   "codemirror_mode": {
    "name": "ipython",
    "version": 3
   },
   "file_extension": ".py",
   "mimetype": "text/x-python",
   "name": "python",
   "nbconvert_exporter": "python",
   "pygments_lexer": "ipython3",
   "version": "3.7.6"
  },
  "toc": {
   "base_numbering": 1,
   "nav_menu": {},
   "number_sections": false,
   "sideBar": false,
   "skip_h1_title": false,
   "title_cell": "Table of Contents",
   "title_sidebar": "Contents",
   "toc_cell": false,
   "toc_position": {},
   "toc_section_display": false,
   "toc_window_display": false
  }
 },
 "nbformat": 4,
 "nbformat_minor": 4
}
