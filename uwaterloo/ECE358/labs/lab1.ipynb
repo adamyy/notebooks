{
 "cells": [
  {
   "attachments": {},
   "cell_type": "markdown",
   "metadata": {},
   "source": [
    "# Kendall Notation\n",
    "\n",
    "queues are typically described using Kendall notation of the form: A/S/C/K/D\n",
    "- A: arrival process of the packets (the distribution of the inter-arrival time between packets), can be M (Markovian), D (Deterministic) or G(General)\n",
    "    - Markovian process means that the process follows a Poisson distribution, in which the distribution of the time between successive arrivals follows exponential distribution\n",
    "- S: server process for the packets, can be M, D or G\n",
    "    - a server process of M means that the distribution of the service time is identical for each packet, is independent from one to another, and is exponentially distributed\n",
    "- C: number of servers (or network interfaces)\n",
    "- K: buffer size (number of packets that can be accommodated), if omitted, the buffer is assumed to be infinitely large\n",
    "- D: queueing discipline, which is always FIFO and therefore often omitted from the notation\n",
    "\n",
    "<img src=\"img/Snip20190911_57.png\" width=60% />\n",
    "\n",
    "the queues of concerns for this lab are M/M/1 and M/M/1/K"
   ]
  },
  {
   "cell_type": "markdown",
   "metadata": {},
   "source": []
  }
 ],
 "metadata": {
  "kernelspec": {
   "display_name": "Python 3",
   "language": "python",
   "name": "python3"
  },
  "language_info": {
   "codemirror_mode": {
    "name": "ipython",
    "version": 3
   },
   "file_extension": ".py",
   "mimetype": "text/x-python",
   "name": "python",
   "nbconvert_exporter": "python",
   "pygments_lexer": "ipython3",
   "version": "3.7.3"
  }
 },
 "nbformat": 4,
 "nbformat_minor": 2
}
