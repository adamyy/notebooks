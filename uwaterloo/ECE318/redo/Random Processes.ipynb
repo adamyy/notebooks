{
 "cells": [
  {
   "cell_type": "markdown",
   "metadata": {},
   "source": [
    "# Random Variables\n",
    "\n",
    "- mean: $\\mu = E[X] = \\int_{-\\infty}^{\\infty}xf_X(x) dx$\n",
    "- variance: $\\sigma^2 = Var[X] = E[(X-\\mu)^2] = \\int_{-\\infty}^{\\infty} (x-\\mu)^2 f_X(x) dx$\n",
    "- second moment: $E[X^2] = \\int_{-\\infty}^{\\infty} x^2 f_X(x) dx$"
   ]
  },
  {
   "cell_type": "markdown",
   "metadata": {},
   "source": [
    "# Correlation and Covariance\n",
    "\n",
    "- let $X$ and $Y$ be two random variables with respective PDFs $f_X(x)$ and $f_Y(y)$, and let $f_{X, Y}(x, y)$ be their joint PDF\n",
    "    - $X$ and $Y$ are said to be independent if and only if $f_{X,Y}(x,y) = f_X(x)f_Y(y)$\n",
    "    - let $Z=g(X,Y)$ then $Z$ is also a random variable, whose mean is given by $E[g(X,Y)] = \\int_{-\\infty}^{\\infty}\\int_{-\\infty}^{\\infty} g(x,y) f_{X,Y}(x, y) dxdy$\n",
    "\n",
    "\n",
    "- if $g(X,Y) = XY$, then $E[g(X,Y)] = E[XY]$ is the **correlation** of $X$ and $Y$\n",
    "- if $g(X,Y) = (X-\\mu_X)(Y-\\mu_Y)$ then $E[g(X,Y)] = Cov(X,Y) = E[(X-\\mu_X)(Y-\\mu_Y)]$ is called the **covariance** of $X$ and $Y$\n",
    "- if $g(X,Y) = {(X-\\mu_X)(Y-\\mu_Y) \\over \\sigma_X \\sigma_Y}$, then $\\rho(X,Y) = E[g(X,Y)]$ is called the correlation coefficient\n",
    "    - $\\rho(X,Y) = {Cov(X,Y) \\over \\sigma_X \\sigma_Y}$\n",
    "    - if $\\rho = 0$, then $X$ and $Y$ are said to be **uncorrelated**\n",
    "\n"
   ]
  },
  {
   "cell_type": "markdown",
   "metadata": {},
   "source": [
    "# Gaussian Random Variables\n",
    "\n",
    "- $X \\tilde{} \\mathcal{N}(\\mu, \\sigma^2)$\n",
    "\\begin{equation}\n",
    "f_X(x) = \\frac{1}{\\sigma\\sqrt{2\\pi}} e^{-\\frac{(x-\\mu)^2}{2\\sigma^2}}\n",
    "\\end{equation}\n",
    "\n",
    "- Cumulative Distribution Function (CDF)\n",
    "\\begin{equation}\n",
    "F(x) = \\int_{-\\infty}^x f_X(t)dt\n",
    "\\end{equation}\n",
    "\n",
    "- a unit or standard Gaussian random variable has $\\mu = 0$ and $\\sigma = 1$\n",
    "\n",
    "- CDF of the unit Gaussian: $\\phi(x) = \\int_{-\\infty}^x \\frac{1}{\\sqrt{2\\pi}} e^{-t^2/2} dt$\n",
    "    - also $F(x) = \\phi(\\frac{x-\\mu}{\\sigma})$\n"
   ]
  },
  {
   "cell_type": "markdown",
   "metadata": {},
   "source": [
    "# Central Limit Theorem\n",
    "\n",
    "- let $X_1, X_2, ... X_n$ be independent and identically distributed random variables, each of which has mean $\\mu$ and variance $\\sigma^2$, and define \n",
    "\n",
    "\\begin{equation}\n",
    "Z_n = \\frac{1}{\\sigma\\sqrt{n}}\\sum_{i=1}^n (X_i - \\mu)\n",
    "\\end{equation}\n",
    "\n",
    "then $\\lim_{n\\rightarrow \\infty} Pr\\{Z_n \\le z\\} = \\phi(z)$"
   ]
  },
  {
   "cell_type": "markdown",
   "metadata": {},
   "source": [
    "# The Q-Function\n",
    "\n",
    "$Q(x) = 1-\\phi(x)$ is called the Q function and represents the *tail probability*\n",
    "\n",
    "\\begin{equation}\n",
    "Q(x) = \\int_x^{\\infty} {1\\over \\sqrt{2\\pi}} e^{-t^2/2} dt\n",
    "\\end{equation}\n"
   ]
  },
  {
   "cell_type": "markdown",
   "metadata": {},
   "source": [
    "# Random Processes\n",
    "\n",
    "- mean: $\\mu_{X}(t) = E[X(t)] = \\int_{-\\infty}^{\\infty} x f_{X(t)}(x) dx$\n",
    "    - where $f_{X(t)}(x)$ is the PDF of $X(t)$ at time instant $t$\n",
    "- autocorrelation function of $X(t)$:\n",
    "    - a function of two variables, $t_1 = t$ and $t_2 = t + \\tau$\n",
    "    - $R_X(t+\\tau, t) = E[X(t+\\tau) X(t)]$\n"
   ]
  },
  {
   "cell_type": "markdown",
   "metadata": {},
   "source": [
    "# Wide-Sense Stationary (WSS) Processes and Transmission over LTI\n",
    "\n"
   ]
  }
 ],
 "metadata": {
  "kernelspec": {
   "display_name": "Python 3",
   "language": "python",
   "name": "python3"
  },
  "language_info": {
   "codemirror_mode": {
    "name": "ipython",
    "version": 3
   },
   "file_extension": ".py",
   "mimetype": "text/x-python",
   "name": "python",
   "nbconvert_exporter": "python",
   "pygments_lexer": "ipython3",
   "version": "3.7.5"
  }
 },
 "nbformat": 4,
 "nbformat_minor": 2
}
