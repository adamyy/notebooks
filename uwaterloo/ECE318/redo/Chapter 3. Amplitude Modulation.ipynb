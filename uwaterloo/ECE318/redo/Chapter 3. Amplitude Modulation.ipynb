{
 "cells": [
  {
   "cell_type": "markdown",
   "metadata": {},
   "source": [
    "# 3.1 Introduction to Modulation\n",
    "\n",
    "- assuming the analog signal to be transmitted is a lowpass signal $m(t)$ of bandwidth $W$ (thus $M(f) = 0$ for $|f| > W$), the power content of the signal is denoted by\n",
    "\n",
    "\\begin{equation}\n",
    "P_m = lim_{T \\rightarrow \\infty} {1\\over T} \\int_{-T/2}^{T/2} |m(t)|^2 dt\n",
    "\\end{equation}\n",
    "\n",
    "- the message signal $m(t)$ is transmitted through the communication channel by impressing it on a carrier signal of the form\n",
    "\n",
    "\\begin{equation}\n",
    "c(t) = A_c \\cos(2\\pi f_c t + \\phi_c)\n",
    "\\end{equation}\n",
    "\n",
    "- $A_c$: carrier amplitude\n",
    "- $f_c$: carrier frequency\n",
    "- $\\phi_c$: carrier phase\n",
    "\n",
    "\n",
    "- we say the message signal $m(t)$ modulates the carrier signal $c(t)$ in either amplitude, frequency, or phase if after modulation, the amplitude, frequency, or phase of the signal becomes a function of the message signal\n",
    "\n",
    "\n",
    "- modulation converts the message signal $m(t)$ from lowpass to bandpass, in the neighborhood of the carrier frequence $f_c$"
   ]
  },
  {
   "cell_type": "markdown",
   "metadata": {},
   "source": []
  }
 ],
 "metadata": {
  "kernelspec": {
   "display_name": "Python 3",
   "language": "python",
   "name": "python3"
  },
  "language_info": {
   "codemirror_mode": {
    "name": "ipython",
    "version": 3
   },
   "file_extension": ".py",
   "mimetype": "text/x-python",
   "name": "python",
   "nbconvert_exporter": "python",
   "pygments_lexer": "ipython3",
   "version": "3.7.4"
  }
 },
 "nbformat": 4,
 "nbformat_minor": 2
}
