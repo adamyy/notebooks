{
 "cells": [
  {
   "cell_type": "markdown",
   "metadata": {},
   "source": [
    "# Single Sideband (SSB) Modulation\n",
    "\n",
    "- both DSB-LC and DSB-SC occupy a bandwidth of $2B$, we want to reduce the bandwidth requirements\n",
    "- $f(t) \\iff F(\\omega)$, $f^*(t) \\iff F^*(-\\omega)$\n",
    "- for real signals, $f(t)=f^*(t) \\rightarrow F(-\\omega) = F^*(\\omega)$\n",
    "- the spectral density of any real-valued signal exhibits the (Hermitian) symmetry condition w.r.t. $\\omega = 0$\n",
    "- due to the symmetry, one of the sidebands is sufficient to provide the complete information in original signal\n",
    "\n",
    "<img src=\"img/Snip20191008_142.png\" />\n"
   ]
  },
  {
   "cell_type": "markdown",
   "metadata": {},
   "source": [
    "- To have only one sideband (positive or negative) in the baseband spectrum, the signal must be complex\n",
    "\n",
    "- we can construct a baseband *complex signal* that has the same upper sideband as the message $f(t)$ in baseband and zero in the negative frequencies\n",
    "\n",
    "\\begin{equation}\n",
    "Z(\\omega) = \\{^{2F(\\omega), \\omega >0 }_{0, \\omega < 0}\n",
    "\\end{equation}\n",
    "\n",
    "- then, we shift the spectrum of the signal around $\\omega_c$ by multiplying by $e^{j\\omega_c t}$, i.e., we modulate the complex signal representation of $f(t)$\n",
    "- finally, taking the real part of the modulated complex signal $z(t)e^{j\\omega_c t}$ gives a real signal which has only one sideband on the positive frequencies and its mirror image on the negative frequencies\n",
    "\n",
    "- the message $f(t)$ is sent in *phase*, i.e., over $\\cos(\\omega_ct)$\n",
    "- a *transformation of the message* $\\hat{f}(t) = \\sin(\\omega_m t)$ is sent in *quadrature*, i.e., over $\\cos(\\omega_c t + \\pi/2) = -\\sin(\\omega_c t)$\n",
    "- the transformation is obtained by phase-shifting the message by $-\\pi /2$\n",
    "- the $-\\pi/2$ phase shifting, referred to as **Hilbert Transform**, can be applied to any message\n"
   ]
  },
  {
   "cell_type": "markdown",
   "metadata": {},
   "source": [
    "## Generation of SSB Signals\n",
    "\n",
    "<img src=\"img/Snip20191016_165.png\" width=80%/>\n",
    "\n",
    "- $\\hat{f}(t)$ is called the *quadrature function* of $f(t)$, or the *Hilbert transform* of $f(t)$\n",
    "\n",
    "<img src=\"img/Snip20191016_166.png\" width=80%/>\n",
    "\n",
    "- Hilbert transform is equivalent to a $-\\pi /2$ phase shift for positive frequencies and a $+\\pi /2$ phase shift for negative frequencies\n",
    "\n",
    "<img src=\"img/Snip20191016_167.png\" width=80%/>\n",
    "\n",
    "### Properties of Hilbert Transform\n",
    "\n",
    "- $f(t)$ and $\\hat{f}(t)$ have the same amplitude spectral density\n",
    "- if $\\hat{f}(t)$ is the Hilbert transform of $f(t)$, the Hilbert transform of $\\hat{f}(t)$ is $-f(t)$\n",
    "- $f(t)$ and $\\hat{f}(t)$ are orthogonal => $\\int_{-\\infty}^{+\\infty} \\hat{f}(t)f(t) dt = 0$\n"
   ]
  },
  {
   "cell_type": "markdown",
   "metadata": {},
   "source": [
    "## Analytic Signals\n",
    "\n",
    "- def: a real-valued signal can be represented in terms of complex valued signals with one-sided spectral density, such signals are called analytic signals, its real part gives the original signal\n",
    "\n",
    "\n",
    "<img src=\"img/Snip20191016_168.png\" width=80%/>\n",
    "<img src=\"img/Snip20191016_169.png\" width=80%/>\n"
   ]
  },
  {
   "cell_type": "markdown",
   "metadata": {},
   "source": [
    "## Representations for SSB Signals\n",
    "\n",
    "- $\\Phi_{SSB+}=Re\\{z_+(t)e^{j\\omega_c t}\\} = Re\\{[f(t) +j\\hat{f}(t)]e^{j\\omega_c t}\\} = f(t)\\cos(\\omega_c t) - \\hat{f}(t)\\sin(\\omega_c t)$\n",
    "- $\\Phi_{SSB-} = Re\\{z_{-}(t)e^{j\\omega_c t}\\} = Re\\{[f(t) - j\\hat{f}(t)]e^{j\\omega_c t}\\} = f(t)\\cos(\\omega_c t) + \\hat{f}(t)\\sin(\\omega_c t)$\n",
    "\n",
    "<img src=\"img/Snip20191016_170.png\" width=80%/>\n",
    "\n",
    "- for simple notations, under the assumption of using the upper sideband, the analytic signal is denoted by $z(t)$\n",
    "\n"
   ]
  },
  {
   "cell_type": "markdown",
   "metadata": {},
   "source": [
    "## Demodulation of SSB Signals\n",
    "\n",
    "<img src=\"img/Snip20191016_171.png\" width=80%/>\n",
    "\n",
    "\\begin{equation}\n",
    "x(t) = \\Phi_{pm}(t)\\cos(\\omega_c t) \\\\\n",
    "= (f(t)\\cos(\\omega_c t) \\pm \\hat{f}(t)\\sin(\\omega_c t)) cos(\\omega_c t) \\\\\n",
    "= {1\\over 2} f(t) + {1\\over 2} f(t) \\cos(2\\omega_c t) \\pm {1\\over 2} \\hat{f}(t)\\sin(2\\omega_c t)\n",
    "\\end{equation}\n",
    "\n",
    "- only ${1\\over 2} f(t)$ can pass through LPF\n",
    "\n",
    "### Error in SSB\n",
    "\n",
    "<img src=\"img/Snip20191016_174.png\" width=80%/>\n",
    "\n",
    "<img src=\"img/Snip20191016_175.png\" width=80%/>\n",
    "\n",
    "<img src=\"img/Snip20191016_176.png\" width=60%/>\n",
    "\n",
    "- if both $\\Delta(\\omega)$ and $\\theta_0$ equals to 0, there is no distortion and $y(t) = {1\\over 2}f(t)$\n",
    "- if $\\theta_0 \\ne 0$, $y(t) = {1\\over 2}f(t)\\cos(\\theta_0) \\pm {1\\over 2} \\hat{f}(t) \\sin(\\theta_0) = {1\\over 2}Re\\{[f(t)\\pm j\\hat{f}(t)]e^{j\\theta_0}\\}$\n",
    "- if $\\Delta(\\omega) \\ne 0$, $y(t) = {1\\over 2}f(t)\\cos(\\Delta(\\omega)t) \\pm {1\\over 2} \\hat{f}(t) \\sin(\\Delta(\\omega)t) = {1\\over 2}Re\\{[f(t)\\pm j\\hat{f}(t)]e^{j\\Delta(\\omega)t}\\}$\n",
    "\n",
    "- A coherent detector must be used to demodulate SSB signals\n"
   ]
  },
  {
   "cell_type": "markdown",
   "metadata": {},
   "source": [
    "## Single Sideband Large Carrier (SSB-LC)\n",
    "\n",
    "- coherent detector must be used for SSB, however, by inserting a carrier, envelope detector can suffice\n",
    "\n",
    "- SSB: $\\Phi_{\\pm}(t)=f(t)\\cos(\\omega_c t) \\pm \\hat{f}(t)\\sin(\\omega_c t)$\n",
    "- SSB-LC: $\\Phi(t)=A_c\\cos(\\omega_c t) + f(t)\\cos(\\omega_c t) \\pm \\hat{f}(t)\\sin(\\omega_c t) = [A_c + f(t)]\\cos(\\omega_c t) \\pm \\hat{f}(t)\\sin(\\omega_c t)$\n",
    "\n",
    "- envelope of $\\Phi(t)$:\n",
    "    - $r(t)=\\sqrt{[A_c + f(t)]^2 + [\\hat{f}(t)]^2} = \\sqrt{A_c^2 +2f(t)A_c +f^2(t)+\\hat{f}^2(t)} \\approx A_c \\sqrt{1+{2f(t) \\over A_c}} \\approx A_c[1+{f(t) \\over A_c}] = A_c + f(t)$\n"
   ]
  },
  {
   "cell_type": "markdown",
   "metadata": {},
   "source": [
    "# Vestigial Sideband (VSB) Modulation\n",
    "\n",
    "- one sideband is transmitted but also allowing a portion of the unwanted sideband\n",
    "\n",
    "<img src=\"img/Snip20191016_177.png\" width=80%/>"
   ]
  },
  {
   "cell_type": "markdown",
   "metadata": {},
   "source": [
    "## Demodulation of VSB\n",
    "\n",
    "<img src=\"img/Snip20191016_178.png\" width=80%/>\n",
    "\n",
    "- $\\Phi_{VSB}(t) = [A_c f(t)\\cos(\\omega_c t)] \\otimes h_v(t)$\n",
    "- $\\Phi_{VSB}(\\omega) = {A_c \\over 2}[F(\\omega - \\omega_c) + F(\\omega+\\omega_c)] H_v(\\omega)$\n",
    "\n",
    "\n",
    "- $y(t)= \\Phi_{VSB}(t)d(t) = A_c'\\Phi_{VSB}(t)\\cos(\\omega_c t)$\n",
    "- $Y(\\omega) = {A_c' \\over 2}[\\Phi_{VSB}(\\omega-\\omega_c) + \\Phi_{VSB}(\\omega + \\omega_c)] \\\\= {A_c A_c' \\over 4} F(\\omega)[H_v(\\omega - \\omega_c) + H_v(\\omega + \\omega_c)] \\\\+ {A_c A_c' \\over 4} F(\\omega - 2\\omega_c)H_v(\\omega - \\omega_c) + {A_c A_c' \\over 4} F(\\omega + 2\\omega_c)H_v(\\omega + \\omega_c)$\n",
    "    - since $F(\\omega - 2\\omega_c)$ and $F(\\omega + 2\\omega_c)$ cannot pass LPF, the output of LPF is $Z(\\omega) = {A_c A_c' \\over 4} F(\\omega)[H_v(\\omega - \\omega_c) + H_v(\\omega + \\omega_c)]$\n",
    "    - we require that the message signal at the output of LPF to be undistorted, therefore $H_v(\\omega - \\omega_c) + H_v(\\omega + \\omega_c)$ needs to be a constant for $|\\omega| \\le \\textrm{Bandwidth of the message signal}$\n",
    "\n",
    "<img src=\"img/Snip20191016_179.png\" width=80%/>\n"
   ]
  },
  {
   "cell_type": "markdown",
   "metadata": {},
   "source": [
    "<img src=\"img/Snip20191016_180.png\"/>"
   ]
  },
  {
   "cell_type": "markdown",
   "metadata": {},
   "source": []
  }
 ],
 "metadata": {
  "kernelspec": {
   "display_name": "Python 3",
   "language": "python",
   "name": "python3"
  },
  "language_info": {
   "codemirror_mode": {
    "name": "ipython",
    "version": 3
   },
   "file_extension": ".py",
   "mimetype": "text/x-python",
   "name": "python",
   "nbconvert_exporter": "python",
   "pygments_lexer": "ipython3",
   "version": "3.7.5"
  }
 },
 "nbformat": 4,
 "nbformat_minor": 2
}
