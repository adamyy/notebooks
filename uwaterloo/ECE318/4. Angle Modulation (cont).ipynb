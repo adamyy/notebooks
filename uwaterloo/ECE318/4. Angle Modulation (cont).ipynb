{
 "cells": [
  {
   "cell_type": "markdown",
   "metadata": {},
   "source": [
    "# Generation of FM Signals\n",
    "\n",
    "## NBFM Implementation\n",
    "\n",
    "- $\\phi(t)= A_c\\cos(\\omega_c t + \\beta\\sin(\\omega_m t))$\n",
    "- under NB assumptions $\\phi(t) = A_c \\cos(\\omega_c t) - A_c \\beta \\sin(\\omega_m t)\\sin(\\omega_c t)$\n",
    "\n",
    "<img src=\"img/Snip20191105_132.png\" width=80%/>\n",
    "\n"
   ]
  },
  {
   "cell_type": "markdown",
   "metadata": {},
   "source": [
    "## Generation of WBFM Signal: Armstrong's Indirect Method\n",
    "\n",
    "<img src=\"img/Snip20191106_137.png\" width=80%/>\n",
    "\n",
    "### Frequency Multiplier\n",
    "<img src=\"img/Snip20191106_138.png\" width=80%/>\n",
    "\n",
    "- nonlinear device designed to multiply the frequencies of the input signal by a given factor\n",
    "\\begin{equation}\n",
    "e_{out}(t) = \\sum_{k=0}^n c_k e_{in}^k(t)\n",
    "\\end{equation}\n",
    "- frequency multiplier increases the **modulation index** by a factor of $n$ as desired\n",
    "\n",
    "\n",
    "- for example, assume NBFM has modulation index $\\beta$ and desired WBFM has modulation index $2\\beta$\n",
    "    - $n = 2$: $e_{out}(t) = c_0 + c_1 e_{in}(t) + c_2 e_{in}^2(t)$\n",
    "    - input: $e_{in}(t) = A \\cos(\\omega_c t + \\beta\\sin(\\omega_m t))$\n",
    "    - output: $e_{out}(t) = c_0 + c_1 A \\cos(\\omega_c t + \\beta\\sin(\\omega_m t)) + c_2 A^2 \\cos^2(\\omega_c t + \\beta \\sin(\\omega_m t))$\n",
    "        - $= c_0 + {c_2 A^2 \\over 2} + c_1 A \\cos(\\omega_c t + \\beta \\sin(\\omega_m t)) + {c_2 A^2 \\over 2} \\cos(2\\omega_c t +2\\beta \\sin(\\omega_m t))$\n",
    "        - the low frequency components (all terms except for the last) can be removed by the filter\n",
    "        - the coefficient on the high frequency component can be adjusted by the filter gain\n",
    "        - the high frequency component has modulation index $2\\beta$\n",
    "\n",
    "\n",
    "- the output of the nonlinear device\n",
    "\\begin{equation}\n",
    "\\cos(n\\omega_c t + n\\beta\\sin(\\omega_m t)) + \\textrm{additional terms}\n",
    "\\end{equation}\n",
    "\\begin{equation}\n",
    "B_{n-1} = 2(\\omega_m + (n-1)\\Delta\\omega),\n",
    "B_n = 2(\\omega_m + n\\Delta\\omega)\n",
    "\\end{equation}\n",
    "\n",
    "<img src=\"img/Snip20191106_140.png\" width=60%/>\n",
    "\n",
    "- if we want no overlapping bandwidths, we need\n",
    "\\begin{equation}\n",
    "{B_{n-1} \\over 2} + {B_n \\over 2} < \\omega_c\n",
    "\\end{equation}\n",
    "\\begin{equation}\n",
    "n < {\\omega_c - 2\\omega_m \\over 2\\Delta\\omega} + {1\\over 2}\n",
    "\\end{equation}\n",
    "\n"
   ]
  },
  {
   "cell_type": "markdown",
   "metadata": {},
   "source": [
    "### Frequency Converter: Mixing\n",
    "\n",
    "- frequency multiplier output: $y(t) = \\cos(n\\omega_c t + n\\beta\\sin(\\omega_m t))$\n",
    "- frequency multiplier increases the **modulation index** by a factor of $n$ as desired; this also results in an increase in the carrier frequency, which **might not be sufficient** in many cases\n",
    "- the carrier frequency needs to be shifted to the desired frequency by frequency converter or mixer\n",
    "\n",
    "<img src=\"img/Snip20191106_141.png\" width=80%/>\n",
    "\n",
    "- frequency converter is used to **shift the spectrum of the signal by a given amount and does not change the spectral content**\n",
    "\n",
    "- one of the output terms should give desired frequency and the other will be removed by the proper choice of BPF\n",
    "    - $n\\omega_c - \\omega_1$, $n\\omega_c + \\omega_1$\n",
    "- e.g., when the input is single tone, the final wideband signal is given by\n",
    "    - $\\phi(t) = A_c \\cos((n\\omega_c - \\omega_1)t + n\\beta \\sin(\\omega_m t))$\n"
   ]
  },
  {
   "cell_type": "markdown",
   "metadata": {},
   "source": [
    "**Example** $\\phi_{NBFM}(t) = \\cos(2\\pi 10^5 t + 2\\pi 25 \\int_0^t x_m(\\tau)d\\tau)$, $\\phi_{WBFM}(t) = \\cos(2\\pi 10^8 t + 2\\pi 75 \\times 10^3\\int_0^t x_m(\\tau)d\\tau)$, $\\omega_m = 2\\pi 10^4$, $max(|x_m(t)|) = 1$, design the modulator system to generate the WBFM from NBFM\n",
    "- since $n < {\\omega_c - 2\\omega_m \\over 2\\Delta\\omega} + {1\\over 2}$\n",
    "    - $\\Delta\\omega = 2\\pi 25$\n",
    "    - $\\Delta\\omega' = 2\\pi 75 \\times 10^3$\n",
    "    - the multiplication factor is ${\\beta' \\over \\beta} = {\\Delta\\omega' \\over \\Delta\\omega} = 3000$\n",
    "    - $n < {2\\pi10^5 - 2 \\times 2\\pi10^4 \\over 2 \\times 2\\pi25} + {1\\over 2} = 1600.5 < 3000$\n",
    "    - the frequency multiplier needs to be implemented in multiple steps\n",
    "\n",
    "<img src=\"img/Snip20191106_142.png\"/>\n",
    "\n",
    "- for the carrier frequency, first multiplication: $50 \\times 10^5 = 5\\times10^6$, second multiplication: $60 \\times 5\\times 10^6 = 3\\times 10^8$; thus we need to adjust it back to $10^8$ using the multiplier with $\\cos(2\\pi 2\\times10^8 t)$\n",
    "\n"
   ]
  },
  {
   "cell_type": "markdown",
   "metadata": {},
   "source": [
    "## Generation of WBFM Signals: Direct Method\n",
    "\n",
    "<img src=\"img/Snip20191106_143.png\" width=80%/>\n",
    "\n",
    "- the frequency is proportional to the message signal $f(t)$\n",
    "- the long-term frequency-stability is not as good as in the indirect method"
   ]
  },
  {
   "cell_type": "markdown",
   "metadata": {},
   "source": [
    "# Demodulation of FM Signals"
   ]
  },
  {
   "cell_type": "markdown",
   "metadata": {},
   "source": [
    "## Dierct Method: Frequency Discriminator\n",
    "\n",
    "<img src=\"img/Snip20191106_144.png\" width=80%/>\n",
    "\n",
    "- $\\phi_{FM}(t) = A\\cos(\\omega_c t + k_{\\omega} \\int_0^t f(\\tau)d\\tau)$\n",
    "- ${d\\phi_{FM}(t) \\over dt} = -A(\\omega_c + k_{\\omega} f(t)) \\sin(\\omega_c t + k_{\\omega}\\int_0^t f(\\tau)d\\tau)$\n",
    "- since $k_{\\omega} f(t) << \\omega_c$, the above expression is in the form of DSB-LC => envelope of the signal at the output of differentiator is $A\\omega_c (1+{k_{\\omega} \\over \\omega_c} f(t))$\n",
    "- although there is a slight variation in the frequency, the envelope detector can still be used to detect the message $f(t)$\n",
    "- the ideal differentiator can be approximated by any device whose magnitude transfer function is reasonably linear within the range of frequencies of interest\n",
    "\n",
    "<img src=\"img/Snip20191106_145.png\" width=80%/>"
   ]
  },
  {
   "cell_type": "markdown",
   "metadata": {},
   "source": [
    "# Indirect Method: Phase Locked Loop (PLL)\n",
    "\n",
    "<img src=\"img/Snip20191106_146.png\" width=80%/>\n",
    "\n",
    "- assume the VCO is adjusted so that when the control voltage is zero, two conditions are satisfied\n",
    "    1. the frequency of the VCO is precisely set at the unmodulated carrier frequency $\\omega_c$\n",
    "    2. the VCO output has a 90 degree phase shift with respect to the carrier wave\n",
    "\n",
    "\n",
    "- input signal: $\\phi(t) = A_c\\cos(\\omega_c t + k_i \\theta_i(t)) = A_c\\cos(\\omega_c t + k_i\\int_0^t f(\\tau)d\\tau)$\n",
    "- VCO produces an instantaneous frequency $\\omega_c + k_r v_{out} (t)$ which is proportional to $v_{out}(t)$\n",
    "    - note, $\\theta_r(t) = \\int_0^t v_{out}(\\tau)d\\tau$\n",
    "- assume VCO output as $r(t) = A_r \\sin(\\omega_c t + k_r \\theta_r(t)) = A_r\\sin(\\omega_c t + k_r \\int_0^t v_{out}(\\tau)d\\tau)$\n",
    "\n",
    "\n",
    "- LPF input: $\\phi(t)r(t) = {A_c A_r \\over 2} \\sin(\\theta_i (t) - \\theta_r(t)) - {A_c A_r \\over 2} \\sin(2\\omega_c t + \\theta_i(t) - \\theta_r(t))$\n",
    "- LPF output: $x(t) = b\\sin(\\theta_e(t)) = {A_c A_r \\over 2} \\sin(\\theta_i (t) - \\theta_r(t))$\n",
    "    - $\\theta_e(t)$: phase error, defined as $\\theta_e(t) = \\theta_i (t) - \\theta_r(t)$\n",
    "\n",
    "\n",
    "- the loop filter operates on its input $x(t)$ to produce the output\n",
    "    - $v_{out}(t) = \\int_{-\\infty}^{\\infty} b\\sin(\\theta_e(\\tau)) h(t- \\tau)d\\tau$\n",
    "\n",
    "### Linearized Model\n",
    "\n",
    "- for small $\\theta_e(t) = \\theta_i(t) -\\theta_r(t)$, we have $\\sin(\\theta_i(t) -\\theta_r(t)) \\approx \\theta_i(t) -\\theta_r(t)$\n",
    "\n",
    "### General Phase Comparator\n",
    "\n",
    "- a phase comparator detects the timing difference between the two signals and produces an ouput voltage which is proportional to this difference\n",
    "- for sinusoidal inputs, the timing difference can be expressed as a phase difference\n",
    "- the output of the phase comparator is porportional to the average of the product of the two inputs as a function of their relative time displacement\n",
    "- if the two inputs are $x(t)$ and $y(t)$, the output of the phase comparator is given by\n",
    "\n",
    "\\begin{equation}\n",
    "{1\\over T} \\int_0^T x^*(t) y(t+\\tau) dt = R_{xy}(\\tau)\n",
    "\\end{equation}\n",
    "\n",
    "- $T$: the period of the input waveform\n",
    "\n",
    "### Observations\n",
    "\n",
    "- when the input signal is applied, phase comparison with VCO generates error voltage, in turn, this forces VCO to synchronize itself to the input frequency\n",
    "- in the \"lock\" position (i.e., VCO is synchronized) VCO frequency becomes identical to input frequency\n",
    "- as the input frequency varies slowly with the message signal, PLL is able to track input frequency through changes in error voltage\n",
    "\n",
    "\\begin{equation}\n",
    "\\theta_i(t)\\approx\\theta_r(t) \\\\\n",
    "k_i\\int_0^t f(\\tau)d\\tau \\approx k_r \\int_0^t v_{out}(\\tau)d\\tau \\rightarrow v_{out}(t)\\propto f(t)\n",
    "\\end{equation}"
   ]
  },
  {
   "cell_type": "markdown",
   "metadata": {},
   "source": [
    "# Frequency-Division Multiplexing (FDM) and FM Stereo Broadcasting\n",
    "\n",
    "- objective: to transmit a number of independent signals over a common channel\n",
    "    - can be accomplished by separating the signals in frequency or in time - FDM\n",
    "    - seperating the signals in time - time-division multiplexing (TDM)\n",
    "\n",
    "<img src=\"img/Snip20191106_147.png\"/>\n",
    "\n",
    "- LPFs may be omitted only if the input signals are sufficiently band limited initially\n",
    "- the modulators shift the frequency ranges of the signals so as to occupy mutually exclusive frequency intervals\n",
    "    - any of the modulation methods introduced (DSB-LC, DSB-SC, SSB, VSB, FM, PM (narrowband)) may be used, SSB is the most widely used\n",
    "- in some applications, WBFM is further used in the main modulator to transmit SSB-FDM signals; however, those channels which are modulated on high-frequency carriers suffer from more noise\n",
    "\n",
    "<img src=\"img/Snip20191106_148.png\"/>\n",
    "\n",
    "<img src=\"img/Snip20191106_149.png\"/>\n",
    "\n",
    "- the received FDM signal is first demodulated to reproduce the **composite baseband signal** that is passed through filters to separate the individual modulated subcarriers; the subcarriers are then demodulated to reproduce the message signals $f_1(t), ..., f_N(t)$\n",
    "\n",
    "<img src=\"img/Snip20191106_150.png\"/>\n",
    "\n",
    "<img src=\"img/Snip20191106_151.png\"/>\n"
   ]
  },
  {
   "cell_type": "code",
   "execution_count": null,
   "metadata": {},
   "outputs": [],
   "source": []
  }
 ],
 "metadata": {
  "kernelspec": {
   "display_name": "Python 3",
   "language": "python",
   "name": "python3"
  },
  "language_info": {
   "codemirror_mode": {
    "name": "ipython",
    "version": 3
   },
   "file_extension": ".py",
   "mimetype": "text/x-python",
   "name": "python",
   "nbconvert_exporter": "python",
   "pygments_lexer": "ipython3",
   "version": "3.7.4"
  }
 },
 "nbformat": 4,
 "nbformat_minor": 2
}
