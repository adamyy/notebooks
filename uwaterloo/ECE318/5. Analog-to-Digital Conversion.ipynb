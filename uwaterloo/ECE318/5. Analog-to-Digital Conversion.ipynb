{
 "cells": [
  {
   "cell_type": "markdown",
   "metadata": {},
   "source": [
    "<img src=\"img/Snip20191107_152.png\" width=80%/>\n",
    "\n",
    "- AM/FM: analog signals (continuous-time, continuous-amplitude) are directly imposed on other suitable analog signals and transmitted over the propagation channel\n",
    "\n",
    "<img src=\"img/Snip20191107_153.png\" width=80%/>\n",
    "\n",
    "- an analog message signal is converted into a discrete-time discrete-amplitude digital signal by time-sampling and amplitude-quantization\n",
    "- the resulting signal is encoded (i.e., mapped to binary codewords)\n",
    "- the digitized information signal will be modulated back into an analog waveform for propagation through the channel\n",
    "\n",
    "<img src=\"img/Snip20191107_154.png\" width=80%/>\n",
    "\n",
    "- in an ideal system, the recovered signal will be exactly the same as the original one"
   ]
  },
  {
   "cell_type": "markdown",
   "metadata": {},
   "source": [
    "# Transmitter Operations\n",
    "\n",
    "- **Time-sample** analog signal to produce a discrete-time continuous-amplitude signal\n",
    "- **Amplitude-quantize** discrete-time continuous-amplitude signal to produce a discrete-time discrete-amplitude signal\n",
    "- **Encode** the discrete-time discrete-amplitude into binary \"codewords\" (i.e. mapping levels to codewords)\n",
    "- **Modulation** converts (maps) codeword to an analog waveform, e.g., amplitude shift keying (ASK), phase shift keying (PSK), quadrature amplitude modulation (QAM), frequency shift keying (FSK)\n",
    "\n",
    "# Receiver Operations\n",
    "- performs the inverse of the transmitter operations in order to recover the original analog message signal\n"
   ]
  },
  {
   "cell_type": "markdown",
   "metadata": {},
   "source": [
    "# Sampling Theorem, Reconstruction and Aliasing\n",
    "\n",
    "<img src=\"img/Snip20191107_155.png\" width=80%/>\n",
    "\n",
    "# Ideal Time-Sampling\n",
    "\n",
    "<img src=\"img/Snip20191107_156.png\" width=80%/>\n",
    "\n",
    "<img src=\"img/Snip20191107_157.png\" width=40%/>\n",
    "\n",
    "\\begin{equation}\n",
    "\\delta_{T_s}(t) = \\sum_{n=-\\infty}^{\\infty}\\delta(t-nT_s) = {1\\over T_s} \\sum_{n=-\\infty}^{\\infty} e^{jn2\\pi f_s t}\n",
    "\\end{equation}\n",
    "\n",
    "- $\\delta_{T_s}(t)$: ideal sampling function with $T_s = {1\\over f_s}$ as the sampling interval\n",
    "    - $\\delta_{T_s}(t)$ is a comb function composed of a periodic sequence of unit impulses\n",
    "\n",
    "## Ideal Time-Sampling Time-Domain\n",
    "\n",
    "\\begin{equation}\n",
    "g_s(t) = g(t)\\delta_{T_s}(t) = g(t)\\sum_{n=-\\infty}^{\\infty}\\delta(t-nT_s) = \\sum_{n-\\infty}^{\\infty}g(nT_s)\\delta(t - nT_s) \\\\\n",
    "= {1\\over T_s} (g(t) + 2g(t)\\cos(2\\pi f_s t) + 2g(t)\\cos(4\\pi f_s t) + ...)\n",
    "\\end{equation}\n",
    "\n",
    "## Ideal Time-Sampling Frequency-Domain\n",
    "\n",
    "\\begin{equation}\n",
    "G_s(f) = G(f) * {1\\over T_s} \\sum_{n=-\\infty}^{\\infty} \\delta(f - nf_s) \\\\ = f_s \\sum_{n=-\\infty}^{\\infty} G(f - nf_s)\n",
    "\\end{equation}\n",
    "\n",
    "## ITS Limiting Condition\n",
    "\n",
    "- as the sampling rate increases, all replicas of $G(f)$ move farther apart; as it decreases, all replicas move closer; soon a point is reached beyond which a reduction in sampling rate will result in **overlap between consecutive replicas**\n",
    "- at this limiting condition, all replicas are **tangent to each other**, this point is attained when $f_s = 2B$\n",
    "- in general, one chooses\n",
    "\n",
    "\\begin{equation}\n",
    "f_s > 2B  \\textrm{(Hz)  or  } T_s < {1\\over 2B}\n",
    "\\end{equation}"
   ]
  },
  {
   "cell_type": "markdown",
   "metadata": {},
   "source": [
    "## The Nyquist (Shannon) Theorem for Ideal Time Sampling\n",
    "\n",
    "- a bandlimited continuous-time signal $g(t)$ with no frequency components above $B$ Hz, can be fully identified by (i.e, temporally reconstructed from) $g(nT_s)$ for all $n$ - the signal's values sampled at time instants separated by $T_s$ seconds\n",
    "    - if $T_s \\le {1\\over 2B}$, or equivalently $f_s = {1\\over T_s} \\ge 2B$\n",
    "\n",
    "- the critical sampling rate of $2B$ samples per second, for a signal bandwidth of $B$ Hz, is called the **Nyquist rate**, and $1\\over 2B$ is called the **Nyquist interval**\n",
    "- perfect reconstruction is possible for sampling frequency $f_s > 2B$, but in general not possible with under-sampling (i.e., $f_s < 2B$)\n",
    "\n",
    "### Reconstruction of the Original Signal\n",
    "\n",
    "- if the sampling frequency is chosen equal to the Nyquist rate, an ideal LPF is required to reconstruct the original signal\n",
    "- a choice of sampling frequency higher than Nyquist rate allows for the reconstruction filter to be realizable and easier to build\n",
    "\n",
    "\\begin{equation}\n",
    "G_s(f) = f_s \\sum_{n=-\\infty}^{\\infty} G(f-nf_s) = f_s G(f) + f_s \\sum_{n=-\\infty, n\\ne 0}^{\\infty} G(f-nf_s)\n",
    "\\end{equation}\n",
    "\n",
    "<img src=\"img/Snip20191107_158.png\" width=60%/>\n",
    "\n",
    "\\begin{equation}\n",
    "H(f) = {1\\over f_s} \\Pi({f \\over 2B}) \\\\\n",
    "h(t) = {2B \\over f_s} sinc(2Bt)\n",
    "\\end{equation}\n",
    "\n",
    "\n",
    "\\begin{equation}\n",
    "g(t) = g_s(t)\\otimes h(t) = (\\sum_{n-\\infty}^{\\infty}g(nT_s)\\delta(t - nT_s))\\otimes({2B \\over f_s} sinc(2Bt)) \\\\\n",
    "= {2B \\over f_s} \\sum_{n-\\infty}^{\\infty} g(nT_s)(\\delta(t-nT_s) \\otimes sinc(2Bt)) \\\\\n",
    "= {2B \\over f_s} \\sum_{n-\\infty}^{\\infty} g(nT_s) sinc(2B(t - nT_s))\n",
    "\\end{equation}\n",
    "\n",
    "- this gives a temporal \"interpolation formula\" to temporally reconstruct the original continuous-time signal $g(t)$ for all $t$ from the discrete-time sequency $g(nT_s)$ for all $n$\n",
    "\n",
    "<img src=\"img/Snip20191107_159.png\" width=80%/>\n",
    "\n",
    "- the correct values are reconstructed at the sampling instants $t = nT_s$, since all $sinc$ functions are zero at these times but one, which yields $g(nT_s)$\n"
   ]
  },
  {
   "cell_type": "markdown",
   "metadata": {},
   "source": [
    "## Aliasing: Spectral Overlapping\n",
    "\n",
    "<img src=\"img/Snip20191107_160.png\" width=80%/>\n",
    "<img src=\"img/Snip20191107_161.png\" width=80%/>\n",
    "\n",
    "- Nyquist theorem holds for band-limited signals\n",
    "- a time-signal with finite time-duration is not strictedly bandlimited\n",
    "\n",
    "<img src=\"img/Snip20191107_162.png\" width=80%/>\n",
    "\n",
    "- since the tails of function consist of negligible power, it can be truncated and considered as a bandlimited signal of bandwidth B\n",
    "- a practical way to avoid alasing error: Low-pass-filter $g(t)$ prior to time-sampling to remove frequencies higher than $B$"
   ]
  },
  {
   "cell_type": "markdown",
   "metadata": {},
   "source": [
    "# Natural Sampling\n",
    "\n",
    "<img src=\"img/Snip20191107_163.png\" width=80%/>\n",
    "\n",
    "- the spectrum of periodic signal consists of impulse functions, i.e., discrete spectrum\n",
    "\n",
    "<img src=\"img/Snip20191107_164.png\" width=80%/>\n",
    "\n",
    "- fourier series representation of $p(t) = \\sum_{n=-\\infty}^{\\infty} P_n e^{jn2\\pi f_s t}$\n",
    "\n",
    "\\begin{equation}\n",
    "g_s(t) = g(t)p(t) = \\sum_{n=-\\infty}^{\\infty} P_n g(t) e^{jn2\\pi f_s t} \\\\\n",
    "G_s(f) = \\sum_{n=-\\infty}^{\\infty} P_n G(f-nf_s)\n",
    "\\end{equation}\n",
    "\n",
    "<img src=\"img/Snip20191107_165.png\" width=80%/>"
   ]
  },
  {
   "cell_type": "markdown",
   "metadata": {},
   "source": [
    "# Flat-Top Sampling\n",
    "\n",
    "<img src=\"img/Snip20191107_166.png\" width=80%/>\n",
    "\n",
    "## Flat-Top Time-Domain\n",
    "\\begin{equation}\n",
    "g_s(t) = \\sum_{n=-\\infty}^{\\infty} g(nT_s) \\delta(t - nT_s) \\\\\n",
    "g_{PAM}(t) = g_s(t) \\otimes q(t) = \\sum_{n=-\\infty}^{\\infty} g(nT_s) (\\delta(t - nT_s) \\otimes q(t)) = \\sum_{n=-\\infty}^{\\infty} g(nT_s) q(t-nT_s)\n",
    "\\end{equation}\n",
    "\n",
    "## Flat-Top Frequency-Domain\n",
    "\\begin{equation}\n",
    "G_s(f) = f_s \\sum_{n=-\\infty}^{\\infty} G(f - nf_s) \\\\\n",
    "G_{PAM}(f) = f_s \\sum_{n=-\\infty}^{\\infty} G(f - nf_s) Q(f)\n",
    "\\end{equation}\n",
    "\n",
    "<img src=\"img/Snip20191107_167.png\" width=80%/>\n",
    "\n",
    "## Flat-Top Sampling - Reconstruction of Original Signal\n",
    "\n",
    "<img src=\"img/Snip20191107_168.png\" width=80%/>\n",
    "\n",
    "- flat-top sampling introduces both amplitude-distortion and/or phase-distortion\n",
    "\n",
    "<img src=\"img/Snip20191107_169.png\" width=80%/>\n",
    "\n",
    "- the technique of correcting the frequency response of a system for a known distortion is called *equilization*"
   ]
  },
  {
   "cell_type": "markdown",
   "metadata": {},
   "source": [
    "# Ideal vs Natural vs Flat-top Sampling\n",
    "\n",
    "- in all methods, pulse amplitudes are proportional to the sampled values of the message signal\n",
    "- ideal sampling requires impulse functions which are not of practical use\n",
    "- in practical pulse modulation systems, pulses at the receiver side are either amplified or regenerated\n",
    "- in nautral sampling, pulse shape varies according to the message signal, thus *amplication* must be used\n",
    "- flat-top sampling is preferred since regeneration is possible instead of amplification\n",
    "\n",
    "\n",
    "<img src=\"img/Snip20191116_27.png\" width=80%/>"
   ]
  },
  {
   "cell_type": "markdown",
   "metadata": {},
   "source": [
    "<img src=\"img/Snip20191116_28.png\" width=80%/>"
   ]
  },
  {
   "cell_type": "code",
   "execution_count": null,
   "metadata": {},
   "outputs": [],
   "source": []
  }
 ],
 "metadata": {
  "kernelspec": {
   "display_name": "Python 3",
   "language": "python",
   "name": "python3"
  },
  "language_info": {
   "codemirror_mode": {
    "name": "ipython",
    "version": 3
   },
   "file_extension": ".py",
   "mimetype": "text/x-python",
   "name": "python",
   "nbconvert_exporter": "python",
   "pygments_lexer": "ipython3",
   "version": "3.7.5"
  }
 },
 "nbformat": 4,
 "nbformat_minor": 2
}
