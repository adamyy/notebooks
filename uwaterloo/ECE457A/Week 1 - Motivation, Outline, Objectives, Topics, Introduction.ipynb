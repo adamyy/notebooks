{
 "cells": [
  {
   "cell_type": "markdown",
   "metadata": {},
   "source": [
    "## Motivation\n",
    "\n",
    "- There are problems that are **Computable** within a reasonable amount of time, for which type of problems we seek algorithms that can deterministically search for optimal solutions in reasonable time\n",
    "    - **Computability** is the ability to solve a **problem** in an effective manner\n",
    "    - Tend to be called as *P* or *Polynomial problems*\n",
    "\n",
    "\n",
    "- There are problems that are **well-defined**, in which the **given state** of the problem, the **goal state** of the problem, and the **allowable operators** (or moves) are each **clearly** specified\n",
    "\n",
    "\n",
    "- Traditional algorithms and programming techniques work well for solving computable well-defined problems\n",
    "\n",
    "\n",
    "- There are problems that are hard to compute, which are referred to as NP problems (nondeterministic polynomial time), which is the set of problems whose solutions can be verified in polynomial time\n",
    "    - Vast majority of NP problems whose solutions seem to require exponential time are called NP-complete, meaning that a polynomial-time solution to one can be adapted to solve all the others\n",
    "    - NP-complete problems are fairly common, especially in large scheduling tasks (e.g., traveling-salesman)\n",
    "\n",
    "\n",
    "- Hard problems are well-defined and computational hard problems\n",
    "    - NP hard problems (e.g., traveling salesman)\n",
    "    - Action-response planning (e.g., chess playing)\n",
    "\n",
    "\n",
    "- There are problems that are ill-defined, that do not have clear goals, solution paths, or expected solution\n",
    "    - An ill-defined problem deals with complex issues and thus cannot easily be described in a concise, complete manner\n",
    "    - Competing factors may suggest several approaches to the problem, requiring careful analysis to determine the best approach\n",
    "\n",
    "\n",
    "- Traditional computing techniques require computing tasks to be well-defined, fairly predictable, and computable in reasonable time with serial computers\n",
    "\n",
    "\n",
    "- Thus adaptation and cooperation in software is required to solve ill-defined, hard problems\n",
    "- Software as an agent:\n",
    "\n",
    "<img src=\"img/Snip20200513_7.png\" width=40%/>\n"
   ]
  },
  {
   "cell_type": "markdown",
   "metadata": {},
   "source": [
    "## Objectives\n",
    "\n",
    "- Motivate the need for algorithms that exhibit a degree of intelligence: logical, computational, and biologically inspired\n",
    "- Introduce the concepts of cooperation and adaptations and how they are influencing new methods for solving complex problems\n",
    "- Study meta-heuristics, evolutionary computing methods, swarm intelligence, ant-colony algorithms, particle swarm methods, reinforcement learning\n",
    "- Illustrate the use of these algorithms in solving continuous and discrete, and machine learning problems that arise in engineering applications\n"
   ]
  },
  {
   "cell_type": "markdown",
   "metadata": {},
   "source": [
    "## Course Description\n",
    "\n",
    "- Addresses *ill-structured problems* and the need for *computational intelligence* methods\n",
    "- Introduces the concepts of *heuristics* and their use in conjunction with *search methods*, solving problems using heuristics and metaheuristics, constraints satisfaction\n",
    "- Introduces the concepts of *cooperation and adaptations* and how they are influencing new methods for solving complex problems\n",
    "- Discusses how the concepts of cooperation and adaptation are *manifested in nature* and how such models are *inspiring new types of solution* methods\n"
   ]
  },
  {
   "cell_type": "markdown",
   "metadata": {},
   "source": [
    "## Topics\n",
    "\n",
    "- Engineering problems are **optimization problems**: engineering by definition is a search tasks where the goal is to find a solution to an optimization problem\n",
    "\n",
    "<img src=\"img/Snip20200513_8.png\" width=70%/>\n",
    "\n",
    "<img src=\"img/Snip20200513_9.png\"/>"
   ]
  },
  {
   "cell_type": "markdown",
   "metadata": {},
   "source": [
    "## Course Outline\n",
    "\n",
    "- Goals and definitions of artificial intelligence; intelligent agents and their environment\n",
    "- Ill-structured problems and need for approximate algorithms, cooperation and adaptation in nature\n",
    "- Search: state space problem formulation and representation; uninformed search; heuristic search; iterative improvement; constraint satisfaction; game-playing\n",
    "- Review of blind search, use of heuristic search methods and meta-heuristic algorithms\n",
    "- Trajectory methods: Tabu search and Simulated Annealing\n",
    "- Genetic algorithms, cooperation in GA\n",
    "- Swarm Intelligence: cooperation and adaptation methods inspired by nature\n"
   ]
  },
  {
   "cell_type": "markdown",
   "metadata": {},
   "source": [
    "## Introduction\n",
    "\n",
    "<img src='img/Snip20200514_2.png' width=60%/>\n",
    "\n",
    "<img src='img/Snip20200514_3.png' width=80%/>"
   ]
  },
  {
   "cell_type": "markdown",
   "metadata": {},
   "source": [
    "## Rational Systems\n",
    "\n",
    "- In engineering we are interested in rational systems\n",
    "\n",
    "\n",
    "- Thinking rationally means using logic to achieve goals via logical inferencing \n",
    "    - Hard to represent informal knowledge\n",
    "    - Not all problems solvable in this manner (e.g., uncertainty)\n",
    "- Behaving rationally means perceiving the \"world\" and acting to achieve some goals given a set of beliefs\n",
    "    - Amenable to computation\n",
    "    - More general than inferencing\n",
    "    - Actions taken to achieve a goal are not necessarily \"correct\", but accomplish task at hand"
   ]
  },
  {
   "cell_type": "markdown",
   "metadata": {},
   "source": [
    "## Intelligent Agents/Algorithms\n",
    "\n",
    "<img src=\"img/Snip20200514_4.png\" width=40%/>\n",
    "\n",
    "- An agent is something that **senses** its environment and **acts** on it\n",
    "- Our goal is to design **rational agents**, which is one that for each perceived sequence of events, it does what is expected to maximize performance on the basis of perceptual history and built-in knowledge (leads to the concept of **autonomy**)\n",
    "\n",
    "\n",
    "### Types of Intelligent Agents\n",
    "\n",
    "Essentially, agent design is more or less complex depending on the particular characteristics of its environment\n",
    "\n",
    "- Simple Reflex Agents\n",
    "    - Table-lookup approach; needs fully-observable environment\n",
    "- Model-Based Reflex Agents\n",
    "    - Adds state information to handle partially observable environments\n",
    "- Goal-Based Agents\n",
    "    - Adds concept of goals to augment knowledge to help choose best actions\n",
    "- Utility-Based Agents\n",
    "    - Adds utility to decide \"good\" and \"bad\" with conflicting goals\n",
    "- Learning Agents\n",
    "    - Adds ability to learn situations that affect performance; decides how to change things to improve\n",
    "\n",
    "\n"
   ]
  },
  {
   "cell_type": "markdown",
   "metadata": {},
   "source": [
    "## Environments\n",
    "\n",
    "Agents work within an environment with certain characteristics; an environment usually has multiple dimensions, which can be taken into account when designing an agent\n",
    "\n",
    "### Fully observable vs Partially observable\n",
    "\n",
    "An environment is effectively fully observable if the sensors detect all aspects that are relevant to the choice of action; and it might be partially observable because of noisy and inaccurate sensors or because parts of the state are missing from the sensor data\n",
    "\n",
    "### Determinitic vs Stochastic\n",
    "\n",
    "If the next state of the environment is completely determined by the current state and the action executed by the agent, then the environment is deterministic; otherwise it is stochastic\n",
    "\n",
    "### Episodic vs Sequential\n",
    "\n",
    "In episodic environments, the choice of action in each episode depends on the episode itself, e.g., spotting defective parts on an assembly line\n",
    "\n",
    "\n",
    "In sequential environments, the current decision could affect all future decision, e.g., chess\n",
    "\n",
    "\n",
    "Episodic environments are much simpler than sequential environments because the agent does not need to think ahead\n",
    "\n",
    "### Static vs Dynamic\n",
    "\n",
    "If the environment can change while an agent is deliberating, then the environment is dynamic; otherwise it is static\n",
    "\n",
    "### Discrete vs Continuous\n",
    "\n",
    "The way the state of the environment interact with the way time is handled, and how the agent perceives and acts on such states\n",
    "\n",
    "### Competitive vs Co-operative\n",
    "\n",
    "Also Single Agent vs Multi-Agent\n",
    "\n",
    "\n",
    "\n"
   ]
  },
  {
   "cell_type": "markdown",
   "metadata": {},
   "source": [
    "## Adaptation and Cooperation\n",
    "\n",
    "Adaptation refers to the ability to adjust to new or different situation, the ability to improve behavior, evolution, learning, generalization, etc.\n",
    "\n",
    "\n",
    "Cooperation refers to the ability to jointly solving a problem or perform a common tasks based on sharing the responsibility for reaching the goal\n",
    "\n",
    "\n",
    "Cooperation is also the practice of hardware and/or software entities working together in order to achieve certain objective"
   ]
  },
  {
   "cell_type": "markdown",
   "metadata": {},
   "source": [
    "## Behavior\n",
    "\n",
    "|Behavior|Inspired Models/Algorithms|Applications|\n",
    "|:---|:---|:---|\n",
    "|Bacterial Intelligence|Bacterial Chemotaxis Model, EC|Neural networks, robotic configurations|\n",
    "|Chromosome Behavior|Genetic Algorithsm, EC|Optimization Problems in Distributed Computer Systems, Cooperative Manipulations|\n",
    "|Ants|Ant Colony Optimization (ACO)/AC clustering|Machine scheduling, Network routing, allocation and assignments, text classification and clustering, graph problems|\n",
    "|Swarms|Particle Swarm Optimization (PSO)|Optimization problems, scheduling, mobile robots and control, neural network training|"
   ]
  },
  {
   "cell_type": "markdown",
   "metadata": {},
   "source": [
    "## Possible Applications of AI Concepts\n",
    "\n",
    "- Game playing: well-defined rules with moves that can be searched intelligently\n",
    "- Theorem proving: proving correctness of this or that (e.g., circuits)\n",
    "- Path planning\n",
    "- Robotics\n",
    "- Pattern recognition\n",
    "- Language processing\n"
   ]
  },
  {
   "cell_type": "markdown",
   "metadata": {},
   "source": [
    "## Real-World Problems\n",
    "\n",
    "- Some source of complexity\n",
    "    - multimodality\n",
    "    - lack of exact mathematical model\n",
    "    - non-differnetiability\n",
    "    - combinatorial nature\n",
    "    - distributed nature\n",
    "\n",
    "## Well-Structured and Ill-Structured Problems\n",
    "\n",
    "- **Well-structured problems**: problems for which the existing state and desired state are clearly identified, and the methods to reach the desired state are fairly obvious\n",
    "- **Ill-structured problems**: situation in which its existing state and the desired state are unclear and hence methods of reaching the desired state cannot be found\n",
    "\n",
    "\n",
    "<img src=\"img/Snip20200514_5.png\" width=80%/>\n"
   ]
  },
  {
   "cell_type": "markdown",
   "metadata": {},
   "source": [
    "### The Clustering Problem\n",
    "\n",
    "- Given $n$ objects, group them in $c$ groups (clusters) in such a way that all objects in a single group have a \"natural\" relation to one another, and objects not in the same group are somehow different\n",
    "    - Well-structured problem but practiallly ill-structured\n",
    "\n"
   ]
  },
  {
   "cell_type": "markdown",
   "metadata": {},
   "source": [
    "### Set Partitioning\n",
    "\n",
    "- A partition of a set is a grouping of the set's elements into non-empty subsets, in such a way that every element is included in one and only one of the subsets\n",
    "    - Number of possible partitions grows exponentially as $n$ and $c$ grows, enumerating all possible partitions for large problems is practically infeasible\n",
    "    \n"
   ]
  },
  {
   "cell_type": "markdown",
   "metadata": {},
   "source": [
    "## Solution Strategies for Ill-Structured Problems\n",
    "\n",
    "- Retrieving a solution or an answer\n",
    "- Starting from a guess and then improve on it\n",
    "- Searching among alternatives\n",
    "- Searching forward from the problem to the answer\n",
    "- Searching backward from a goal to the situations of the problem\n"
   ]
  },
  {
   "cell_type": "markdown",
   "metadata": {},
   "source": [
    "## Optimization Problems\n",
    "\n",
    "- The problem of finding the \"best\" solution from all feasible solutions subject to a set of constraints\n",
    "    - Optimization problems are ubiquitous\n",
    "\n",
    "- NP-Hard or NP-Complete\n",
    "    - NP problems can be solved by exhaustive search\n",
    "    - The size of the instance grow the running time forbiddingly large even for fairly small sized problems\n",
    "\n",
    "## Optimiation Methods\n",
    "\n",
    "- Optimization techniques are **search methods** where the goal is to find a solution to an optimization problem (a given quantity is optimized subject to a set of constraints)\n",
    "\n",
    "<img src=\"img/Snip20200514_6.png\" width=60%/>\n",
    "\n",
    "- Approximate methods to solve combinatorial optimization problems\n",
    "- Heuristics is a solution strategy or rules by trial and error to produce acceptable (optimal or sub-optimal) solutions to complex problems in a reasonably practical time\n",
    "    - Aims to efficiently generate good solutions, but does not guarantee optimality\n",
    "    - Has \"short\" running times, easy to implement, flexible, and simple\n",
    "\n",
    "\n",
    "- Approximate algorithms can be divided to \n",
    "    1. Constructive Methods: start from scratch and try to build the complete solution by adding one component at a time\n",
    "    2. Local search methods: start from an initial solution and iteratively tries to replcae the current solution with a better one\n"
   ]
  },
  {
   "cell_type": "markdown",
   "metadata": {},
   "source": [
    "## Problem Solving by Searching\n",
    "\n",
    "- Search describes the process of looking for a sequence of actions that reaches a goal\n",
    "- Many optimization problems can often be solved using search algorithms, and it is central in many AI systems, including theorem proving, game playing, navigation, scheduling, etc\n",
    "- Search involves moving from **state-to-state** in the problem space to find a **goal**\n",
    "- To use search, the two requirements are **goal formulation** and **problem formulation**\n",
    "\n",
    "\n",
    "### Goal-based Search vs Utility-based Search\n",
    "\n",
    "- Goal-based agents use information about the **environment & current state** to reach an end goal\n",
    "- Utility-based agents also take into consideration the **performance** of accomplishing the goal\n",
    "\n",
    "### Goal and Problem Formulation\n",
    "\n",
    "- In goal formulation, we decide which aspects we are **interested** in and which aspects can be **ignored**\n",
    "- Goals are needed to **limit search** and **allow termination**\n",
    "\n",
    "\n",
    "- In problem formulation, we decide how to manipulate the **important** aspects, and ignore the others\n",
    "    - Compact representation of problem space\n",
    "        - Represent the search space by states\n",
    "    - Define **actions** valid for a given state, the **cost** of actions, and a transition model for moving between states\n",
    "    - Problem formulation must be done only after the goal formulation is done\n",
    "\n",
    "\n",
    "- Search requires a well-defined problem space including\n",
    "    - **State space**: a state can represent either a complete configuration of a problem or a partial configuration of a problem\n",
    "    - **Initial state**: where the search starts\n",
    "    - **Goal state and goal test**: where the search terminates\n",
    "    - **Sets of actions**: allows movement between states\n",
    "    - **Concept of cost** (action and path cost): allows costing a solution\n",
    "- The above defines a **well-defined state-space formulation** of a problem\n",
    "\n"
   ]
  },
  {
   "cell_type": "markdown",
   "metadata": {},
   "source": [
    "### Closed World Assumption\n",
    "\n",
    "- All neccessary information about a problem domain is available in each percept so that **each state is a complete description of the world**"
   ]
  },
  {
   "cell_type": "markdown",
   "metadata": {},
   "source": [
    "## Terminologies and Fundamentals\n",
    "\n",
    "## Search Trees\n",
    "\n",
    "- Search trees are superimposed over top of the graph representation of a problem\n",
    "- While a graph might be finite, the search tree can be either finite or infinite (infinite if we allow repeated states due to reversible actions and/or cycles of actions)\n",
    "- **Branching factor**: the maximum number of children possible for a node in a search tree $b$\n",
    "- A finite tree has a **maximum depth** $m$\n",
    "- Any node in the search tree occurs at a **level** in the tree $l$ (or depth $d$)\n",
    "\n",
    "|||\n",
    "|---|---|\n",
    "|<img src=\"img/Snip20200514_7.png\">|<img src=\"img/Snip20200514_8.png\">|\n",
    "|<img src=\"img/Snip20200514_10.png\">|<img src=\"img/Snip20200514_11.png\">|\n",
    "\n",
    "\n",
    "## Properties of Search Algorithms\n",
    "\n",
    "- **Completeness**: is the algorithm guaranteed to find a goal node, if one exist\n",
    "- **Optimality**: is the algorithm guaranteed to find the *best* goal node\n",
    "- **Time complexity**: how many nodes are generated\n",
    "- **Space complexity**: the maximum number of nodes stored in memory"
   ]
  },
  {
   "cell_type": "code",
   "execution_count": null,
   "metadata": {},
   "outputs": [],
   "source": []
  }
 ],
 "metadata": {
  "kernelspec": {
   "display_name": "Python 3",
   "language": "python",
   "name": "python3"
  },
  "language_info": {
   "codemirror_mode": {
    "name": "ipython",
    "version": 3
   },
   "file_extension": ".py",
   "mimetype": "text/x-python",
   "name": "python",
   "nbconvert_exporter": "python",
   "pygments_lexer": "ipython3",
   "version": "3.7.6"
  },
  "toc": {
   "base_numbering": 1,
   "nav_menu": {},
   "number_sections": false,
   "sideBar": false,
   "skip_h1_title": false,
   "title_cell": "Table of Contents",
   "title_sidebar": "Contents",
   "toc_cell": false,
   "toc_position": {},
   "toc_section_display": false,
   "toc_window_display": false
  }
 },
 "nbformat": 4,
 "nbformat_minor": 4
}
