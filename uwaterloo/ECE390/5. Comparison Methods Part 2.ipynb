{
 "cells": [
  {
   "cell_type": "markdown",
   "metadata": {},
   "source": [
    "# Internal Rate of Return\n",
    "\n",
    "- investments are undertaken with the expectation of a return in the form of future earnings\n",
    "- one way to measure the return is interest rate\n",
    "- the rate of return usually calculated for a project is known as the *internal rate of return* (IRR)\n",
    "    - internal refers to the fact that the internal rate of return depends only on the cash flows due to the investment\n",
    "    - the internal rate of return is that interest rate at which a project just breaks even\n",
    "\n",
    "**Example** 100 dollars is invested today in a project that returns 110 dollars in one year. IRR can be calculated by finding the interest rate at which 100 dollars now is equivalent to 110 dollars at the end of one year\n",
    "\n",
    "- $P = F(P/F, i^*, 1)$\n",
    "- $100 = 110(P/F, i^*, 1)$\n",
    "- $100 = {110 \\over 1 + i^*}$ where $i^*$ is the internal rate of return\n",
    "\n",
    "\n",
    "- the process of finding an internal rate of return is finding the interest rate that makes the present worth of benefits equal to the first cost, this interest rate is the IRR"
   ]
  },
  {
   "cell_type": "markdown",
   "metadata": {},
   "source": [
    "***Calculation*** The **internal rate of return (IRR)** on an investment is the interest rate $i^*$ such that when all cash flows associated with the project are discounted at $i^*$, the present worth of the cash inflows equals the present worth of the cash outflows (the project breaks even).\n",
    "\n",
    "\\begin{equation}\n",
    "\\sum_{t=0}^T {R_t - D_t \\over (1+i^*)^t} = 0\n",
    "\\end{equation}\n",
    "\n",
    "- $R_t$: the cash inflow (receipts) in period $t$\n",
    "- $D_t$: the cash outflow (disbursements) in period $t$\n",
    "- $T$: the number of time periods\n",
    "- $i^*$: the internal rate of return\n",
    "\n",
    "\\begin{equation}\n",
    "\\sum_{t=0}^T {R_t \\over (1+i^*)^t} = \\sum_{t=0}^T {D_t \\over (1+i^*)^t}\n",
    "\\end{equation}\n",
    "\n",
    "- to calculate the IRR, the disbursements and receipts must be comparable as a present worth, a uniform series, or a future worth\n",
    "\n",
    "- a negative IRR means that the project is losing money rather than earning"
   ]
  },
  {
   "cell_type": "markdown",
   "metadata": {},
   "source": [
    "# Internal Rate of Return Comparisons\n",
    "\n",
    "- we can use IRR to decide which of a group of mutually exclusive alternatives to accept\n",
    "- it is possible for a project to have more than one IRR\n",
    "- we can handle this by using an *external rate of return*\n",
    "\n",
    "## IRR for Independent Projects\n",
    "\n",
    "- independent projects: the principle for the IRR method is analogous for the MARR method\n",
    "    - **IRR > MARR**: **acceptable**\n",
    "        - invest in any project that has an IRR equal to or exceeding the MARR\n",
    "    - **IRR = MARR**: **marginally acceptable**\n",
    "        - projects with IRR = MARR have a marginally acceptable rate of return\n",
    "    - **IRR < MARR**: **unacceptable**    \n",
    "- when performing a rate of return comparison on several independent projects, the projects must have **equal lives**\n",
    "\n",
    "\n",
    "## IRR for Mutually Exclusive Projects\n",
    "\n",
    "- the best choice is **not necessarily the alternative with the highest IRR**\n",
    "- to use IRR to compare two or more exclusive alternatives properly, we cannot make the decision on the basis of the IRRs of individual alternatives alone\n",
    "- **take the IRRs of the *incremental* investments into consideration**\n",
    "- in order to properly assess the worthiness of the incremental investments, it is necessary to have a systematic way to **conduct pair-wise comparisons of projects**\n",
    "- alternatives should have **equal lives** when conducting pair-wise comparisons of projects\n",
    "\n",
    "### Algorithm\n",
    "\n",
    "<img src=\"img/Snip20191013_156.png\" width=80%/>\n",
    "\n",
    "1. order the alternatives from the smallest first cost to the largest first cost\n",
    "    - since one must be chosen, accept the alternative with the smallest first cost as the *current best alternative* regardless of its IRR exceeding the MARR\n",
    "    - we dont have to check the IRR of any of the individual alternatives since it may be less than MARR\n",
    "2. looking at the incremental investments of alternatives that have a higher first cost than the current best alternative\n",
    "    1. the incremental investment to implement the challenger does not have an IRR at least equal to the MARR, the challenger is then **excluded from further consideration**\n",
    "    2. the incremental investment to implement the challenger has an IRR at least as high as the MARR, in which case, the challenger **replaces the current best**\n",
    "3. the current best alternative remaining at the end of the process is then selected as the best overall alternative\n",
    "\n",
    "\n",
    "## Multiple IRRs\n",
    "TODO\n",
    "\n",
    "## External Rate of Return Methods\n",
    "\n",
    "- consider what return is earned by money associated with a project that is not invested in the project, the usual assumption is that the funds are invested elsewhere and earn an *explicit rate of rteurn* equal to MARR\n",
    "\n",
    "- ERR ($i_e^*$): Rate of Return of Cash Flows @ MARR\n",
    "    - the rate of return on a project where any cash flows that are not invested in the project are assumed to earn interest at a predetermined explicit rate (usually the MARR)\n",
    "    - for a given explicit rate of rteurn, a project can have only one value for its ERR\n",
    "    - Net annuity: $NA = A_{in} - A_{out}$\n",
    "    - $NFW = 0 = F_{NA}(i) - F_{Inv}(i_e^*) = NA {(1+i)^N - 1 \\over i} - Inv(1+i_e^*)^N$, solve for $i_e^*$\n",
    "  \n",
    "- in general, computing a precise ERR can be complex due to the difficulty in determining exactly when the explicit interest rate should be applied\n",
    "\n",
    "### ERR Approximation\n",
    "\n",
    "- preferable to use IRR/NPW\n",
    "- used when there are multiple IRRs, or the investment plan is complicated\n",
    "\n",
    "\\begin{equation}\n",
    "F_{in} @ i = F_{out} @ i_{ea}^*\n",
    "\\end{equation}\n",
    "\n",
    "1. take all *net* **receipts forward at the MARR** to the time of the last cash flow\n",
    "2. take all *net* **disbursements forward at an unknown interest rate $i_{ea}^*$** also to the time of the last cash flow\n",
    "3. equate the future value of the receipts from Step 1 to the future value of the disbursements from Step 2 and solve for $i_{ea}^*$\n",
    "4. the value for $i_{ea}^*$ is the *approximate* ERR for the project\n",
    "    \n"
   ]
  },
  {
   "cell_type": "markdown",
   "metadata": {},
   "source": [
    "# Project Comparison Methods\n",
    "\n",
    "Method|Pros|Cons\n",
    "---|---|---\n",
    "IRR|Facilitates comparisons of projects of different sizes|Difficult to compute and possible IRRs may exist\n",
    "Present Worth|Gives explicit measure of profit contribution; value of worth in dollars|Difficult to compare different size\n",
    "Annual Worth|Yields annual cash flows|Difficult to compare different size\n",
    "Payback Period| Easy to compute; Reflects the need for capital recovery| Discriminates against long-term projects; ignore life span; ignore time value of money\n",
    "\n"
   ]
  },
  {
   "cell_type": "markdown",
   "metadata": {},
   "source": [
    "# Rate of Return vs Present/Annual Worth \n",
    "\n",
    "- the two sets of methods, when properly used, give the same decisions"
   ]
  },
  {
   "cell_type": "code",
   "execution_count": null,
   "metadata": {},
   "outputs": [],
   "source": []
  }
 ],
 "metadata": {
  "kernelspec": {
   "display_name": "Python 3",
   "language": "python",
   "name": "python3"
  },
  "language_info": {
   "codemirror_mode": {
    "name": "ipython",
    "version": 3
   },
   "file_extension": ".py",
   "mimetype": "text/x-python",
   "name": "python",
   "nbconvert_exporter": "python",
   "pygments_lexer": "ipython3",
   "version": "3.7.5"
  }
 },
 "nbformat": 4,
 "nbformat_minor": 2
}
