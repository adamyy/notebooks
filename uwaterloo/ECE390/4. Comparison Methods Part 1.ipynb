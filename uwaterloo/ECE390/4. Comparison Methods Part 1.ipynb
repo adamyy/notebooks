{
 "cells": [
  {
   "cell_type": "markdown",
   "metadata": {},
   "source": [
    "# Intro\n",
    "\n",
    "- investing is to give up something valuable now for the expectation of receiving something of greater value later\n",
    "- an investment may be thought of as an exchange of resources now for an expected flow of benefits in the future\n",
    "\n",
    "- comparison methods: methods of evaluating and comparing projects\n",
    "- **present worth method**: compares projects by looking at the present worth of all cash flows associated with the projects\n",
    "    - $\\textrm{NPW}/\\textrm{NPV} = P_{in} - P_{ret}$\n",
    "- **annual worth method**: similar to PWM, but converts all cash flows to a uniform series, that is, an annuity\n",
    "    - $\\textrm{NAW}/\\textrm{NAV} = \\textrm{NPW}(\\textrm{NAW}/\\textrm{NPW}, i, N)$\n",
    "- **payback period method**: estimates how long it takes to \"pay back\" investments\n",
    "    - time for $P_{in}=P_{ret} @ i = 0$\n",
    "- **internal rate of return**: $i^* @ \\textrm{NPW}/\\textrm{NPV} = 0$?"
   ]
  },
  {
   "cell_type": "markdown",
   "metadata": {},
   "source": [
    "# Relations Among Projects\n",
    "\n",
    "- **Independent**\n",
    "    - two projects are independent if the expected costs and the expected benefits of each project do not depend on whether the other one is chosen\n",
    "- **Mutually Exclusive**\n",
    "    - in the processing of choosing one, all other alternatives are excluded\n",
    "    - two projects are mutually exclusive if it is impossible to do both\n",
    "- **Related but not Mutually Exclusive**\n",
    "    - for pairs of projects in this category, the expected costs and benefits of one project depend on whether the other one is chosen\n",
    "    - but it may be possible or it may make sense to have both projects\n"
   ]
  },
  {
   "cell_type": "markdown",
   "metadata": {},
   "source": [
    "# Minimum Acceptable Rate of Return (MARR)\n",
    "\n",
    "- a company evaluating projects will set for itself a lower limit for investment acceptability known as MARR\n",
    "- MARR is an interest rate that **must be earned** for any project to be accepted\n",
    "    - projects that can earn at least the MARR are desirable, since it means that the money is earning at least as much as can be earned elsewhere\n",
    "- MARR can also be viewed as the rate of return required to get investors to invest in a business\n",
    "- MARR is thus an opportunity cost\n",
    "    - investors have investment opportunties, investing in a given project implies forgoing the opportunity of investing elsewhere\n",
    "    - once a company sets a MARR, investing in a given project implies giving up the opportunity of using company funds to invest in other projects that pay at least the MARR\n",
    "\n",
    "- **cost of capital**: the minimum return required to induce investors to invest in the company is the company's cost of capital\n"
   ]
  },
  {
   "cell_type": "markdown",
   "metadata": {},
   "source": [
    "# Present Worth (PW) and Annual Worth (AW)\n",
    "\n",
    "- the present worth (PW) comparison method and the annual worth (AW) comparison method are based on finding a comparable basis to evaluate projects in monetary units\n",
    "\n",
    "- **Present Worth** model: compare projects by computing the present worths of the two projects **at the MARR**\n",
    "    - the preferred project is the one with the greater present worth\n",
    "    - the value of any company can be considered to be the present worth of all of its projects\n",
    "    - choosing projects with the greatest present worth maximizes the value of the company\n",
    "- **Annual Worth** model: compare projects by transforming all disbursements and receipts of the two projects to a uniform series **at the MARR**\n",
    "    - the preferred project is the one with the greater annual worth\n",
    "\n",
    "## Present Worth Comparisons for Independent Projects\n",
    "\n",
    "- independent projects\n",
    "    - present worth > 0: **acceptable**\n",
    "    - present worth = 0: **marginally acceptable**\n",
    "    - present worth < 0: **unacceptable**\n",
    "\n",
    "- **if an independent project has a present worth greater than zero, it is acceptable; if equal to zero, it is marginally acceptable; otherwise it is unacceptable**\n",
    "\n",
    "- the alternative to investing money in an independent project is to \"do nothing\", which means it would be used for some other project, earning interest at a rate at least equal to the MARR\n",
    "\n",
    "- however, the present worth of any money invested at the MARR is zero, since the present worth of future receipts would exactly offset the current disbursement\n",
    "\n",
    "\n",
    "## Present Worth Comparsions for Mutually Exclusive Projects\n",
    "\n",
    "- **the project with the greatest present worth is the preferred project** because it is the one with the greatest profit\n",
    "\n",
    "- when the service lives are the same, one can choose the best project among a set of mutually exclusive projects using the present worth method, by computing the present worth of each project using the MARR\n",
    "\n",
    "    \n",
    "## Annual Worth Comparisons\n",
    "\n",
    "- similar to present worth comparisons, except that all disbursements and receipts are transformed to a uniform series at the MARR, rather than to the present worth\n",
    "\n",
    "- any present worth $P$ can be converted to an annuity $A$ by the capital receovery factor $(A/P, i, N)$\n",
    "\n",
    "- a comparison of the two projects *that have the same life* by the present worth and annual worth will always indicate the same preferred alternative\n",
    "\n",
    "- the uniform series is not necessarily on a yearly basis\n",
    "\n",
    "\n",
    "## Comparison of Alternatives With Unequal Lives\n",
    "\n",
    "- when making present worth comparisons, we must always use the same time period in order to take into account the full benefits and costs of each alternative\n",
    "\n",
    "- if the lives of the alternatives are not the same, we can transform them to equal lives\n",
    "    - 1. repeat the service life of each alternative to arrive at a common time period for all the alternatives\n",
    "        - assuming that each alternative can be repeated with the same costs and benefits in the future\n",
    "        - ^ known as **repeated lives**\n",
    "        - usually we use the *least common multiple* of the lives of the various alternatives\n",
    "    - 2. adopt a specified **study period**, a time period that is given for the analysis"
   ]
  },
  {
   "cell_type": "markdown",
   "metadata": {},
   "source": [
    "# Payback Period\n",
    "\n",
    "- a rough measure of the time it takes for an investment to pay for itself\n",
    "- definition: number of years it takes for an investment to be recouped when the interest rate is assumed to be zero\n",
    "\n",
    "- when annual savings are constant, the payback period is usually calculated as follows\n",
    "\n",
    "\\begin{equation}\n",
    "\\textrm{payback_period} = {\\textrm{first_cost} \\over \\textrm{annual_savings}}\n",
    "\\end{equation}\n",
    "\n",
    "- if the annual savings are not constant, we can calculate the payback period by deducting each year of savings from the first cost until the first cost is covered\n",
    "\n",
    "- the project with the shorter payback period is the preferred investment"
   ]
  },
  {
   "cell_type": "markdown",
   "metadata": {},
   "source": []
  }
 ],
 "metadata": {
  "kernelspec": {
   "display_name": "Python 3",
   "language": "python",
   "name": "python3"
  },
  "language_info": {
   "codemirror_mode": {
    "name": "ipython",
    "version": 3
   },
   "file_extension": ".py",
   "mimetype": "text/x-python",
   "name": "python",
   "nbconvert_exporter": "python",
   "pygments_lexer": "ipython3",
   "version": "3.7.5"
  }
 },
 "nbformat": 4,
 "nbformat_minor": 2
}
