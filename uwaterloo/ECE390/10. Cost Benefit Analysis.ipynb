{
 "cells": [
  {
   "cell_type": "markdown",
   "metadata": {},
   "source": [
    "# Benefit-Cost Analysis\n",
    "\n",
    "- provide a general framework for assessing the gains and losses associated with alternative projects when a broad societal view is necessary.\n",
    "\n",
    "## Benefit-Cost Ratios\n",
    "\n",
    "- once the costs and benefits associated with a project has been identified and measures, we can use the present worth, annual worth and IRR performance measures\n",
    "\n",
    "\\begin{equation}\n",
    "BCR = {PW(\\textrm{user's benefits}) \\over PW(\\textrm{sponsor's costs})}\n",
    "\\end{equation}\n",
    "\n",
    "- benefit-cost ratios can be based on either the **present worths** or the **annual worths** of benefits and costs of projects, the resulting ratios are equivalent in that they lead to the same decisions\n",
    "- the convetional BCR is given by the ratio of the present worth of net users' benefits to the present worth of the net sponsors' costs for a project\n",
    "\n",
    "\\begin{equation}\n",
    "BCRM = { PW(\\textrm{user's benefits}) - PW(\\textrm{sponsor's operating costs}) \\over PW(\\textrm{sponsor's capital costs}) }\n",
    "\\end{equation}\n",
    "\n",
    "- Modified Benefit-Cost ratio, is given by the ratio of the present worth of net benefits minus the present worth of operating costs to the present worth of capital costs\n",
    "- in general, a project is considered desirable if its benefit-cost ratio exceeds one (benefits exceed its costs)\n",
    "- the two types of benefit-cost ratios will lead to the same decision\n",
    "\n",
    "- for **independent projects**, *accept all projects with a benefit-cost ratio greater than one*, so accept a project if\n",
    "    - $BCR = {PW(\\textrm{user's benefits}) \\over PW(\\textrm{sponsor's costs})} > 1$, or\n",
    "    - $BCRM = { PW(\\textrm{user's benefits}) - PW(\\textrm{sponsor's operating costs}) \\over PW(\\textrm{sponsor's capital costs}) } > 1$\n",
    "- for **mutually exclusive projects**, we must evaluate the **increment** between projects, suppose we have two mutually exclusive projects, $X$ and $Y$, with present worths of benefits $B_X$ and $B_Y$, and present worths of costs $C_X$ and $C_Y$, \n",
    "    - we first check to see if the individual benefit-cost ratios are greater than one, **discard a project with a BCR of less than one**\n",
    "    - if both projects have BCR greater than one, we rank the projects in ascending order by present worths of costs\n",
    "    - suppose $C_X \\ge C_Y$, we than form the ratio of the differences in benefits and costs, $BCR(X-Y) = {B_X - B_Y \\over C_X - C_Y}$, if $BCR(X-Y) > 1$, choose X, otherwise choose Y\n",
    "    - if $C_X = C_Y$, choose the project with the greater present worth of benefits\n",
    "    - if $B_X = B_Y$, choose the project with the lower present worth of costs\n",
    "    - TODO: waht"
   ]
  },
  {
   "cell_type": "code",
   "execution_count": null,
   "metadata": {},
   "outputs": [],
   "source": []
  }
 ],
 "metadata": {
  "kernelspec": {
   "display_name": "Python 3",
   "language": "python",
   "name": "python3"
  },
  "language_info": {
   "codemirror_mode": {
    "name": "ipython",
    "version": 3
   },
   "file_extension": ".py",
   "mimetype": "text/x-python",
   "name": "python",
   "nbconvert_exporter": "python",
   "pygments_lexer": "ipython3",
   "version": "3.7.5"
  }
 },
 "nbformat": 4,
 "nbformat_minor": 2
}
