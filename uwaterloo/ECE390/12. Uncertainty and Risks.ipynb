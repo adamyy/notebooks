{
 "cells": [
  {
   "cell_type": "markdown",
   "metadata": {},
   "source": [
    "# Sensitivity Analysis\n",
    "\n",
    "- risk: we may have enough info to characterize uncertain outcomes according to their chance or likelihodd => converts a problem from one of uncertainty to one of risk\n",
    "    - the probability distribution of outcomes associated with a project\n",
    "    - or the probability of an undesireable outcome"
   ]
  },
  {
   "cell_type": "markdown",
   "metadata": {},
   "source": [
    "# Sensitivity Graphs\n",
    "\n",
    "- used to access the effect of one-at-a-time changes in key parameter values\n",
    "- begin with a base case where all estimated parameter values are used to evaluate NPW, NAW, IRR, etc.\n",
    "- vary parameters above or below the base case one at a time, holding all other param fixed\n",
    "- a graph of the changes in a performance measure brought about by these one-at-a-time param changes is called a sensitivity graph"
   ]
  },
  {
   "cell_type": "markdown",
   "metadata": {},
   "source": [
    "<img src=\"img/Snip20191217_229.png\"/>\n"
   ]
  },
  {
   "cell_type": "markdown",
   "metadata": {},
   "source": [
    "<img src=\"img/Snip20191217_230.png\"/>"
   ]
  },
  {
   "cell_type": "markdown",
   "metadata": {},
   "source": [
    "<img src=\"img/Snip20191217_231.png\"/>"
   ]
  },
  {
   "cell_type": "markdown",
   "metadata": {},
   "source": [
    "# Break-Even Analysis\n",
    "\n",
    "- the process of varying a parameter of a problem and determining what parameter value causes the performance measure to reach some threshold or \"break-even\" value\n",
    "\n",
    "- answer questions like: \"what MARR will result in a zero PW\"\n",
    "\n",
    "- can also be used in the comparison of two or more projects, break-even analysis applied to multiple projects can answer questions like \"over what range of interest rates is project A the best choice\", or \"for what output level are we indifferent between two projects\"\n"
   ]
  },
  {
   "cell_type": "markdown",
   "metadata": {},
   "source": [
    "## Break-Even Analysis for a Single Project\n",
    "\n",
    "Break-Even Chart for the MARR| Break-Even Chart for First Cost\n",
    "---|---\n",
    "<img src=\"img/Snip20191217_232.png\"/>|<img src=\"img/Snip20191217_233.png\"/>"
   ]
  },
  {
   "cell_type": "markdown",
   "metadata": {},
   "source": [
    "# Break-Even Analysis for Multiple Projects\n",
    "\n",
    "- with multiple projects, we are concerned about how changes in parameter values affect which project or projects are chosen\n",
    "- for multiple independent projects, assuming that there are sufficient funds to finance all projects, break-even analysis can be carried out on each project independently\n",
    "- for mutually exclusive projects, a break-even comparison can reveal the range over which each alternative is preferred and can show the break-even points where we are indifferent between two projects"
   ]
  },
  {
   "cell_type": "code",
   "execution_count": null,
   "metadata": {},
   "outputs": [],
   "source": []
  }
 ],
 "metadata": {
  "kernelspec": {
   "display_name": "Python 3",
   "language": "python",
   "name": "python3"
  },
  "language_info": {
   "codemirror_mode": {
    "name": "ipython",
    "version": 3
   },
   "file_extension": ".py",
   "mimetype": "text/x-python",
   "name": "python",
   "nbconvert_exporter": "python",
   "pygments_lexer": "ipython3",
   "version": "3.7.5"
  }
 },
 "nbformat": 4,
 "nbformat_minor": 2
}
