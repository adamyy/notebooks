{
 "cells": [
  {
   "cell_type": "markdown",
   "metadata": {},
   "source": [
    "##### Reasons for Depreciation\n",
    "\n",
    "- use-related physical loss\n",
    "- time-related physical loss\n",
    "- functional loss"
   ]
  },
  {
   "cell_type": "markdown",
   "metadata": {},
   "source": [
    "# Value of an Asset\n",
    "\n",
    "- **Market Value**: the actual value an asset can be sold for in an open market (usually an estimate)\n",
    "- **Book Value**: the depreciated value of an asset for accounting purposes, as calculated with a **depreciation model**\n",
    "    - may be more or less than market value\n",
    "    - there might be several different book values for the same asset, depending on the purpose and depreciation model applied\n",
    "- **Scrap Value**: either the actual value of an asset at the end of its physical life or an estimate of the scrap value calculating using a depreciation model\n",
    "- **Salvage Value**: either the actual value of an asset at the end of its useful life, or an estimate of the scrap value calculated using a depreciation model"
   ]
  },
  {
   "cell_type": "markdown",
   "metadata": {},
   "source": [
    "# Straight-Line Depreciation\n",
    "\n",
    "- assumes that the rate of loss in value of an asset is constant over its useful life\n",
    "\n",
    "<img src=\"img/Snip20191009_143.png\" width=80%/>\n",
    "\n",
    "## Depreciation Charge and Book Value\n",
    "\n",
    "\\begin{equation}\n",
    "D_{sl}(n) = {P-S\\over N}\n",
    "\\end{equation}\n",
    "\n",
    "- $D_{sl}(n)$: the depreciation charge for period $n$ using the straight-line method\n",
    "- $P$: the purchase price or current market value\n",
    "- $S$: the salvage value after $N$ periods\n",
    "- $N$: the useful life of the asset, in periods\n",
    "\n",
    "\\begin{equation}\n",
    "BV_{sl}(n) = P - n[{P - S \\over N}]\n",
    "\\end{equation}\n",
    "\n",
    "- $BV_{sl}(n)$: the book value at the end of period $n$ using straight-line depreciation\n",
    "\n",
    "- **Disadvantages**\n",
    "    - assume a constant rate of loss in asset value (often not valid)\n",
    "    - book value calculated using straight-line depreciation will frequently be different from market values\n",
    "- **Advantages**\n",
    "    - easy to calculate\n",
    "    - easy to understand"
   ]
  },
  {
   "cell_type": "markdown",
   "metadata": {},
   "source": [
    "# Declining-Balance Depreciation\n",
    "\n",
    "- also known as *redcuing-balance depreciation*\n",
    "- models the loss in value of an asset over a period as a constant fraction of the asset's current book value\n",
    "    - the depreciation charge in a particular period is constant proportion (called the depreciation rate) of its closing book value from the previous period\n",
    "    \n",
    "<img src=\"img/Snip20191009_144.png\" width=80%/>\n",
    "\n",
    "## Depreciation Charge and Book Value\n",
    "\n",
    "\\begin{equation}\n",
    "D_{db}(n) = BV_{db}(n-1) \\times d\n",
    "\\end{equation}\n",
    "\n",
    "- $D_{db}(n)$: the depreciation charge in period $n$ using the declining-balance method\n",
    "- $NB_{db}(n)$: the book value at the end of period $n$ using the declining-balance method\n",
    "- $d$: the depreciation rate\n",
    "\n",
    "\\begin{equation}\n",
    "BV_{db}(n) = P(1-d)^n\n",
    "\\end{equation}\n",
    "\n",
    "- the remaining value after each period is $(1-d)$ times the value at the end of the previous period\n",
    "- $P$: the purchase price of current market value\n",
    "- a reasonable depreciation rate must be determined to use the declining-balance method\n",
    "- by using an asset's current value $P$ and a salvage value $S$, $n$ periods from now, we can find the declining balance rate that relates $P$ and $S$\n",
    "    - $BV_{db}(n) = S = P(1-d)^n$\n",
    "    - $d = 1 - \\sqrt[n]{S\\over P}$\n",
    "\n",
    "- **advantages**\n",
    "    - matches the observable loss in value that many assets have over time\n",
    "    - easy to calculate\n",
    "\n"
   ]
  },
  {
   "cell_type": "markdown",
   "metadata": {},
   "source": []
  }
 ],
 "metadata": {
  "kernelspec": {
   "display_name": "Python 3",
   "language": "python",
   "name": "python3"
  },
  "language_info": {
   "codemirror_mode": {
    "name": "ipython",
    "version": 3
   },
   "file_extension": ".py",
   "mimetype": "text/x-python",
   "name": "python",
   "nbconvert_exporter": "python",
   "pygments_lexer": "ipython3",
   "version": "3.7.5"
  }
 },
 "nbformat": 4,
 "nbformat_minor": 2
}
