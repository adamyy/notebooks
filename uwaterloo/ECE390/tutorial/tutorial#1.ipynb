{
 "cells": [
  {
   "cell_type": "markdown",
   "metadata": {},
   "source": [
    "**Problem 1**\n",
    "\n",
    "TN is making a product for the overseas market.\n",
    "- Selling price: \\$167\n",
    "- Materials and purchased parts: \\$25/unit\n",
    "- Direct labor: 2 hours at \\$20 per hour\n",
    "- Fixed cost: \\$1,400,200\n",
    "\n",
    "\n",
    "1. if the overhead expenses are charged at 80\\% of labor cost, determine the manufacturing cost per unit\n",
    "    - $MC = 25 + 2 \\times 20 + 0.8 \\times 2 \\times 20 = 97$\n",
    "\n",
    "2. determine the breakeven volume for the product\n",
    "    - $profit = 167x - 97x - 1,400,000$\n",
    "    - at breakeven, profit is zero\n",
    "    - therefore $x=20,000$ units\n",
    "\n",
    "3. what is the profit per unit if 30,000 units are sold?\n",
    "    - $profit = 167 \\times 30,000 - 1,400,000 = 700,000$\n",
    "\n",
    "4. to reduce the breakeven volume to 15,000 units, what should be the selling price?\n",
    "    - $profit = price \\times 15,000 - 97 \\times 15,000 - 1,400,000 = 0$\n",
    "    - $price = 190.333$"
   ]
  },
  {
   "cell_type": "markdown",
   "metadata": {},
   "source": [
    "**Problem 2**\n",
    "\n",
    "Use the following fact, draw the cash flow\n",
    "\n",
    "- On December 1st, Smith bought a car for \\\\$18,500.\n",
    "- He paid $5,000 immediately and and agreed to make three additional payments of \\\\$6,000 each (which will include principal and interest) at the end of one, two and three years.\n",
    "- Maintenance for the car is projected at \\$1,000 at the end of first year and \\\\$2,000 at the end of each subsequence year\n",
    "- Smith expects to sell the car for \\$7,000 at the end of the fourth year after paying for the maintenance work \n",
    "\n"
   ]
  },
  {
   "cell_type": "markdown",
   "metadata": {},
   "source": [
    "**Problem 3**\n",
    "\n",
    "if the value of Jane's retirement portfolio increased from \\$170,00 to \\\\$813,000 over the period of 15 years, and there are no deposits in the account during that period, what was her rate of return?\n",
    "\n",
    "- $F = P(1+i)^N$ => $813k = 173k(1+i)^{15}$ => $i=11\\%$"
   ]
  },
  {
   "cell_type": "markdown",
   "metadata": {},
   "source": [
    "**Problem 4**\n",
    "\n",
    "Find the effective interest rate given below facts\n",
    "\n",
    "- loan = \\$23,800\n",
    "- annual interest rate 10\\%\n",
    "- pay 5\\% of the loan amount for loan insurance\n",
    "- the bank charges an extra \\$300 fee \n",
    "- the money will be repaid in a year\n",
    "\n",
    "Formulas:\n",
    "- $F=loan(F/P, 10\\%, 1) = 23800(1+0.1) = 26180$\n",
    "- $insurance=5\\% \\times loan=1190$\n",
    "- $fee=300$\n",
    "- $F=P_{NET}(F/P, i_e, 1)$ => $26180=(23800-1190-300)(1+i_e)$ => $i_e=17.35%$"
   ]
  },
  {
   "cell_type": "code",
   "execution_count": null,
   "metadata": {},
   "outputs": [],
   "source": []
  }
 ],
 "metadata": {
  "kernelspec": {
   "display_name": "Python 3",
   "language": "python",
   "name": "python3"
  },
  "language_info": {
   "codemirror_mode": {
    "name": "ipython",
    "version": 3
   },
   "file_extension": ".py",
   "mimetype": "text/x-python",
   "name": "python",
   "nbconvert_exporter": "python",
   "pygments_lexer": "ipython3",
   "version": "3.7.3"
  }
 },
 "nbformat": 4,
 "nbformat_minor": 2
}
