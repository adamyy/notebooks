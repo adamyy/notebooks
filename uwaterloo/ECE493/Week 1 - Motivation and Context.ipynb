{
 "cells": [
  {
   "cell_type": "markdown",
   "metadata": {},
   "source": [
    "## Probability Review\n",
    "\n",
    "TODO"
   ]
  },
  {
   "cell_type": "markdown",
   "metadata": {},
   "source": [
    "<img src=\"img/Snip20200515_14.png\"/>\n",
    "<img src=\"img/Snip20200515_15.png\"/>"
   ]
  },
  {
   "cell_type": "markdown",
   "metadata": {},
   "source": [
    "## Machine Learning\n",
    "\n",
    "> Detect patterns in data, use the uncovered patterns to predict future data or other outcomes of interest\n",
    "\n",
    "- Finding patterns in data allow us to \n",
    "    - Group people/events/objects into clusters\n",
    "    - Classify them according to known meaningful labels\n",
    "    - Predict their behavior in the future\n",
    "    - Detect anomalous data points\n",
    "    - Allow people to make better decisions\n",
    "\n",
    "\n",
    "### Major Types of Machine Learning\n",
    "\n",
    "\n",
    "- **Supervised Learning**\n",
    "    - Continuous target variable\n",
    "        - Regression, e.g., housing price prediction\n",
    "    - Categorical target variable\n",
    "        - Classification, e.g., medical imaging\n",
    "\n",
    "\n",
    "- **Unsupervised Learning**\n",
    "    - Target variable not available\n",
    "        - Clustering, e.g., customer segmentation\n",
    "        - Association, e.g., market basket analysis\n",
    "\n",
    "\n",
    "- **Semi-supervised Learning**\n",
    "    - Categorical target variable\n",
    "        - Classification, e.g., text classification\n",
    "        - Clustering, e.g., lane-finding on GPS data\n",
    "\n",
    "\n",
    "- **Reinforcement Learning**\n",
    "    - Categorical target variable\n",
    "        - Classification, e.g., optimized marketing\n",
    "    - Target variable not available\n",
    "        - Control, e.g., autonomous driving"
   ]
  },
  {
   "cell_type": "markdown",
   "metadata": {},
   "source": [
    "## Neural Network and Deep Learning Basics\n",
    "\n",
    "- Neural networks to learn $f: X \\rightarrow Y$\n",
    "- $f$ can be a non-linear function\n",
    "- $X$ and $Y$ can be a vector of continuous and/or discrete variables\n",
    "\n",
    "\n",
    "Feedforward Neural Networks: represent $f$ by network of non-linear units\n",
    "\n",
    "<img src=\"img/Snip20200515_17.png\" width=80%/>"
   ]
  },
  {
   "cell_type": "markdown",
   "metadata": {},
   "source": [
    "## Basic Three Layer Neural Network\n",
    "\n",
    "- **Input Layer**\n",
    "    - Takes an array of numbers\n",
    "    - Each input **collects one feature/dimension of the data and passes it onto the (first) hidden layer**\n",
    "    - Measurements, aggregate stats, computed indices, pixels\n",
    "\n",
    "\n",
    "- **Hidden Layer**\n",
    "    - Each hidden unit **computes a weighted sum of all the units from the input layer**\n",
    "\n",
    "\n",
    "- **Output Layer**\n",
    "    - Each output unit **computes a weighted sum of all the hidden units and passes it through a threshold function**\n",
    "    - Target variables, predictions, class labels, images\n",
    "\n",
    "\n",
    "<img src=\"img/Snip20200515_18.png\" width=80%/>\n"
   ]
  },
  {
   "cell_type": "markdown",
   "metadata": {},
   "source": [
    "## Markov Decision Process (MDP)\n",
    "\n",
    "<img src=\"img/Snip20200515_19.png\" width=80%/>\n",
    "\n",
    "- In reinforcement learning, we do not know ahead of time:\n",
    "    - The rewards (the relative value of outcomes)\n",
    "    - The dynamics (how the world works)\n",
    "    - We *ask* for them by acting\n",
    "- Reinforcement learning is learning the policy for taking actions for an MDP when you *do not have access* to the full definition of the rewards and/or the dynamics\n",
    "\n",
    "\n"
   ]
  },
  {
   "cell_type": "code",
   "execution_count": null,
   "metadata": {},
   "outputs": [],
   "source": []
  }
 ],
 "metadata": {
  "kernelspec": {
   "display_name": "Python 3",
   "language": "python",
   "name": "python3"
  },
  "language_info": {
   "codemirror_mode": {
    "name": "ipython",
    "version": 3
   },
   "file_extension": ".py",
   "mimetype": "text/x-python",
   "name": "python",
   "nbconvert_exporter": "python",
   "pygments_lexer": "ipython3",
   "version": "3.7.6"
  },
  "toc": {
   "base_numbering": 1,
   "nav_menu": {},
   "number_sections": false,
   "sideBar": false,
   "skip_h1_title": false,
   "title_cell": "Table of Contents",
   "title_sidebar": "Contents",
   "toc_cell": false,
   "toc_position": {},
   "toc_section_display": false,
   "toc_window_display": false
  }
 },
 "nbformat": 4,
 "nbformat_minor": 4
}
