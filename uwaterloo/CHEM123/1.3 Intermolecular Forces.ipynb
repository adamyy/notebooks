{
 "cells": [
  {
   "cell_type": "markdown",
   "metadata": {},
   "source": [
    "## Dipole-dipole Forces\n",
    "\n",
    "Dipole-dipole forces contributes only if the molecules are polar (dipole moment $\\mu \\ne 0$)\n",
    "\n",
    "Some molecules possess a permanent **dipole moment** $\\mu$, because the bond dipoles do not cancel out. Such molecules are said to be \"polar\" because one end of the molecule is slightly positive and the other end is slightly negative. **Polarizabilities** $\\alpha$ provides a measure of the extent to which the charge cloud of a molecule can be distorted (i.e., polarized) by another molecule.\n",
    "\n",
    "<img src=\"img/Snip20200517_7.png\" width=30%/>\n",
    "\n",
    "The charge distribution of a polar molecule can be represented by an arrow that points from the positive end to the negative end. And polar molecules (i.e., dipoles) tend to orient themselves \"head-to-tail\"\n",
    "\n",
    "<img src=\"img/Snip20200517_6.png\" width=40%/>\n",
    "\n",
    "For a pair of interacting polar molecules with dipole moments of $\\mu_A$ and $\\mu_B$, the potential energy of interaction between two dipoles is given as:\n",
    "\n",
    "<img src=\"img/Snip20200517_4.png\" width=30%/>\n",
    "\n",
    "\\begin{equation}\n",
    "\\textrm{PE} \\propto - {\\mu_A^2 \\mu_B^2\\over d^6}\n",
    "\\end{equation}\n",
    "\n",
    "If the distance $d$ increases by a factor of 10, the potential energy of interaction decreases by a factor of 10^6"
   ]
  },
  {
   "cell_type": "markdown",
   "metadata": {},
   "source": [
    "> **Example** Iodine chloride ICl and bromine Br2 have the same number of electrons, and it can be assumed that these molecules are the same size. Yet the boiling points of ICl(l) and Br2(l) are quite different (97°C vs 59°C). Explain why ICl(l) has a higher boiling point than Br2(l) using dipole-dipole interactions\n",
    "\n",
    "\n",
    "The I-Cl molecule is a polar molecule because chloride is more electric negative than iodine, the electron density is more drawn to clorine and away from iodine.\n",
    "\n",
    "The Br-Br molecule is non-polar for obvious reason.\n",
    "\n",
    "<img src=\"img/Snip20200517_8.png\" width=40%/>\n",
    "\n",
    "So the I-Cl moledule has a nonzero dipole moment, the I-Cl molecules interact via dipole-dipole forces, whereas the Br2 molecules do not have such interaction.\n",
    "\n",
    "We expect that the attraction between I-Cl molecules is greater than that between Br2 molecules. Therefore the I-Cl liquid will have a higher surface tension and viscosity, as well as a higher boiling point and lower vapour pressure at a given temperature.\n",
    "\n"
   ]
  },
  {
   "cell_type": "markdown",
   "metadata": {},
   "source": [
    "## London Dispersion Forces (LDFs)\n",
    "\n",
    "The electrons in a molecule are in constant motion and at any particular instant, there may be an asymmetric distribution of electrons in the molecule (i.e., with a greater number of elctrons at one end than at the other end). Such **asymmetric distribution of electrons** gives rise to an **instantaneous and temporary dipole moment** ($\\mu_{\\textrm{inst}}$). The formation of $\\mu_{\\textrm{inst}}$ in a molecule causes/induces the formation of a dipole in neighboring molecule, this **induced dipole moment** is $\\mu_{\\textrm{ind}}$.\n",
    "\n",
    "<img src=\"img/Snip20200517_10.png\" width=50%/>\n",
    "\n",
    "There is an attraction between $\\mu_{\\textrm{inst}}$ and $\\mu_{\\textrm{ind}}$, the strength of the interaction increases as the \"polarizabilities\" of the molecules increases.\n",
    "\n",
    "The charge cloud of a large molecule is diffuse and easily polarized; the charge cloud of a small, compact molecule is not easily polarize: **the larger the molecule, the larger the polarizability**. For a pair of molecules with polarizabilities of $\\alpha_A$ and $\\alpha_B$:\n",
    "\n",
    "<img src=\"img/Snip20200517_11.png\" width=30%/>\n",
    "\n",
    "\\begin{equation}\n",
    "\\textrm{PE} \\propto - {\\alpha_A \\alpha_B \\over d^6}\n",
    "\\end{equation}\n",
    "\n",
    "**LDFs always contribute to the molecular interactions** because all molecules have charge clouds and are therefore polarizable to some extent. For highly polar, small molecules, and those which can form hydrogen bonds, LDFs usually contributes more than dipole-dipole forces.\n",
    "\n",
    "\n",
    "\n",
    "\n"
   ]
  },
  {
   "cell_type": "markdown",
   "metadata": {},
   "source": [
    "**Example** Methane (CH4) and carbon tetrachloride (CCl4) are both nonpolar molecules. Use London dispersion forces to explain why the boiling point of CCl4(l) is higher than that of CH4(l)\n",
    "\n",
    "<img src=\"img/Snip20200518_12.png\" width=80%/>\n",
    "\n",
    "- Since they are nonpolar, dipole-diploe interactions do not contribute to the attraction between CH4 molecules or between CCl4 molecules.\n",
    "- However, since Cl atom is much larger than a H atom, thus the CCl4 molecules are much larger than CH4 molecules and thus more polarizable\n",
    "- Thus LDFs between a pair of CCl4 molecules are more attractive than the LDFs between a pair of CH4 molecules\n",
    "- Thus CCl4(l) has a higher boiling point, surface tension and viscosity"
   ]
  },
  {
   "cell_type": "markdown",
   "metadata": {},
   "source": [
    "## Hydrogen Bonding Forces\n",
    "\n",
    "A special type of interaction occurs between molecules when the molecules contain a hydrogen atom bonded to **N, O, or F**. When H is bonded to O, N, or F, the H atom carries a significant positive charge and it is strongly attracted to a lone pair on another molecule. When a hydrogen atom is covalently bonded to one atom is simultaneously attracted to the lone pair on another atom, it is bridging two molecules, such interaction is called a **hydrogen bond**.\n",
    "\n",
    "<img src=\"img/Snip20200518_13.png\"/>\n",
    "\n",
    "- Hydrogen bonds are the strongest type of intermolecular forces\n",
    "\n",
    "<img src=\"img/Snip20200518_14.png\" width=80%/>\n",
    "\n"
   ]
  },
  {
   "cell_type": "markdown",
   "metadata": {},
   "source": [
    "**Example** Which one has the higher boiling point, CH3COCH3(l) or CH3CH2CH2OH(l)\n",
    "\n",
    "<img src=\"img/Snip20200518_15.png\" width=80%/>\n",
    "\n",
    "Both molecules are polar, and the molecules are of similar size, thus have similar polarizabilities. However, CH3CH2CH2OH molecules can form H bonds amongst themselves, because it has a H bonded to a O. CH3COCH3 do not form H bonds. Thus we expect CH3CH2CH2OH has a higher boiling point than CH3COCH3.\n",
    "\n"
   ]
  },
  {
   "cell_type": "markdown",
   "metadata": {},
   "source": [
    "**Example** Which has the higher vapour pressure at room temperature, HO-CH2CH2-OH or CH3CH2OH\n",
    "\n",
    "- Obviously HO-CH2-CH2-OH molecules are **larger and more polarizable** than CH3CH2OH molecules. We expect the LDFs between a pair of HO-CH2-CH2-OH molecules are stronger and more attractive than that between a pair of CH3CH2OH molecules.\n",
    "\n",
    "\n",
    "- HO-CH2-CH2-OH can **form H bonds at either end** whereas CH3CH2OH can only form H bonds at one end. We expect the Hydrogen bonding forces between HO-CH2-CH2-OH molecules to be stronger than that of CH3CH2OH molecules. Therefore HO-CH2-CH2-OH has higher boiling point and lower vapour pressure at room temperature.\n",
    "\n"
   ]
  },
  {
   "cell_type": "markdown",
   "metadata": {},
   "source": [
    "**Example** Dichloroethene C2H2Cl2 has several isomeric forms. Which form below has the higher boiling point.\n",
    "\n",
    "<img src=\"img/Snip20200518_16.png\" width=60%/>\n",
    "\n",
    "- Since H is not bonded to N, O, or F in either molecule, neither molecule can form H bonds with other molecules.\n",
    "    - We expect Hydrogen bonding forces to be similar between the two molecules\n",
    "\n",
    "\n",
    "- We also expect the two forms of molecules have similar sizes and polarizabilities.\n",
    "    - We expect LDFs to be similar in strength between the two types of molecules\n",
    "    \n",
    "\n",
    "- However, the dipole-dipole forces are different between the two forms of molecules.\n",
    "    - The cis molecules are polar as the bond dipoles do not cancel each other\n",
    "    - The trans molecules are nonpolar as the bond dipoles cancel\n",
    "    - Dipole-dipole forces contribute to the attraction between molecules for the cis molecules, thus they are more strongly attracted to each other, thus have a higher boiling point\n",
    "\n",
    "<img src=\"img/Snip20200518_17.png\" width=60%/>"
   ]
  },
  {
   "cell_type": "markdown",
   "metadata": {},
   "source": [
    "**Example** Predict the order of boiling points for H2O, H2S, H2Se and H2Te\n",
    "\n",
    "- Each of these molecules is V-shaped (or bent) and thus bond dipoles do not cancel out, thus their are all polar.\n",
    "\n",
    "\n",
    "- In terms of Hydrogen bonding forces, H2O molecules form H bonds amongst themselves, whereas the other molecules do not. Thus H2O(l) has the highest boiling point.\n",
    "\n",
    "\n",
    "- **When comparing atoms in the same group, the differences in electron negativities are small, but the differences in size are significant**\n",
    "\n",
    "\n",
    "- In terms size and polarizability, H2Te > H2Se > H2S, thus in terms of LDFs attractions, H2Te > H2Se > H2S\n",
    "\n",
    "<img src=\"img/Snip20200518_19.png\" width=70%/>\n"
   ]
  },
  {
   "cell_type": "markdown",
   "metadata": {},
   "source": [
    "## Heating Curves\n",
    "\n",
    "- A heating curve shows us how the temperature varies with the amount of heat added\n",
    "\n",
    "<img src=\"img/Snip20200518_20.png\" width=80%/>\n",
    "\n",
    "- The heat capacities of solid, liquid, and gas form the slopes of the \"warming lines\"\n",
    "\n",
    "- The enthalpy of fusion $\\Delta H_{\\textrm{tus}}$ and the enthalpy of vapourization $\\Delta H_{\\textrm{vap}}$ form the horizontal portions\n"
   ]
  },
  {
   "cell_type": "code",
   "execution_count": null,
   "metadata": {},
   "outputs": [],
   "source": []
  }
 ],
 "metadata": {
  "kernelspec": {
   "display_name": "Python 3",
   "language": "python",
   "name": "python3"
  },
  "language_info": {
   "codemirror_mode": {
    "name": "ipython",
    "version": 3
   },
   "file_extension": ".py",
   "mimetype": "text/x-python",
   "name": "python",
   "nbconvert_exporter": "python",
   "pygments_lexer": "ipython3",
   "version": "3.7.6"
  },
  "toc": {
   "base_numbering": 1,
   "nav_menu": {},
   "number_sections": false,
   "sideBar": false,
   "skip_h1_title": false,
   "title_cell": "Table of Contents",
   "title_sidebar": "Contents",
   "toc_cell": false,
   "toc_position": {},
   "toc_section_display": false,
   "toc_window_display": false
  }
 },
 "nbformat": 4,
 "nbformat_minor": 4
}
