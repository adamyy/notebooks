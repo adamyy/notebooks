{
 "cells": [
  {
   "cell_type": "markdown",
   "metadata": {},
   "source": [
    "## Definitions\n",
    "\n",
    "- **Phase**: state of aggregation\n",
    "- **STP**: standard temperature and pressure (0°C, 100 kPa)\n",
    "- **SATP**: standard ambient temperature and pressure (25°C, 100 kPa)\n",
    "- 100 kPa = 1 bar\n",
    "- 1 atm = 101.325 kPa = 1.01325 bar\n",
    "\n",
    "## Phases\n",
    "\n",
    "<img src=\"img/Snip20200515_20.png\" width=70%/>\n",
    "\n",
    "\n",
    "- In a gas, molecules move randomly and the intermolecular separations are large (i.e., most of a gas is empty space)\n",
    "- In liquids and solids, the molecular are quite restricted and the intermolecular separations are small; in solids, the molecules are often, but not always, arranged in regular, repeating patterns\n",
    "\n",
    "\n",
    "- Substances exist in different phases and phase changes occur because molecules exert forces on each other\n",
    "- It takes energy to overcome the attractive intermolecular forces that naturally cause molecules to aggregate\n",
    "- Sublimation, fusion and evaporation are all *endothermic* processes\n",
    "- Freezing, deposition and condensation are all *exothermic* processes\n",
    "- Molecules are inherently attracted to each other and tend to aggregate\n",
    "\n",
    "\n",
    "\n"
   ]
  },
  {
   "cell_type": "markdown",
   "metadata": {},
   "source": [
    "## Phase Diagrams\n",
    "\n",
    "- A given substance will exist as a solid, liquid, or gas depending on the temperature and pressure of the sample\n",
    "\n",
    "<img src=\"img/Snip20200515_21.png\" width=80%/>\n",
    "\n",
    "- Solid is the most stable phase at low $T$ and high $P$\n",
    "- Gas is the stable phase at high $T$ and low $P$\n",
    "- The **Solid-Liquid coexistence line** shows the $T$'s and $P$'s at which both solid and liquid are stable and can coexist; melting temperature changes with pressure\n",
    "    - The S-L line has a positive slope for most substances, but negative for the rest (notibly water)\n",
    "    - The S-L coexistence line is also called the **melting curve** or **freezing curve**\n",
    "- The **Liquid-Vapour coexistence line** curve shows the $T$'s and $P$'s at which both liquid and gas are stable and can coexist; boiling temperature changes with pressure\n",
    "    - The L-G line ends abruptly at the critical point ($T_c, P_c$)\n",
    "    - Also known as the **boiling curve**\n",
    "- At the triple point, all three phases are stable and can coexist\n",
    "\n",
    "\n",
    "- For a gas at $T > T_c$, it is **impossible** to liquefy the gas by simply increasing the pressure (no distinct phase boundary between two different phases), since we do not cross the liquid-vapour coexistence curve\n",
    "    - The density of the substance will increase, but the composition remains homogeneous\n",
    "\n",
    "<img src=\"img/Snip20200516_2.png\"/>\n",
    "\n",
    "\n"
   ]
  },
  {
   "cell_type": "markdown",
   "metadata": {},
   "source": [
    "### Example 1\n",
    "\n",
    "For a particular substance, the solid-liquid coexistence curve has a negative slope\n",
    "\n",
    "1) *What phase changes are possible if the pressure is increased at a constant temperature $T$? Assume that $T$ is less than $T_{tp}$ (the triple point temperature)*\n",
    "\n",
    "|||\n",
    "|:---|:---|\n",
    "|Possible phase changes are: <br> Gas to solid: **deposition** <br> Solid to liquid: **fusion**|<img src=\"img/Snip20200516_4.png\" width=250px/>|\n",
    "\n",
    "2) *What phase changes are possible if the pressure is increased at constant temperature $T$, assuming $T_{tp} < T < T_c$, where $T_{tp}$ is the triple point temperature and $T_c$ is the critical point temperatures*\n",
    "\n",
    "The only possible phase change is gas to liquid (**condensation**)\n",
    "\n",
    "3) *True or False: the melting temperature increases as the pressure increases*\n",
    "\n",
    "**False**. For a substance with a negaive-sloped solid-liquid coexistence line, the melting temperature decreases as pressure increases\n",
    "\n",
    "4) *True or False: the solid is more dense than the liquid*\n",
    "\n",
    "$\\textrm{increased density} = \\textrm{increased pressure}$\n",
    "\n",
    "**False**. In this case, if we increase the pressure at $T < T_c$, the density of the substance is increased, also more liquids are formed. \n",
    "\n",
    "\n"
   ]
  },
  {
   "cell_type": "markdown",
   "metadata": {},
   "source": [
    "### Example 2\n",
    "\n",
    "*For a particular substance, the triple point is at -57°C and 5.1 atm, and the critical point is at 31°C and 73 atm. Assume that the solid-liquid line has a positive slope*\n",
    "\n",
    "<img src=\"img/Snip20200516_6.png\" width=50%/>\n",
    "\n",
    "\n",
    "*What is the phase of this substance at 25°C and 73 atm?* **liquid**\n",
    "\n",
    "*What phase changes occur if the pressure is decreased from 75 atm to 0.001 atm at -60°C?* **solid to gas, sublimation**\n",
    "\n"
   ]
  },
  {
   "cell_type": "code",
   "execution_count": null,
   "metadata": {},
   "outputs": [],
   "source": []
  }
 ],
 "metadata": {
  "kernelspec": {
   "display_name": "Python 3",
   "language": "python",
   "name": "python3"
  },
  "language_info": {
   "codemirror_mode": {
    "name": "ipython",
    "version": 3
   },
   "file_extension": ".py",
   "mimetype": "text/x-python",
   "name": "python",
   "nbconvert_exporter": "python",
   "pygments_lexer": "ipython3",
   "version": "3.7.6"
  },
  "toc": {
   "base_numbering": 1,
   "nav_menu": {},
   "number_sections": false,
   "sideBar": false,
   "skip_h1_title": false,
   "title_cell": "Table of Contents",
   "title_sidebar": "Contents",
   "toc_cell": false,
   "toc_position": {},
   "toc_section_display": false,
   "toc_window_display": false
  }
 },
 "nbformat": 4,
 "nbformat_minor": 4
}
