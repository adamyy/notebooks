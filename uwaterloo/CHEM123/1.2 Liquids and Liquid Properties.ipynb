{
 "cells": [
  {
   "cell_type": "markdown",
   "metadata": {},
   "source": [
    "## Liquid and Liquid Properties\n",
    "\n",
    "When the temperature of a gas is lowered sufficiently, the gas will condense to a liquid, because as $T$ is lowered, the **average translational kinetic energy of the molecules decreases**. At some point, the molecules will no longer have enough kinetic energy to **overcome the attractive forces that draw the molecules together**, consequently forming a liquid\n",
    "\n",
    "\n",
    "The physical properties of a liquid depends on the strength and nature of the intermolecular forces.\n",
    "- **Vapour pressure**: equilibrium pressure of vapour that forms above a liquid in a closed container\n",
    "- **Normal boiling point $T_{vap}$**: temperature at which the vapour pressure of the liquid equals 1 atm\n",
    "- **Surface tension $\\gamma$**: energy required to increase the surface area of a liquid\n",
    "- **Viscosity $\\eta$**: provides a measure of a fluid's resistance to flow; the speed of flow through a tube is inversely proportional to the viscosity (stronger when the intermolecular forces are stronger)\n",
    "\n",
    "\n",
    "In general, the **stronger the intermolecular attractions**, the **higher the boiling point**, the **greater the surface tension**, the **higher the viscosity** and the **lower the vapour pressure**\n",
    "\n"
   ]
  },
  {
   "cell_type": "markdown",
   "metadata": {},
   "source": [
    "## Clausius-Clapeyron Equation\n",
    "\n",
    "- The liquid-vapour line provides information on how\n",
    "    1. The vapour pressure of a liquid changes with temperature\n",
    "    2. The boiling temperature of a liquid changes with pressure\n",
    "\n",
    "\n",
    "<img src=\"img/Snip20200517_2.png\" width=80%/>\n",
    "\n",
    "- $\\Delta H_{\\textrm{vap}}^o$: standard enthalpy of vapourization, provides a measure of the strength of the intermolecular forces\n",
    "\n",
    "The variation of vapour pressure with temperature is modeled reasonably well by the Clausius-Clapeyron equation\n",
    "\n",
    "\\begin{equation}\n",
    "\\ln({P_2 \\over P_1}) = - {\\Delta H_{\\textrm{vap}}^o \\over R} ({1\\over T_2} - {1 \\over T_1})\n",
    "\\end{equation}\n",
    "\n",
    "- $P_n$: vapour pressure at temperature $T_n$ in kelvin\n",
    "- $R$: gas constant, 8.3145 $J K^{-1} \\textrm{mol}^{-1}$\n",
    "\n"
   ]
  },
  {
   "cell_type": "markdown",
   "metadata": {},
   "source": [
    "> **Example 1** The vapour pressure of $P_4(I)$ is 10 Torr at 128°C, and 400 Torr at 251°C, find $\\Delta H_{\\textrm{vap}}^o$. Find the normal boiling point of $P_4(I)$. Find its vapour pressure at 200°C.\n",
    "\n",
    "- We can obtain $\\Delta H_{\\textrm{vap}}^o$ and the normal boiling point from measuring the vapour pressure of a liquid at 2 different temperatures.\n",
    "- Normal boiling point is the temperature at which the vapour pressure equals 1 atm\n",
    "- $1 \\textrm{ atm} = 760 \\textrm{ Torr}$, $°C = K + 273.15$\n",
    "- Applying the Clausius-Clapeyron equation to solve for standard enthalpy of vapourization:\n",
    "\n",
    "\\begin{equation}\n",
    "\\Delta H_{\\textrm{vap}}^o = {- R \\times \\ln({P_2 \\over P_1}) \\over ({1\\over T_2} - {1 \\over T_1})} = {- 8.3145 JK^{-1}\\textrm{mol}^{-1} \\times \\ln({400\\over 10}) \\over ({1 \\over 524.15K} - {1\\over 401.15K})} = 5.24 \\times 10^4 J \\textrm{mol}^{-1}\n",
    "\\end{equation}\n",
    "\n",
    "- Applying the C-C equation to solve for normal boiling point:\n",
    "\n",
    "\\begin{equation}\n",
    "\\ln({760 \\over 10}) = - {5.24 \\times 10^4 J \\textrm{mol}^{-1} \\over 8.3145 JK^{-1}\\textrm{mol}^{-1}} ({1\\over T_2} - {1 \\over 401.15K})\n",
    "\\end{equation}\n",
    "\n",
    "\\begin{equation}\n",
    "4.33073 = - 6305.85K ({1\\over T_2} - {1\\over 401.15K}) => T_2 = 554K = 281°C\n",
    "\\end{equation}\n",
    "\n",
    "- Applying the same C-C equation to solve for the vapour pressure at 200°C\n",
    "\n",
    "\\begin{equation}\n",
    "\\ln({P_2 \\over 400}) = - {5.24 \\times 10^4 J \\textrm{mol}^{-1} \\over 8.3145 JK^{-1}\\textrm{mol}^{-1}} ({1\\over 473.15} - {1 \\over 524.15K}) => P_2 = 109 \\textrm{ Torr}\n",
    "\\end{equation}\n",
    "\n"
   ]
  },
  {
   "cell_type": "code",
   "execution_count": null,
   "metadata": {},
   "outputs": [],
   "source": []
  }
 ],
 "metadata": {
  "kernelspec": {
   "display_name": "Python 3",
   "language": "python",
   "name": "python3"
  },
  "language_info": {
   "codemirror_mode": {
    "name": "ipython",
    "version": 3
   },
   "file_extension": ".py",
   "mimetype": "text/x-python",
   "name": "python",
   "nbconvert_exporter": "python",
   "pygments_lexer": "ipython3",
   "version": "3.7.6"
  },
  "toc": {
   "base_numbering": 1,
   "nav_menu": {},
   "number_sections": false,
   "sideBar": false,
   "skip_h1_title": false,
   "title_cell": "Table of Contents",
   "title_sidebar": "Contents",
   "toc_cell": false,
   "toc_position": {},
   "toc_section_display": false,
   "toc_window_display": false
  }
 },
 "nbformat": 4,
 "nbformat_minor": 4
}
