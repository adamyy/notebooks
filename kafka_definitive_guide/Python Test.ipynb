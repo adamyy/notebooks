{
 "cells": [
  {
   "cell_type": "code",
   "execution_count": 1,
   "metadata": {},
   "outputs": [],
   "source": [
    "from kafka import KafkaProducer"
   ]
  },
  {
   "cell_type": "code",
   "execution_count": 10,
   "metadata": {},
   "outputs": [
    {
     "name": "stdout",
     "output_type": "stream",
     "text": [
      "RecordMetadata(topic='my-topic', partition=0, topic_partition=TopicPartition(topic='my-topic', partition=0), offset=0, timestamp=1587617711865, checksum=None, serialized_key_size=-1, serialized_value_size=9, serialized_header_size=-1)\n"
     ]
    }
   ],
   "source": [
    "producer = KafkaProducer(bootstrap_servers=['kafka1:19092'])\n",
    "future = producer.send('my-topic', b'raw_bytes')\n",
    "try:\n",
    "    record_metadata = future.get(timeout=10)\n",
    "except KafkaError as e:\n",
    "    log.exception(e)\n",
    "    pass\n",
    "\n",
    "print(record_metadata)"
   ]
  },
  {
   "cell_type": "code",
   "execution_count": null,
   "metadata": {},
   "outputs": [],
   "source": []
  }
 ],
 "metadata": {
  "kernelspec": {
   "display_name": "Python 3",
   "language": "python",
   "name": "python3"
  },
  "language_info": {
   "codemirror_mode": {
    "name": "ipython",
    "version": 3
   },
   "file_extension": ".py",
   "mimetype": "text/x-python",
   "name": "python",
   "nbconvert_exporter": "python",
   "pygments_lexer": "ipython3",
   "version": "3.7.6"
  },
  "toc": {
   "base_numbering": 1,
   "nav_menu": {},
   "number_sections": false,
   "sideBar": false,
   "skip_h1_title": false,
   "title_cell": "Table of Contents",
   "title_sidebar": "Contents",
   "toc_cell": false,
   "toc_position": {},
   "toc_section_display": false,
   "toc_window_display": false
  }
 },
 "nbformat": 4,
 "nbformat_minor": 4
}
