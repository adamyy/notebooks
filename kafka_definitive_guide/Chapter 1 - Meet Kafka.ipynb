{
 "cells": [
  {
   "cell_type": "markdown",
   "metadata": {},
   "source": [
    "## Messages and Batches\n",
    "\n",
    "- The unit of data within Kafka is called a _message_\n",
    "    - similar to a _row_ or a _record_ in a database world\n",
    "    - simply an array of bytes as far as Kafka is concerned\n",
    "- A message can have an optional bit of metadata, which is referred to as a _key_\n",
    "    - key is also a byte array\n",
    "    - keys are used when messages are to be written to partitions in a more controlled manner\n",
    "- For efficiency, messages are written into Kafka in batches. A _batch_ is just a collection of messages, all of which are being produced to the same topic and partition.\n",
    "\n",
    "    \n"
   ]
  },
  {
   "cell_type": "markdown",
   "metadata": {},
   "source": [
    "## Schemas\n",
    "\n",
    "- Messages are just opaque byte arrays to Kafka, but it is recommended that additional schema be imposed on the message content\n",
    "- Apache Avro is preferred, which is a serialization framework originally developed for Hadoop\n",
    "    - Avro provides a compat serialization format\n",
    "    - Schemas are separated from the message payloads and do not require code to be generated when they change\n",
    "    - Strong data typing and schema evolution\n",
    "    - Backward and forward compatibility\n",
    "- Consistent data format allows the writing and the reading of messages to be decoupled\n"
   ]
  },
  {
   "cell_type": "markdown",
   "metadata": {},
   "source": [
    "## Topics and Partitions\n",
    "\n",
    "- Messages in Kafka are categorized into _topics_\n",
    "    - Analog to a database table\n",
    "- Topics are additionaly broken down into a number of _partitions_\n",
    "- Messages are written to partitions in an append-only fashion, and are read in order from beginning to end\n",
    "- There is no guarantee of message time-ordering across the entire topic, just within a single partition\n",
    "- Partitions are also the way that Kafka provides redundancy and scalability\n",
    "    - Each partition can be hosted on a different server\n",
    "    - A single topic can be scaled horizontally across multiple servers\n",
    "\n",
    "<img src=\"img/Snip20200423_1.png\" width=80%/>\n"
   ]
  },
  {
   "cell_type": "markdown",
   "metadata": {},
   "source": [
    "## Producers and Consumers\n",
    "\n",
    "- The two basic types of Kafka clients\n",
    "- There are also advanced client APIs: Kafka Connect API for data integration and Kafka Streams for stream processing\n",
    "- Producers create new messages\n",
    "    - In general, a message will be produced to a specific topic\n",
    "    - Messages can be directed to specific partitions, which is typically done using the message key and a partitioner\n",
    "- Consumers read messages\n",
    "    - The consumer subscribes to one or more topics and reads the messages in the order in which they were produced\n",
    "    - The consumer keeps track of which messages it has already consumed by keeping track of the offset of messages\n",
    "    - The _offset_ is an integer value that continually increases, and it is added to each message by Kafka as metadata as it is produced\n",
    "    - The consumer stores the offset of the last consumed message for each partition either in Zookeeper or in Kafka itself\n",
    "- Consumers work as part of a _consumer group_, which is one or more consumers that work together to consume a topic\n",
    "    - The group assures that each partition is only consumed by one member\n",
    "    - The mapping of a consumer to a partition is often called _ownership_ of the partition by the consumer\n",
    "\n",
    "<img src=\"img/Snip20200423_2.png\" width=80%/>\n",
    "    "
   ]
  },
  {
   "cell_type": "markdown",
   "metadata": {},
   "source": [
    "## Brokers and Clusters\n",
    "\n",
    "- A single Kafka server is called a _broker_\n",
    "- The broker receives messages from producers, assigns offsets to them, and commits the messages to storage on disk\n",
    "- The broker also services consumers, responding to each fetch requests for partitions and responding with the messages that have been committed to disk\n",
    "- Kafka brokers are designed to operate as part of a _cluster_\n",
    "    - Within a cluster of brokers, one broker will function as the cluster _controller_ (elected automatically from the live members of the cluster)\n",
    "    - The controller is responsible for administrative operations, including assigning partitions to brokers and monitoring for broker failures\n",
    "- A partition is owned by a single broker in the cluster, and that broker is called the _leader_ of the partition\n",
    "    - A partition may be assigned to multiple brokers, which will result in the partition being replicated, which provides redundancy of messages in the partition\n",
    "    - However, all consumers and producers operating on that partition must connect to the leader\n",
    "\n",
    "<img src=\"img/Snip20200423_3.png\" width=80%/>\n",
    "\n",
    "- Kafka provides the _retention_ feature, which is the durable storage of messages for some period of time\n",
    "    - Kafka brokers can be configured to retain messages for some period of time, or until the topic reaches a certain of bytes\n",
    "    - Once these limits are reached, messages are expired and deleted\n",
    "    - Individual topics can also be configured with their own retention settings\n",
    "\n",
    "- Topics can also be configured as *log compacted*, which means that Kafka will retain only the last messag produced with a specific key\n",
    "    - This can be useful for changelog type data, where only the last update is interesting\n"
   ]
  },
  {
   "cell_type": "markdown",
   "metadata": {},
   "source": []
  }
 ],
 "metadata": {
  "kernelspec": {
   "display_name": "Java",
   "language": "java",
   "name": "java"
  },
  "language_info": {
   "codemirror_mode": "text/x-java",
   "file_extension": ".java",
   "mimetype": "",
   "name": "Java",
   "nbconverter_exporter": "",
   "version": "1.8.0_121"
  },
  "toc": {
   "base_numbering": 1,
   "nav_menu": {},
   "number_sections": false,
   "sideBar": false,
   "skip_h1_title": false,
   "title_cell": "Table of Contents",
   "title_sidebar": "Contents",
   "toc_cell": false,
   "toc_position": {},
   "toc_section_display": false,
   "toc_window_display": false
  }
 },
 "nbformat": 4,
 "nbformat_minor": 2
}
