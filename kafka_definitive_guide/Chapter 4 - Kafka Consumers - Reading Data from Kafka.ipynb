{
 "cells": [
  {
   "cell_type": "markdown",
   "metadata": {},
   "source": [
    "## Consumers and Consumer Groups\n",
    "\n",
    "- Suppose the application reads messages from a Kafka topic, run some validations against them, and write the results to another data store\n",
    "- When a single consumer can keep up with the speed of message production, then you would not risk losing data\n",
    "- *Consumer groups* help facilitate and scale the consumption from topics, allowing multiple consumers to read from the same topic, splitting the data between them\n",
    "- Kafka consumers are typically part of a consumer group, when multiple consumers are subscribed to a topic and belong to the same consumer group, each consumer in the group will receive messages from a different subset of the partitions in the topic\n",
    "\n",
    "<img src=\"img/Snip20200424_6.png\" width=80%/>\n",
    "\n",
    "- A partition can be assigned to at most one consumer, when the number of consumer exceeds the number of partitions, some consumers will be idle and get no messages\n",
    "\n",
    "- In addition to adding consumers in order to scale a single application, it is common to have multiple applications that need to read data from the same topic\n",
    "    - In which scenarios, we want each application to get all of the messages, rather than a subset\n",
    "    - To ensure all application gets all the messages in a topic, each application needs to have its own consumer group\n",
    "    \n",
    "<img src=\"img/Snip20200424_7.png\" width=80%/>\n",
    "\n",
    "- In summary, create a new consum"
   ]
  },
  {
   "cell_type": "code",
   "execution_count": null,
   "metadata": {},
   "outputs": [],
   "source": []
  }
 ],
 "metadata": {
  "kernelspec": {
   "display_name": "Java",
   "language": "java",
   "name": "java"
  },
  "language_info": {
   "codemirror_mode": "text/x-java",
   "file_extension": ".java",
   "mimetype": "",
   "name": "Java",
   "nbconverter_exporter": "",
   "version": "1.8.0_121"
  },
  "toc": {
   "base_numbering": 1,
   "nav_menu": {},
   "number_sections": false,
   "sideBar": false,
   "skip_h1_title": false,
   "title_cell": "Table of Contents",
   "title_sidebar": "Contents",
   "toc_cell": false,
   "toc_position": {},
   "toc_section_display": false,
   "toc_window_display": false
  }
 },
 "nbformat": 4,
 "nbformat_minor": 4
}
