{
 "cells": [
  {
   "cell_type": "markdown",
   "metadata": {},
   "source": [
    "# Engineering Costs\n",
    "\n",
    "TODO"
   ]
  },
  {
   "cell_type": "markdown",
   "metadata": {},
   "source": [
    "# Economic Analysis\n",
    "\n",
    "## Interest\n",
    "\n",
    "- \"Change of value of money with respect to time\"\n",
    "- $FinalValue(F)=Principal(P)+Interest(I)$\n",
    "- $I=P\\times i$\n",
    "- $F=P(1+i)$\n",
    "\n",
    "Example: Line of credit \\$300,000, with 3\\% P.R (prime interest) + 1\\% = 4\\%, what is the minimum interest monthly payment?\n",
    "- $i=0.04, P=300,000$ => $F_{1year}=300000(1+0.04)=312000, I = 12000$\n",
    "- monthly payment = 12k/12 = 1k"
   ]
  },
  {
   "cell_type": "markdown",
   "metadata": {},
   "source": [
    "## Compound Interest\n",
    "\n",
    "- amortiation: number of periods $N$ in which loan should be repaid\n",
    "- $P \\leftarrow P(1+i) \\leftarrow P(1+i)^2 \\leftarrow ... \\leftarrow P(1+i)^N$\n",
    "\n",
    "- $F_N = P(1+i)^N$\n",
    "    - $i$: interest\n",
    "    - $p$: payment\n",
    "    - $P$: principal\n",
    "    - year 1: $P(1+i) - p$\n",
    "    - year 2: $[P(1+i) - p](1+i) - p = P(1+i)^2-p[(1+i)^1 + (1+i)^0]$ \n",
    "    - year 3: $P(1+i)^3 - p[(1+i)^2 + (1+i)^1 + (1+i)^0]$\n",
    "    - year N:\n",
    "        - $P(1+i)^N - p \\sum_{j=0}^{N-1}(1+i)^j $\n",
    "        - $= P(1+i)^N - p{(x^{N-1}-1)}/{(x-1)}$ \n",
    "    - the loan is paid when $P(1+i)^N = p[[(1+i)^{N-1} - 1]/i + 1]$"
   ]
  },
  {
   "cell_type": "markdown",
   "metadata": {},
   "source": [
    "# Effective & Nominal Rates\n",
    "\n",
    "- nominal interest rate $i_s$\n",
    "- subperiods $m$: $i_s = {r \\over m} = {nominal rate \\over number of subperiods}$\n",
    "- example: $i_s = {r \\over 12}$ is monthly\n",
    "- effective rate (actual interest): $i_e$\n",
    "    - $F = P(1+i_s)^m = P(1+i_e)$\n",
    "    - $i_e = (1+i_s)^m - 1 = (1+{r \\over m})^m - 1$\n",
    "    - example: $i_e=4\\%, i_s=monthly$\n",
    "        - $(1+i_s)^12 - 1 = 0.04 \\leftarrow i_s = 0.32\\%$\n",
    "    - example: $i_s=4\\%$, what is $i_e$ in 12 years?\n",
    "        - $i_e=(1+0.04)^12 - 1 = 60\\%$\n",
    "\n",
    "\n"
   ]
  },
  {
   "cell_type": "markdown",
   "metadata": {},
   "source": [
    "# Continuous Componding\n",
    "\n",
    "- $i_e$ when $m \\leftarrow \\infty$ => \"small\" periods\n",
    "- $i_e = \\lim_{m\\rightarrow \\infty}(1+{r \\over m})^m - 1 = e^r - 1$"
   ]
  },
  {
   "cell_type": "code",
   "execution_count": null,
   "metadata": {},
   "outputs": [],
   "source": []
  }
 ],
 "metadata": {
  "kernelspec": {
   "display_name": "Python 3",
   "language": "python",
   "name": "python3"
  },
  "language_info": {
   "codemirror_mode": {
    "name": "ipython",
    "version": 3
   },
   "file_extension": ".py",
   "mimetype": "text/x-python",
   "name": "python",
   "nbconvert_exporter": "python",
   "pygments_lexer": "ipython3",
   "version": "3.7.3"
  }
 },
 "nbformat": 4,
 "nbformat_minor": 2
}
