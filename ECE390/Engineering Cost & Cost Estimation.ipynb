{
 "cells": [
  {
   "attachments": {},
   "cell_type": "markdown",
   "metadata": {},
   "source": [
    "# Engineering Costs\n",
    "\n",
    "- **Fixed cost**: constant, unchanging cost, does not depend on output\n",
    "- **Variable cost**: depends on the level of output or activity\n",
    "- **Marginal cost**: variable cost for one more unit of output\n",
    "- **average cost**: total cost divided by the number of units\n",
    "- **Total Cost**: ${total\\_cost = total\\_fixed\\_cost + total\\_variable\\_cost}$\n",
    "\n",
    "<img src=\"img/Snip20190911_46.png\" width=\"60%\"/>\n",
    "\n",
    "- marginal cost at $x=5$ units\n",
    "    - \\$200\\unit\n",
    "- average cost at $x=5$ units\n",
    "    - $(\\$3000 + \\$200/unit * 5 units) / 5 = \\$800/unit$\n",
    "- marginal cost at $x=12$ units\n",
    "    - \\$300\\unit\n",
    "- average cost at $x=12$ units\n",
    "    - $(\\$3000 + \\$200/unit * 10 units + \\$300/unit * 2 units) / 12 = \\$466.67/unit$\n"
   ]
  },
  {
   "attachments": {},
   "cell_type": "markdown",
   "metadata": {},
   "source": [
    "# Profit, Loss and Break-even Point\n",
    "\n",
    "- fixed cost $a_0$\n",
    "- variable cost of production $b_0$ per unit\n",
    "- total cost $C(x)=a_0 + b_0x$ where $x$ is the number of unis of production\n",
    "- revenue $R(x)=\\rho x$ where $\\rho$ is the price of the product\n",
    "- profit $\\Omega = R(x) - C(x) = \\rho x - (a_0 + b_0x)$\n",
    "- break-even point corresponds to a profit $\\Omega=0$ => $x=a_0 / (\\rho - b_0)$\n",
    "\n",
    "<img src=\"img/Snip20190911_47.png\" width=\"60%\"/>\n",
    "\n",
    "- $C(x) = 225 + 20x, R(x) = 35x$\n",
    "- profit region: total revenue > total costs\n",
    "- loss region: total costs > total revenue"
   ]
  },
  {
   "cell_type": "markdown",
   "metadata": {},
   "source": [
    "# Other Costs\n",
    "\n",
    "### Sunk Costs\n",
    "- money already spent as a result of past decision\n",
    "- should be **disregarded** in engineering economic analysis\n",
    "- nothing can be done at this point to change the cost\n",
    "\n",
    "### Opportunity Costs\n",
    "- the costs associated with a resource being used for an alternative task\n",
    "- \"forgone opportunity costs\": \"an opportunity cost is the benefit that is forgone by engaging a business resource in a chosen activity instead of engaging that same resource in a forgone activity\"\n",
    "\n",
    "**Example**: a lot of old electric pumps, purchased 3 years ago, by a distributor\n",
    "- price 3 years back: \\$7000\n",
    "    - sunk cost not to be considered in pricing\n",
    "- storage cost to date: \\$1000\n",
    "    - sunk cost, they have been paid to store the pumps, not to influence the price\n",
    "- list price three years ago: \\$9500\n",
    "- current list price of new pumps: \\$12000\n",
    "    - new pumps include technology and features that made the old pumps less valuable\n",
    "- offer for old pumps from buyer 2 years back: \\$5000\n",
    "    - forgone opportunity, when the offer was made, this distributor chose to keep the lot\n",
    "    - should not influence current pricing\n",
    "- at the current price, the old pumps would bring \\$4000\n",
    "    - the \"asset market value\"\n"
   ]
  },
  {
   "cell_type": "markdown",
   "metadata": {},
   "source": [
    "### Recurring Costs\n",
    "- a cost that reoccurs at regular intervals\n",
    "\n",
    "### Non-recurring Costs\n",
    "- one-of-a-kind costs recurring at irregular intervals\n",
    "\n",
    "### Incremental Costs\n",
    "- cost differences between alternatives\n",
    "\n",
    "### Cash Costs vs Book Costs\n",
    "- cash costs require a cash transaction (cash flow)\n",
    "- book costs are recorded but are not transactions"
   ]
  },
  {
   "attachments": {},
   "cell_type": "markdown",
   "metadata": {},
   "source": [
    "### Life-Cycle Costs\n",
    "- goods and services are designed and progress through a life-cycle\n",
    "- life-cycle costing considers the costs over the entire life-cycle\n",
    "\n",
    "<img src=\"img/Snip20190911_48.png\"/>\n"
   ]
  },
  {
   "cell_type": "markdown",
   "metadata": {},
   "source": [
    "# Cost Estimation\n",
    "\n",
    "- Rough Estimates\n",
    "    - quick/easy, high-level estimates where accuracy varies widely\n",
    "- Budget Estimates\n",
    "    - used for budgeting projects where accuracy is better than a rough estimate due to the extra effort needed\n",
    "- Detailed Estimates\n",
    "    - estimates made from detailed designs using quantitative models and vendor quotes, high level of accuracy"
   ]
  },
  {
   "cell_type": "markdown",
   "metadata": {},
   "source": [
    "# Estimation Difficulties\n",
    "\n",
    "- one-of-a-kind estimates\n",
    "    - first-run projects and projects that have never been done before\n",
    "    - no previous experience of costs\n",
    "- time and effort available\n",
    "    - human resources and time available for making estimates\n",
    "- estimator experience\n",
    "    - past experience of similar projects increases accuracy of estimates\n",
    "    - limited experience decreases accuracy"
   ]
  },
  {
   "cell_type": "markdown",
   "metadata": {},
   "source": [
    "# Estimating Models\n",
    "\n",
    "- Per-Unit model\n",
    "    - uses a per-unit factor (e.g., cost per square foot)\n",
    "- Segmenting model\n",
    "    - \"Divide and conquer\" approach\n",
    "    - individual component estimates are added together\n",
    "- Cost indexes\n",
    "    - historical change in costs as a ratio relationship\n",
    "- Triangulation\n",
    "    - approaching the estimate from different perspectives and sources\n",
    "    - using different sources to arrive at the estimate\n",
    "- Learning Curve\n",
    "    - a percentage or rate at which output is increased due to repetition\n",
    "    - $T_N = T_{initial} \\times N^b$\n",
    "    - $T_N$: time required for $N$th unit of production\n",
    "    - $T_{initial}$: time required for the first unit of production\n",
    "    - $N$: number of completed units\n",
    "    - $b$: learning curve exponent, equals to $\\log(learning\\_curve\\_as\\_decimal) / \\log(2)$\n",
    "    \n"
   ]
  },
  {
   "cell_type": "markdown",
   "metadata": {},
   "source": [
    "# Estimating Benefits\n",
    "\n",
    "- economic analysis often requires considering the benefits as well as the costs\n",
    "- many of the same methods used to calculate costs can be used to calculate benefits\n",
    "- benefits are typically in the future, which makes them more difficult to estimate"
   ]
  },
  {
   "cell_type": "markdown",
   "metadata": {},
   "source": []
  },
  {
   "cell_type": "code",
   "execution_count": null,
   "metadata": {},
   "outputs": [],
   "source": []
  },
  {
   "cell_type": "code",
   "execution_count": null,
   "metadata": {},
   "outputs": [],
   "source": []
  },
  {
   "cell_type": "markdown",
   "metadata": {},
   "source": [
    "# Economic Analysis\n",
    "\n",
    "## Interest\n",
    "\n",
    "- \"Change of value of money with respect to time\"\n",
    "- $FinalValue(F)=Principal(P)+Interest(I)$\n",
    "- $I=P\\times i$\n",
    "- $F=P(1+i)$\n",
    "\n",
    "Example: Line of credit \\$300,000, with 3\\% P.R (prime interest) + 1\\% = 4\\%, what is the minimum interest monthly payment?\n",
    "- $i=0.04, P=300,000$ => $F_{1year}=300000(1+0.04)=312000, I = 12000$\n",
    "- monthly payment = 12k/12 = 1k"
   ]
  },
  {
   "cell_type": "markdown",
   "metadata": {},
   "source": [
    "## Compound Interest\n",
    "\n",
    "- amortiation: number of periods $N$ in which loan should be repaid\n",
    "- $P \\leftarrow P(1+i) \\leftarrow P(1+i)^2 \\leftarrow ... \\leftarrow P(1+i)^N$\n",
    "\n",
    "- $F_N = P(1+i)^N$\n",
    "    - $i$: interest\n",
    "    - $p$: payment\n",
    "    - $P$: principal\n",
    "    - year 1: $P(1+i) - p$\n",
    "    - year 2: $[P(1+i) - p](1+i) - p = P(1+i)^2-p[(1+i)^1 + (1+i)^0]$ \n",
    "    - year 3: $P(1+i)^3 - p[(1+i)^2 + (1+i)^1 + (1+i)^0]$\n",
    "    - year N:\n",
    "        - $P(1+i)^N - p \\sum_{j=0}^{N-1}(1+i)^j $\n",
    "        - $= P(1+i)^N - p{(x^{N-1}-1)}/{(x-1)}$ \n",
    "    - the loan is paid when $P(1+i)^N = p[[(1+i)^{N-1} - 1]/i + 1]$"
   ]
  },
  {
   "cell_type": "markdown",
   "metadata": {},
   "source": [
    "# Effective & Nominal Rates\n",
    "\n",
    "- nominal interest rate $i_s$\n",
    "- subperiods $m$: $i_s = {r \\over m} = {nominal rate \\over number of subperiods}$\n",
    "- example: $i_s = {r \\over 12}$ is monthly\n",
    "- effective rate (actual interest): $i_e$\n",
    "    - $F = P(1+i_s)^m = P(1+i_e)$\n",
    "    - $i_e = (1+i_s)^m - 1 = (1+{r \\over m})^m - 1$\n",
    "    - example: $i_e=4\\%, i_s=monthly$\n",
    "        - $(1+i_s)^12 - 1 = 0.04 \\leftarrow i_s = 0.32\\%$\n",
    "    - example: $i_s=4\\%$, what is $i_e$ in 12 years?\n",
    "        - $i_e=(1+0.04)^12 - 1 = 60\\%$\n",
    "\n",
    "\n"
   ]
  },
  {
   "cell_type": "markdown",
   "metadata": {},
   "source": [
    "# Continuous Componding\n",
    "\n",
    "- $i_e$ when $m \\leftarrow \\infty$ => \"small\" periods\n",
    "- $i_e = \\lim_{m\\rightarrow \\infty}(1+{r \\over m})^m - 1 = e^r - 1$"
   ]
  },
  {
   "cell_type": "code",
   "execution_count": null,
   "metadata": {},
   "outputs": [],
   "source": []
  }
 ],
 "metadata": {
  "kernelspec": {
   "display_name": "Python 3",
   "language": "python",
   "name": "python3"
  },
  "language_info": {
   "codemirror_mode": {
    "name": "ipython",
    "version": 3
   },
   "file_extension": ".py",
   "mimetype": "text/x-python",
   "name": "python",
   "nbconvert_exporter": "python",
   "pygments_lexer": "ipython3",
   "version": "3.7.3"
  }
 },
 "nbformat": 4,
 "nbformat_minor": 2
}
