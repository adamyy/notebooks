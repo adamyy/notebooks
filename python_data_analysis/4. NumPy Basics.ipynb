{
 "cells": [
  {
   "cell_type": "markdown",
   "metadata": {},
   "source": [
    "# 4.0 NumPy\n",
    "\n",
    "- Short for Numerical Python\n",
    "- Most computational packages providing scientific functionality use NumPy's array objects as the *lingua fraca* for data exchange\n",
    "\n",
    "## Features\n",
    "\n",
    "- `ndarray`, an efficient multidimensional array providing fast array-oriented arithmetic operations and flexible broadcasting capabilities\n",
    "- Mathematical functions for fast operations on arrays\n",
    "- Tools for reading/writing array to disk and working with memory-mapped files\n",
    "- Linear algebra, RNG, Fourier transform\n",
    "- A C API\n",
    "\n",
    "For data analysis applications, the main areas of functionality are:\n",
    "\n",
    "- Fast vectorized array operations for data munging and cleaning, subsetting and filtering, transformation, etc.\n",
    "- Common array algorithms like sorting, unique, set operations\n",
    "- Efficient descriptive statistics and aggregating/summarizing data\n",
    "- Data alignment and relational data manipulations for merging and joining together heterogeneous datasets\n",
    "- Expressing conditional logic as array expressions instead of loops with conditionals\n",
    "- Group-wise data manipulations (aggregation, transformation, function application)\n",
    "\n",
    "## Internals\n",
    "\n",
    "NumPy is designed for efficiency on large arrays of data.\n",
    "\n",
    "- Internally stores data in a contiguous block of memory, independent of other built-in Python objects\n",
    "- NumPy's library of algorithms written in C can operate on this memory without type checking or overhead\n",
    "- NumPy arrays use much less memory than built-in Python sequences\n",
    "- NumPy-based algorithms are generally 10 to 100 times faster than their pure Python counterparts\n"
   ]
  },
  {
   "cell_type": "code",
   "execution_count": 7,
   "metadata": {},
   "outputs": [
    {
     "name": "stdout",
     "output_type": "stream",
     "text": [
      "CPU times: user 15.6 ms, sys: 15.3 ms, total: 31 ms\n",
      "Wall time: 31 ms\n",
      "CPU times: user 587 ms, sys: 144 ms, total: 730 ms\n",
      "Wall time: 731 ms\n"
     ]
    }
   ],
   "source": [
    "import numpy as np\n",
    "\n",
    "# benchmark\n",
    "np_arr = np.arange(10 ** 6)\n",
    "%time for _ in range(10): np_arr_2 = np_arr * 2\n",
    "\n",
    "py_arr = list(range(10 ** 6))\n",
    "%time for _ in range(10): py_arr_2 = [x * 2 for x in py_arr]"
   ]
  },
  {
   "cell_type": "markdown",
   "metadata": {},
   "source": [
    "# 4.1 The NumPy `ndarray`: A multidimensional array object\n",
    "\n",
    "- fast, flexable container for large datasets in Python\n",
    "- arrays enable one to perform mathematical operations on whole blocks of data using similar syntax to the equivalent operations between scalar elements"
   ]
  },
  {
   "cell_type": "code",
   "execution_count": 11,
   "metadata": {},
   "outputs": [
    {
     "name": "stdout",
     "output_type": "stream",
     "text": [
      "data: [[ 0.31575946 -0.5270217   0.19727568]\n",
      " [ 1.92838631 -0.27957866  1.27090046]]\n",
      "data * 10: [[ 3.15759463 -5.27021702  1.97275681]\n",
      " [19.28386313 -2.79578657 12.70900465]]\n"
     ]
    }
   ],
   "source": [
    "import numpy as np\n",
    "\n",
    "data = np.random.randn(2, 3)\n",
    "\n",
    "print(\"data: {}\".format(data))\n",
    "print(\"data * 10: {}\".format(data * 10))\n",
    "print(\"data + data: {}\")"
   ]
  },
  {
   "cell_type": "code",
   "execution_count": 12,
   "metadata": {},
   "outputs": [
    {
     "name": "stdout",
     "output_type": "stream",
     "text": [
      "data.shape: (2, 3)\n",
      "data.dtype: float64\n"
     ]
    }
   ],
   "source": [
    "import numpy as np\n",
    "\n",
    "data = np.random.randn(2, 3)\n",
    "\n",
    "print(\"data.shape: {}\".format(data.shape))\n",
    "print(\"data.dtype: {}\".format(data.dtype))"
   ]
  },
  {
   "cell_type": "markdown",
   "metadata": {},
   "source": [
    "## Creating ndarrays\n",
    "\n",
    "- `array` function: accepts any sequence-like object including other arrays and produces a new NumPy array containing the passed data\n",
    "\n"
   ]
  },
  {
   "cell_type": "code",
   "execution_count": 16,
   "metadata": {},
   "outputs": [
    {
     "data": {
      "text/plain": [
       "array([1., 2., 3., 4.])"
      ]
     },
     "execution_count": 16,
     "metadata": {},
     "output_type": "execute_result"
    }
   ],
   "source": [
    "import numpy as np\n",
    "\n",
    "flat = [1, 2.0, 3, 4]\n",
    "np_flat = np.array(flat)\n",
    "\n",
    "np_flat"
   ]
  },
  {
   "cell_type": "code",
   "execution_count": 17,
   "metadata": {},
   "outputs": [
    {
     "data": {
      "text/plain": [
       "array([[1, 2, 3, 4],\n",
       "       [5, 6, 7, 8]])"
      ]
     },
     "execution_count": 17,
     "metadata": {},
     "output_type": "execute_result"
    }
   ],
   "source": [
    "import numpy as np\n",
    "\n",
    "nested = [[1,2,3,4], [5,6,7,8]]\n",
    "np_nested = np.array(nested)\n",
    "\n",
    "np_nested"
   ]
  },
  {
   "cell_type": "code",
   "execution_count": 19,
   "metadata": {},
   "outputs": [
    {
     "data": {
      "text/plain": [
       "2"
      ]
     },
     "execution_count": 19,
     "metadata": {},
     "output_type": "execute_result"
    }
   ],
   "source": [
    "# ndim: number of array dimensions\n",
    "import numpy as np\n",
    "np.array([[1,2,3,4], [5,6,7,8]]).ndim"
   ]
  },
  {
   "cell_type": "code",
   "execution_count": 20,
   "metadata": {},
   "outputs": [
    {
     "data": {
      "text/plain": [
       "(2, 4)"
      ]
     },
     "execution_count": 20,
     "metadata": {},
     "output_type": "execute_result"
    }
   ],
   "source": [
    "# shape: tuple of array dimensions\n",
    "import numpy as np\n",
    "np.array([[1,2,3,4], [5,6,7,8]]).shape"
   ]
  },
  {
   "cell_type": "code",
   "execution_count": 21,
   "metadata": {},
   "outputs": [
    {
     "data": {
      "text/plain": [
       "dtype('int64')"
      ]
     },
     "execution_count": 21,
     "metadata": {},
     "output_type": "execute_result"
    }
   ],
   "source": [
    "# dtype: Data-type of the array’s elements.\n",
    "import numpy as np\n",
    "np.array([[1,2,3,4], [5,6,7,8]]).dtype"
   ]
  },
  {
   "cell_type": "code",
   "execution_count": 23,
   "metadata": {},
   "outputs": [
    {
     "data": {
      "text/plain": [
       "array([[[0., 0.],\n",
       "        [0., 0.],\n",
       "        [0., 0.]],\n",
       "\n",
       "       [[0., 0.],\n",
       "        [0., 0.],\n",
       "        [0., 0.]]])"
      ]
     },
     "execution_count": 23,
     "metadata": {},
     "output_type": "execute_result"
    }
   ],
   "source": [
    "# zeros, ones: create arrays of 0s and 1s\n",
    "np.zeros((2,3,2))"
   ]
  },
  {
   "cell_type": "code",
   "execution_count": 24,
   "metadata": {},
   "outputs": [
    {
     "data": {
      "text/plain": [
       "array([ 0,  1,  2,  3,  4,  5,  6,  7,  8,  9, 10, 11, 12, 13, 14])"
      ]
     },
     "execution_count": 24,
     "metadata": {},
     "output_type": "execute_result"
    }
   ],
   "source": [
    "# arange: array-valued version of the built-in Python range function\n",
    "import numpy as np\n",
    "np.arange(15)"
   ]
  },
  {
   "cell_type": "markdown",
   "metadata": {},
   "source": [
    "## Data Types for ndarrays\n",
    "\n",
    "- the *data type* or `dtype` is a special object containing the metadata the ndarray needs to interpret a chunk of memory as a particular type of data\n"
   ]
  },
  {
   "cell_type": "code",
   "execution_count": 30,
   "metadata": {},
   "outputs": [
    {
     "data": {
      "text/plain": [
       "array([1., 2., 3.])"
      ]
     },
     "execution_count": 30,
     "metadata": {},
     "output_type": "execute_result"
    }
   ],
   "source": [
    "import numpy as np\n",
    "np.array([1,2,3], dtype=np.float64)"
   ]
  },
  {
   "cell_type": "code",
   "execution_count": 29,
   "metadata": {},
   "outputs": [
    {
     "data": {
      "text/plain": [
       "array([1, 2, 3], dtype=int32)"
      ]
     },
     "execution_count": 29,
     "metadata": {},
     "output_type": "execute_result"
    }
   ],
   "source": [
    "import numpy as np\n",
    "np.array([1,2,3], dtype=np.int32)"
   ]
  },
  {
   "cell_type": "code",
   "execution_count": 31,
   "metadata": {},
   "outputs": [
    {
     "data": {
      "text/plain": [
       "array([1., 2., 3., 4., 5.])"
      ]
     },
     "execution_count": 31,
     "metadata": {},
     "output_type": "execute_result"
    }
   ],
   "source": [
    "# astype: one can explicitly convert or cast an array\n",
    "import numpy as np\n",
    "np.array([1,2,3,4,5]).astype(np.float64)"
   ]
  },
  {
   "cell_type": "code",
   "execution_count": 33,
   "metadata": {},
   "outputs": [
    {
     "data": {
      "text/plain": [
       "array([ 1.25, -9.6 , 42.  ])"
      ]
     },
     "execution_count": 33,
     "metadata": {},
     "output_type": "execute_result"
    }
   ],
   "source": [
    "# astype: one can explicitly convert or cast an array\n",
    "import numpy as np\n",
    "np.array(['1.25', '-9.6', '42'], dtype=np.string_).astype(float)"
   ]
  },
  {
   "cell_type": "markdown",
   "metadata": {},
   "source": [
    "## Arithmetic with NumPy Arrays\n",
    "\n",
    "- Vectorization: express batch operations on data without writing any for loops\n",
    "- Broadcasting: operations between differently sized arrays\n"
   ]
  },
  {
   "cell_type": "code",
   "execution_count": 35,
   "metadata": {},
   "outputs": [
    {
     "data": {
      "text/plain": [
       "array([[ 1.,  4.,  9.],\n",
       "       [16., 25., 36.]])"
      ]
     },
     "execution_count": 35,
     "metadata": {},
     "output_type": "execute_result"
    }
   ],
   "source": [
    "import numpy as np\n",
    "arr = np.array([[1., 2., 3.], [4., 5., 6.]])\n",
    "\n",
    "arr * arr"
   ]
  },
  {
   "cell_type": "code",
   "execution_count": 36,
   "metadata": {},
   "outputs": [
    {
     "data": {
      "text/plain": [
       "array([[0., 0., 0.],\n",
       "       [0., 0., 0.]])"
      ]
     },
     "execution_count": 36,
     "metadata": {},
     "output_type": "execute_result"
    }
   ],
   "source": [
    "import numpy as np\n",
    "arr = np.array([[1., 2., 3.], [4., 5., 6.]])\n",
    "\n",
    "arr - arr"
   ]
  },
  {
   "cell_type": "code",
   "execution_count": 37,
   "metadata": {},
   "outputs": [
    {
     "data": {
      "text/plain": [
       "array([[1.        , 0.5       , 0.33333333],\n",
       "       [0.25      , 0.2       , 0.16666667]])"
      ]
     },
     "execution_count": 37,
     "metadata": {},
     "output_type": "execute_result"
    }
   ],
   "source": [
    "import numpy as np\n",
    "arr = np.array([[1., 2., 3.], [4., 5., 6.]])\n",
    "\n",
    "1 / arr"
   ]
  },
  {
   "cell_type": "code",
   "execution_count": 39,
   "metadata": {},
   "outputs": [
    {
     "data": {
      "text/plain": [
       "array([[1.        , 1.41421356, 1.73205081],\n",
       "       [2.        , 2.23606798, 2.44948974]])"
      ]
     },
     "execution_count": 39,
     "metadata": {},
     "output_type": "execute_result"
    }
   ],
   "source": [
    "import numpy as np\n",
    "arr = np.array([[1., 2., 3.], [4., 5., 6.]])\n",
    "\n",
    "arr ** 0.5"
   ]
  },
  {
   "cell_type": "code",
   "execution_count": 41,
   "metadata": {},
   "outputs": [
    {
     "data": {
      "text/plain": [
       "array([[False, False, False],\n",
       "       [ True,  True,  True]])"
      ]
     },
     "execution_count": 41,
     "metadata": {},
     "output_type": "execute_result"
    }
   ],
   "source": [
    "import numpy as np\n",
    "lhs = np.array([[1., 2., 3.], [4., 5., 6.]])\n",
    "rhs = np.array([[4., 5., 6.], [1., 2., 3.]])\n",
    "\n",
    "lhs > rhs"
   ]
  },
  {
   "cell_type": "markdown",
   "metadata": {},
   "source": [
    "## Basic Indexing and Slicing\n",
    "\n",
    "- array slices are *views* on the original array, so the data is not copied and any modifications to the view will be reflected in the source array\n",
    "- should you want a copy of a slie of an ndarray instead of a view, you will need to explicitly copy the array: `arr[5:8].copy()`"
   ]
  },
  {
   "cell_type": "code",
   "execution_count": 45,
   "metadata": {},
   "outputs": [
    {
     "name": "stdout",
     "output_type": "stream",
     "text": [
      "arr[5]: 5\n",
      "arr[5:8]: [5 6 7]\n"
     ]
    }
   ],
   "source": [
    "import numpy as np\n",
    "\n",
    "arr = np.arange(10)\n",
    "print(\"arr[5]: {}\".format(arr[5]))\n",
    "print(\"arr[5:8]: {}\".format(arr[5:8]))"
   ]
  },
  {
   "cell_type": "code",
   "execution_count": 46,
   "metadata": {},
   "outputs": [
    {
     "name": "stdout",
     "output_type": "stream",
     "text": [
      "[ 0  1  2  3  4 12 12 12  8  9]\n"
     ]
    }
   ],
   "source": [
    "import numpy as np\n",
    "\n",
    "arr = np.arange(10)\n",
    "arr[5:8] = 12\n",
    "print(arr)"
   ]
  },
  {
   "cell_type": "code",
   "execution_count": 49,
   "metadata": {},
   "outputs": [
    {
     "name": "stdout",
     "output_type": "stream",
     "text": [
      "7\n",
      "7\n"
     ]
    }
   ],
   "source": [
    "import numpy as np\n",
    "\n",
    "arr = np.array([[1,2,3], [4,5,6], [7,8,9]])\n",
    "print(arr[2][0])\n",
    "print(arr[2, 0])"
   ]
  },
  {
   "cell_type": "code",
   "execution_count": 50,
   "metadata": {},
   "outputs": [
    {
     "data": {
      "text/plain": [
       "array([[2, 3],\n",
       "       [5, 6]])"
      ]
     },
     "execution_count": 50,
     "metadata": {},
     "output_type": "execute_result"
    }
   ],
   "source": [
    "import numpy as np\n",
    "\n",
    "arr = np.array([[1,2,3], [4,5,6], [7,8,9]])\n",
    "arr[:2, 1:]"
   ]
  },
  {
   "cell_type": "markdown",
   "metadata": {},
   "source": [
    "## Boolean Indexing\n",
    "\n",
    "- one can use a boolean array as an array indexer\n",
    "- it will not fail even if the boolean array is not the correct length"
   ]
  },
  {
   "cell_type": "code",
   "execution_count": 72,
   "metadata": {},
   "outputs": [
    {
     "data": {
      "text/plain": [
       "array([0, 2, 4, 6, 8])"
      ]
     },
     "execution_count": 72,
     "metadata": {},
     "output_type": "execute_result"
    }
   ],
   "source": [
    "import numpy as np\n",
    "\n",
    "indexer = (np.arange(10) % 2 == 0)\n",
    "arr = np.arange(10)\n",
    "arr[indexer]"
   ]
  },
  {
   "cell_type": "code",
   "execution_count": 71,
   "metadata": {},
   "outputs": [
    {
     "data": {
      "text/plain": [
       "array([1, 3, 5, 7, 9])"
      ]
     },
     "execution_count": 71,
     "metadata": {},
     "output_type": "execute_result"
    }
   ],
   "source": [
    "import numpy as np\n",
    "\n",
    "indexer = (np.arange(10) % 2 == 0)\n",
    "arr = np.arange(10)\n",
    "arr[~indexer]  # negate"
   ]
  },
  {
   "cell_type": "code",
   "execution_count": 70,
   "metadata": {},
   "outputs": [
    {
     "data": {
      "text/plain": [
       "array([0, 2, 4, 5, 6, 8])"
      ]
     },
     "execution_count": 70,
     "metadata": {},
     "output_type": "execute_result"
    }
   ],
   "source": [
    "import numpy as np\n",
    "\n",
    "mask = (np.arange(10) % 2 == 0) | (np.arange(10) % 5 == 0)\n",
    "arr = np.arange(10)\n",
    "arr[mask]"
   ]
  },
  {
   "cell_type": "markdown",
   "metadata": {},
   "source": [
    "## Fancy Indexing\n",
    "\n",
    "- indexing using integer arrays\n",
    "- allows one to select out a subset of the rows in a particular order\n",
    "- fancy indexing always copies the data into a new array\n"
   ]
  },
  {
   "cell_type": "code",
   "execution_count": 74,
   "metadata": {},
   "outputs": [
    {
     "data": {
      "text/plain": [
       "array([[4., 4., 4., 4.],\n",
       "       [3., 3., 3., 3.],\n",
       "       [0., 0., 0., 0.],\n",
       "       [6., 6., 6., 6.]])"
      ]
     },
     "execution_count": 74,
     "metadata": {},
     "output_type": "execute_result"
    }
   ],
   "source": [
    "import numpy as np\n",
    "\n",
    "arr = np.empty((8, 4))\n",
    "for i in range(8):\n",
    "    arr[i] = i\n",
    "\n",
    "arr[[4,3,0,6]]"
   ]
  },
  {
   "cell_type": "code",
   "execution_count": 76,
   "metadata": {},
   "outputs": [
    {
     "data": {
      "text/plain": [
       "array([ 4, 23, 29, 10])"
      ]
     },
     "execution_count": 76,
     "metadata": {},
     "output_type": "execute_result"
    }
   ],
   "source": [
    "import numpy as np\n",
    "\n",
    "arr = np.arange(32).reshape((8, 4))\n",
    "\n",
    "# selected elements (1,0), (5,3), (7,1), (2,2)\n",
    "arr[[1,5,7,2], [0,3,1,2]]"
   ]
  },
  {
   "cell_type": "markdown",
   "metadata": {},
   "source": [
    "## Transposing Arrays and Swapping Axes\n",
    "\n",
    "- `transpose` and `T` attribute: transpose the array, returns a view on the underlying data without copying\n",
    "- for higher dimensional arrays, `transpose` accepts a tuple of axis numbers to permute the axes\n",
    "- `swapaxes` takes a pair of axis numbers and switches the indicated axes to rearrange the data\n"
   ]
  },
  {
   "cell_type": "code",
   "execution_count": 77,
   "metadata": {},
   "outputs": [
    {
     "data": {
      "text/plain": [
       "array([[ 0,  5, 10],\n",
       "       [ 1,  6, 11],\n",
       "       [ 2,  7, 12],\n",
       "       [ 3,  8, 13],\n",
       "       [ 4,  9, 14]])"
      ]
     },
     "execution_count": 77,
     "metadata": {},
     "output_type": "execute_result"
    }
   ],
   "source": [
    "import numpy as np\n",
    "\n",
    "arr = np.arange(15).reshape((3,5))\n",
    "arr.T"
   ]
  },
  {
   "cell_type": "code",
   "execution_count": 78,
   "metadata": {},
   "outputs": [
    {
     "data": {
      "text/plain": [
       "array([[125, 140, 155, 170, 185],\n",
       "       [140, 158, 176, 194, 212],\n",
       "       [155, 176, 197, 218, 239],\n",
       "       [170, 194, 218, 242, 266],\n",
       "       [185, 212, 239, 266, 293]])"
      ]
     },
     "execution_count": 78,
     "metadata": {},
     "output_type": "execute_result"
    }
   ],
   "source": [
    "import numpy as np\n",
    "\n",
    "arr = np.arange(15).reshape((3,5))\n",
    "np.dot(arr.T, arr)  # compute the dot product"
   ]
  },
  {
   "cell_type": "markdown",
   "metadata": {},
   "source": [
    "# 4.2 Universal Functions: Fast Element-Wise Array Functions\n",
    "\n",
    "- `ufunc`: a function that performs element-wise operations on data in ndarrays, e.g., \n",
    "    - unary funcs: `sqrt`, `exp`\n",
    "    - binary funcs: `maximum`, `add`\n",
    "   "
   ]
  },
  {
   "cell_type": "code",
   "execution_count": 80,
   "metadata": {},
   "outputs": [
    {
     "name": "stdout",
     "output_type": "stream",
     "text": [
      "[0.         1.         1.41421356 1.73205081 2.        ]\n",
      "[ 1.          2.71828183  7.3890561  20.08553692 54.59815003]\n"
     ]
    }
   ],
   "source": [
    "import numpy as np\n",
    "arr = np.arange(5)\n",
    "\n",
    "print(np.sqrt(arr))\n",
    "print(np.exp(arr))"
   ]
  },
  {
   "cell_type": "code",
   "execution_count": 81,
   "metadata": {},
   "outputs": [
    {
     "data": {
      "text/plain": [
       "array([1.62728379, 0.82614579, 0.8592706 , 1.13366215])"
      ]
     },
     "execution_count": 81,
     "metadata": {},
     "output_type": "execute_result"
    }
   ],
   "source": [
    "import numpy as np\n",
    "x = np.random.randn(4)\n",
    "y = np.random.randn(4)\n",
    "\n",
    "np.maximum(x, y)"
   ]
  },
  {
   "cell_type": "code",
   "execution_count": 89,
   "metadata": {},
   "outputs": [
    {
     "name": "stdout",
     "output_type": "stream",
     "text": [
      "[0.         1.         1.41421356 1.73205081 2.        ]\n"
     ]
    }
   ],
   "source": [
    "# ufuncs accept an optional out argument to allows them to operate in-place on arrays\n",
    "import numpy as np\n",
    "\n",
    "arr = np.arange(5, dtype=np.float64)\n",
    "np.sqrt(arr, out=arr)\n",
    "print(arr)"
   ]
  },
  {
   "cell_type": "markdown",
   "metadata": {},
   "source": [
    "# 4.3 Array-Oriented Programming with Arrays\n",
    "\n",
    "- using numpy arrays enables one to express many kinds of data processing tasks as concise array expressions\n",
    "- vectorization: the practice of replacing explicit loops with array expressions\n",
    "    - in general, vectorized array operations will often be one or two orders of magnitude faster than the pure Python counterpart"
   ]
  },
  {
   "cell_type": "code",
   "execution_count": 95,
   "metadata": {},
   "outputs": [
    {
     "data": {
      "text/plain": [
       "Text(0.5, 1.0, 'Image plot of $\\\\sqrt{x^2 + y^2}$ for a grid of values')"
      ]
     },
     "execution_count": 95,
     "metadata": {},
     "output_type": "execute_result"
    },
    {
     "data": {
      "image/png": "[encoded data removed]",
      "text/plain": [
       "<Figure size 432x288 with 2 Axes>"
      ]
     },
     "metadata": {
      "needs_background": "light"
     },
     "output_type": "display_data"
    }
   ],
   "source": [
    "import numpy as np\n",
    "\n",
    "points = np.arange(-5, 5, 0.01)  # 1000 equally spaced points\n",
    "xs, ys = np.meshgrid(points, points)  # cartesian product\n",
    "z = np.sqrt(xs ** 2 + ys ** 2)\n",
    "\n",
    "import matplotlib.pyplot as plt\n",
    "\n",
    "plt.imshow(z, cmap=plt.cm.gray)\n",
    "plt.colorbar()\n",
    "plt.title(\"Image plot of $\\sqrt{x^2 + y^2}$ for a grid of values\")"
   ]
  },
  {
   "cell_type": "markdown",
   "metadata": {},
   "source": [
    "## Expressing Conditional Logic as Array Operations\n",
    "\n",
    "- `numpy.where` function is a vectorized version of the ternary expression `x if cond else y`\n"
   ]
  },
  {
   "cell_type": "code",
   "execution_count": 96,
   "metadata": {},
   "outputs": [
    {
     "data": {
      "text/plain": [
       "array([1.1, 2.2, 1.3, 1.4, 2.5])"
      ]
     },
     "execution_count": 96,
     "metadata": {},
     "output_type": "execute_result"
    }
   ],
   "source": [
    "import numpy as np\n",
    "\n",
    "xarr = np.array([1.1, 1.2, 1.3, 1.4, 1.5])\n",
    "yarr = np.array([2.1, 2.2, 2.3, 2.4, 2.5])\n",
    "cond = np.array([True, False, True, True, False])\n",
    "\n",
    "np.where(cond, xarr, yarr)"
   ]
  },
  {
   "cell_type": "markdown",
   "metadata": {},
   "source": [
    "## Mathematical and Statistical Methods\n",
    "\n",
    "- mathematical functions that compute statistics about an entire array or about the data along an axis "
   ]
  },
  {
   "cell_type": "code",
   "execution_count": 101,
   "metadata": {},
   "outputs": [
    {
     "name": "stdout",
     "output_type": "stream",
     "text": [
      "-0.08313375632473205\n",
      "[-4.82476332  2.55980641 -0.8074779   1.40975968]\n",
      "-1.662675126494641\n"
     ]
    }
   ],
   "source": [
    "import numpy as np\n",
    "\n",
    "arr = np.random.randn(5,4)\n",
    "print(arr.mean())\n",
    "print(arr.sum(axis=0))\n",
    "print(np.sum(arr))"
   ]
  },
  {
   "cell_type": "markdown",
   "metadata": {},
   "source": [
    "## Methods for Boolean Arrays\n",
    "\n",
    "- boolean values are coerced to 1 (True) and 0 (False) in the aggregating methods\n",
    "- two additional methods: `any` and `all` \n",
    "\n"
   ]
  },
  {
   "cell_type": "code",
   "execution_count": 102,
   "metadata": {},
   "outputs": [
    {
     "name": "stdout",
     "output_type": "stream",
     "text": [
      "any: True\n",
      "all: False\n"
     ]
    }
   ],
   "source": [
    "import numpy as np\n",
    "\n",
    "bools = np.array([False, True, False])\n",
    "print(\"any: {}\".format(bools.any()))\n",
    "print(\"all: {}\".format(bools.all()))"
   ]
  },
  {
   "cell_type": "markdown",
   "metadata": {},
   "source": [
    "## Sorting\n",
    "\n",
    "- `sort`: sort in place\n",
    "- one can sort each one-dimensional section of values in a multidimensional array in-place along an axis by passing the axis number to sort"
   ]
  },
  {
   "cell_type": "code",
   "execution_count": 103,
   "metadata": {},
   "outputs": [
    {
     "data": {
      "text/plain": [
       "array([-1.39603513, -0.72012854, -0.37116695,  0.58806664,  0.76336758,\n",
       "        1.12028144])"
      ]
     },
     "execution_count": 103,
     "metadata": {},
     "output_type": "execute_result"
    }
   ],
   "source": [
    "import numpy as np\n",
    "\n",
    "arr = np.random.randn(6)\n",
    "arr.sort()\n",
    "arr"
   ]
  },
  {
   "cell_type": "code",
   "execution_count": 104,
   "metadata": {},
   "outputs": [
    {
     "name": "stdout",
     "output_type": "stream",
     "text": [
      "pre-sort: [[ 0.58991982  0.41908244  1.40865273]\n",
      " [-0.0243949   0.52857422  0.30579163]\n",
      " [-1.52058125  2.48798157  0.5846316 ]\n",
      " [-0.20077814  0.8037107   0.85052545]\n",
      " [ 1.23711012  0.4846577   0.47204611]]\n",
      "post-sort: [[ 0.41908244  0.58991982  1.40865273]\n",
      " [-0.0243949   0.30579163  0.52857422]\n",
      " [-1.52058125  0.5846316   2.48798157]\n",
      " [-0.20077814  0.8037107   0.85052545]\n",
      " [ 0.47204611  0.4846577   1.23711012]]\n"
     ]
    }
   ],
   "source": [
    "import numpy as np\n",
    "\n",
    "arr = np.random.randn(5, 3)\n",
    "print(\"pre-sort: {}\".format(arr))\n",
    "arr.sort(1)  # sort in place, np.sort returns a copy\n",
    "print(\"post-sort: {}\".format(arr))"
   ]
  },
  {
   "cell_type": "markdown",
   "metadata": {},
   "source": [
    "## Unique and Other Set Logic\n",
    "\n",
    "- Numpy has some basic set operations for one-dimensional ndarrays\n",
    "- `np.unique` returns sorted unique values in an array\n",
    "- `np.in1d` tests membership of the values in one array in another, returning a boolean array"
   ]
  },
  {
   "cell_type": "markdown",
   "metadata": {},
   "source": [
    "# 4.4 File Input and Output with Arrays\n",
    "\n",
    "- NumPy is able to save and load data to and from disk either in text or binary format\n",
    "- most uses will prefer pandas and other tools for loading text or tabular data\n",
    "- `np.save` and `np.load` are the two workhorse functions for efficiently saving and loading array data on disk\n",
    "- arrays are saved by default in an uncompressed raw binary format with file extension `.npy`\n",
    "- `savez`: save multiple arrays in an uncompressed archive, `savez_compressed` for compressed"
   ]
  },
  {
   "cell_type": "code",
   "execution_count": 108,
   "metadata": {},
   "outputs": [],
   "source": [
    "import numpy as np\n",
    "arr = np.arange(10)\n",
    "\n",
    "import os\n",
    "os.makedirs('temp', exist_ok=True)\n",
    "np.save('temp/random_array', arr)"
   ]
  },
  {
   "cell_type": "code",
   "execution_count": 109,
   "metadata": {},
   "outputs": [
    {
     "data": {
      "text/plain": [
       "array([0, 1, 2, 3, 4, 5, 6, 7, 8, 9])"
      ]
     },
     "execution_count": 109,
     "metadata": {},
     "output_type": "execute_result"
    }
   ],
   "source": [
    "import numpy as np\n",
    "np.load('temp/random_array.npy')"
   ]
  },
  {
   "cell_type": "markdown",
   "metadata": {},
   "source": [
    "# 4.7 Example: Random Walks\n",
    "\n",
    "- A random walk is a mathematical object, known as a stochastic or random process, that describes a path that consists of a succession of random steps on some mathematical space such as the integers.\n"
   ]
  },
  {
   "cell_type": "code",
   "execution_count": 110,
   "metadata": {},
   "outputs": [
    {
     "name": "stdout",
     "output_type": "stream",
     "text": [
      "Minimum value along the walk trajectory: -31\n",
      "Maximum value along the walk trajectory: 16\n",
      "First time crossing 10: 91\n"
     ]
    }
   ],
   "source": [
    "import numpy as np\n",
    "\n",
    "nsteps = 1000\n",
    "draws = np.random.randint(low=0, high=2, size=nsteps)\n",
    "steps = np.where(draws > 0, 1, -1)\n",
    "walk = steps.cumsum()\n",
    "print(\"Minimum value along the walk trajectory: {}\".format(walk.min()))\n",
    "print(\"Maximum value along the walk trajectory: {}\".format(walk.max()))\n",
    "print(\"First time crossing 10: {}\".format((np.abs(walk) >= 10).argmax()))"
   ]
  },
  {
   "cell_type": "markdown",
   "metadata": {},
   "source": [
    "## Simulating Many Random Walks at Once\n",
    "\n",
    "- generate all of the random walks\n",
    "- `numpy.random` can generate a two-dimensional array of draws\n",
    "- compute the cumulative sum across the rows to compute all 5000 random walks at once"
   ]
  },
  {
   "cell_type": "code",
   "execution_count": 113,
   "metadata": {},
   "outputs": [
    {
     "name": "stdout",
     "output_type": "stream",
     "text": [
      "Minimum value in all walks' trajectory: -127\n",
      "Maximum value in all walks' trajectory: 117\n",
      "Number of walks that hit +30 or -30: 3356\n",
      "Average number of steps to cross 30: 500.86710369487486\n"
     ]
    }
   ],
   "source": [
    "import numpy as np\n",
    "\n",
    "nwalks = 5000\n",
    "nsteps = 1000\n",
    "draws = np.random.randint(0, 2, size=(nwalks, nsteps))\n",
    "steps = np.where(draws > 0, 1, -1)\n",
    "walks = steps.cumsum(1)\n",
    "print(\"Minimum value in all walks' trajectory: {}\".format(walks.min()))\n",
    "print(\"Maximum value in all walks' trajectory: {}\".format(walks.max()))\n",
    "\n",
    "hits30 = (np.abs(walks) >= 30).any(1)\n",
    "print(\"Number of walks that hit +30 or -30: {}\".format(hits30.sum()))\n",
    "\n",
    "crossing_times = (np.abs(walks[hits30]) >= 30).argmax(1)\n",
    "print(\"Average number of steps to cross 30: {}\".format(crossing_times.mean()))"
   ]
  },
  {
   "cell_type": "code",
   "execution_count": null,
   "metadata": {},
   "outputs": [],
   "source": []
  }
 ],
 "metadata": {
  "kernelspec": {
   "display_name": "Python 3",
   "language": "python",
   "name": "python3"
  },
  "language_info": {
   "codemirror_mode": {
    "name": "ipython",
    "version": 3
   },
   "file_extension": ".py",
   "mimetype": "text/x-python",
   "name": "python",
   "nbconvert_exporter": "python",
   "pygments_lexer": "ipython3",
   "version": "3.7.5"
  }
 },
 "nbformat": 4,
 "nbformat_minor": 2
}
