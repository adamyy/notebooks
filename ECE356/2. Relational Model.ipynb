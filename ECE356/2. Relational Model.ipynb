{
 "cells": [
  {
   "cell_type": "markdown",
   "metadata": {},
   "source": [
    "# Intro\n",
    "\n",
    "- **relations**: used to represent objects and relationships between objects\n",
    "- relations are tables with rows and columns\n",
    "    - rows may represent entities and relationships\n",
    "    - columns represent attributes\n",
    "- a relation is a *mathematical object*, and a table is its *physical embodiment*"
   ]
  },
  {
   "cell_type": "markdown",
   "metadata": {},
   "source": [
    "# Attribute Types\n",
    "\n",
    "- the *set of allowed values for each attribute* is called the **domain** of the attribute\n",
    "- attribute values are usually requred to be **atomic**, which means they are indivisible\n",
    "- the special value **null** is a member of every domain, and is used to represent *missing or unknown data*\n",
    "    - use null values judiciously because they lead to a number of complications"
   ]
  },
  {
   "cell_type": "markdown",
   "metadata": {},
   "source": [
    "# Relation Schema and Instance\n",
    "\n",
    "- Let $A_1, A_2, ..., A_n$ denote attributes\n",
    "- Let $D_1, D_2, ..., D_n$ denote domains\n",
    "- $R(A_1, A_2, ..., A_n)$ denotes a **relation schema** over these attributes\n",
    "    - e.g., `instructor(ID, name, dept_name, salary)`\n",
    "    - the order of elements in the tuple does not matter\n",
    "    - think of it as class in OOP\n",
    "- a **relation** `r` conforming to schema `R`, denoted as `r(R)`, is a subset of $D_1 \\times D_2 \\times ... \\times D_n$\n",
    "    - thus, a relation is a set of n-tuples ($a_1, a_2, ..., a_n$) where each ai is in Di\n",
    "    - think of it as objects in OOP\n",
    "- an element `t` of `r` is a **tuple** (n-tuple), and corresponds to a row in a table\n",
    "- a **relation instance** refers to the concrete values of a relation"
   ]
  },
  {
   "cell_type": "markdown",
   "metadata": {},
   "source": [
    "# Database\n",
    "\n",
    "- a database typically comprises many relations\n",
    "- normalization theory deals with how to design good relational schemas that satisfy a very precise notion of \"goodness\""
   ]
  },
  {
   "attachments": {},
   "cell_type": "markdown",
   "metadata": {},
   "source": [
    "# Keys\n",
    "\n",
    "- Let $R$ be a relation schema and let $ K \\in R $ (K is a subset of R's attributes)\n",
    "- **Superkey** and **Candidate key**\n",
    "    - $K$ is a **superkey** of $R$ if values for $K$ are sufficient to identify a unique tuple of each possible relation $r(R)$\n",
    "        - e.g., `{ID}` and `{ID, name}` are both superkeys of instructor\n",
    "    - Superkey $K$ is a **candidate key** if $K$ is minimal\n",
    "        - e.g., `{ID}` is a candidate key for instructor\n",
    "    - one of the candidate keys is selected to be the **primary key**\n",
    "- **Foreign key** constraint: an attribute value in one relation must appear in another relation\n",
    "    - **referencing relation** contains a **foreign key**\n",
    "    - **referenced relation** contains a **referenced key** (usually the primary key)\n",
    "    - ![Relation Schema Diagram](img/Snip20190909_12.png)\n",
    "    - ^ relation schema diagram, different from entity relation diagram\n",
    "        - each box is a relation\n",
    "        - primary key is underlined, primary key can contain multiple attributes\n",
    "    - e.g., attribute *ID* in *takes* (referencing relation) is a *foreign key* that references *ID* in *student* (referenced relation)\n"
   ]
  },
  {
   "cell_type": "markdown",
   "metadata": {},
   "source": []
  }
 ],
 "metadata": {
  "kernelspec": {
   "display_name": "Python 3",
   "language": "python",
   "name": "python3"
  },
  "language_info": {
   "codemirror_mode": {
    "name": "ipython",
    "version": 3
   },
   "file_extension": ".py",
   "mimetype": "text/x-python",
   "name": "python",
   "nbconvert_exporter": "python",
   "pygments_lexer": "ipython3",
   "version": "3.7.3"
  }
 },
 "nbformat": 4,
 "nbformat_minor": 2
}
