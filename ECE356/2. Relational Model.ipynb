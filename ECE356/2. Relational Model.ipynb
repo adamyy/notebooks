{
 "cells": [
  {
   "cell_type": "markdown",
   "metadata": {},
   "source": [
    "# Relations\n",
    "\n",
    "- used to represent objects and relationships between objects\n",
    "- relations are tables with rows and columns\n",
    "    - rows may represent entities and relationships\n",
    "    - columns represent attributes\n",
    "- a relation is a *mathematical object*, and a table is its *physical embodiment*"
   ]
  },
  {
   "cell_type": "markdown",
   "metadata": {},
   "source": [
    "# Database\n",
    "\n",
    "### **table** $\\approx$ **relation**\n",
    "- a relational database consists of a collection of **tables**, each of which is assigned a unique name\n",
    "    - there is a close correpondence between the concept of *table* and the mathematical concept of *relation*\n",
    "    - so one can say a database typically comprises many relations\n",
    "\n",
    "### **relation instance**\n",
    "- refers to a specific instance of a relation, i.e., containing a specific set of rows\n",
    "\n",
    "### **row** $\\approx$ **relationship**\n",
    "- a row in a table represents a ***relationship*** among a set of values\n",
    "    - a relationship between $n$ values is represented mathematically by an *n-tuple* of values, which correponds to a row in a table\n",
    "    - the order in which tuples appear in a relation is irrelevant, since a *relation* (*table*) is a **set of tuples**\n",
    "    \n",
    "### **attribute** $=$ **column**\n",
    "\n",
    "- ***domain*** of the attribute: the **set of allowed values** for each attribute\n",
    "    - for all relations $r$, the domains of all attributes of $r$ are required to be **atomic**, which means all elements of the domain are considered to be indivisible units\n",
    "    - attribute values are required to be **atomic**\n",
    "- the special value **null** is a member of every domain, and is used to represent *missing or unknown data*\n",
    "    - use null values judiciously because they lead to a number of complications\n"
   ]
  },
  {
   "cell_type": "markdown",
   "metadata": {},
   "source": [
    "# Relation Schema and Instance\n",
    "\n",
    "- Let $A_1, A_2, ..., A_n$ denote attributes\n",
    "- Let $D_1, D_2, ..., D_n$ denote domains\n",
    "- $R(A_1, A_2, ..., A_n)$ denotes a **relation schema** over these attributes\n",
    "    - e.g., `instructor(ID, name, dept_name, salary)`\n",
    "    - the order of elements in the tuple does not matter\n",
    "    - think of it as class in OOP\n",
    "- a **relation** `r` conforming to schema `R`, denoted as `r(R)`, is a subset of $D_1 \\times D_2 \\times ... \\times D_n$\n",
    "    - thus, a relation is a set of n-tuples ($a_1, a_2, ..., a_n$) where each ai is in Di\n",
    "    - think of it as objects in OOP\n",
    "- an element `t` of `r` is a **tuple** (n-tuple), and corresponds to a row in a table\n",
    "- a **relation instance** refers to the concrete values of a relation\n",
    "- normalization theory deals with how to design good relational schemas that satisfy a very precise notion of \"goodness\""
   ]
  },
  {
   "cell_type": "markdown",
   "metadata": {},
   "source": [
    "# Keys\n",
    "\n",
    "- Let $R$ be a relation schema and let $ K \\subseteq R $ (K is a subset of R's attributes)\n",
    "- **Superkey** and **Candidate key**\n",
    "    - $K$ is a **superkey** of $R$ if values for $K$ are sufficient to identify a unique tuple of each possible relation $r(R)$\n",
    "        - e.g., `{ID}` and `{ID, name}` are both superkeys of instructor\n",
    "    - Superkey $K$ is a **candidate key** if $K$ is minimal\n",
    "        - e.g., `{ID}` is a candidate key for instructor\n",
    "    - one of the candidate keys is selected to be the **primary key**\n",
    "- **Foreign key** constraint: an attribute value in one relation must appear in another relation\n",
    "    - **referencing relation** contains a **foreign key**\n",
    "    - **referenced relation** contains a **referenced key** (usually the primary key)\n"
   ]
  },
  {
   "cell_type": "markdown",
   "metadata": {},
   "source": [
    "# Schema Diagrams\n",
    "\n",
    "![Relation Schema Diagram](img/Snip20190909_12.png)\n",
    "\n",
    "- each box is a relation\n",
    "- relation name at the top in blue\n",
    "- attributes listed inside the box\n",
    "- primary key is underlined, primary key can contain multiple attributes\n",
    "- foreign key dependencies appear as arrows from the foreign key attributes of the referencing relation to the primary key of the referenced relation\n",
    "- different from entity relation diagram\n",
    "- e.g., attribute *ID* in *takes* (referencing relation) is a *foreign key* that references *ID* in *student* (referenced relation)\n"
   ]
  },
  {
   "cell_type": "code",
   "execution_count": null,
   "metadata": {},
   "outputs": [],
   "source": []
  }
 ],
 "metadata": {
  "kernelspec": {
   "display_name": "Python 3",
   "language": "python",
   "name": "python3"
  },
  "language_info": {
   "codemirror_mode": {
    "name": "ipython",
    "version": 3
   },
   "file_extension": ".py",
   "mimetype": "text/x-python",
   "name": "python",
   "nbconvert_exporter": "python",
   "pygments_lexer": "ipython3",
   "version": "3.7.3"
  }
 },
 "nbformat": 4,
 "nbformat_minor": 2
}
