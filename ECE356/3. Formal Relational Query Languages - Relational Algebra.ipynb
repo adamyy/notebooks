{
 "cells": [
  {
   "attachments": {},
   "cell_type": "markdown",
   "metadata": {},
   "source": [
    "# Relational Algebra\n",
    "\n",
    "- procedural language\n",
    "- basic operators\n",
    "    - select $\\sigma$\n",
    "    - project $\\Pi$\n",
    "    - union $\\cup$\n",
    "    - set difference $-$\n",
    "    - cartesian product $\\times$\n",
    "    - rename $\\rho$\n",
    "- opeartors take one or two relations as inputs and output a single relation\n",
    "\n",
    "![Snip20190910_36.png](img/Snip20190910_36.png)"
   ]
  },
  {
   "cell_type": "markdown",
   "metadata": {},
   "source": [
    "# Select Opeartion\n",
    "\n",
    "- notation: $\\sigma_{p}(r)$\n",
    "- $p$ is called the **selection predicate**\n",
    "- defined as\n",
    "\\begin{equation*}\n",
    "\\sigma_{p}(r)=\\{t|t \\in r \\land p(t)\\}\n",
    "\\end{equation*}\n",
    "- where $p$ is a formula in propositional logic consisting of **terms** connected by **and $\\land$, or $\\lor$, not $\\lnot$**\n",
    "- each term is one of: \\<attribute\\> op \\<attribute\\> or \\<constant\\>\n",
    "- where *op* is one of: $=,\\ne,>,\\leq,<,\\geq$\n",
    "- example: $\\sigma_{dept\\_name=\"Physics\"}(instructor)$\n",
    "\n"
   ]
  },
  {
   "attachments": {},
   "cell_type": "markdown",
   "metadata": {},
   "source": [
    "# Project Operation\n",
    "\n",
    "- notation: $\\Pi_{A_1, A_2, ..., A_k}(r)$\n",
    "    - where $A_1, A_2$ are attribute names and $r$ is a relation name\n",
    "- the result is defined as the relation of $k$ columns obtained by erasing the columns that are not listed\n",
    "- since relation are sets, duplicate rows \"removed\" from result\n",
    "- example: to eliminate the $dept\\_name$ attribute of instructor\n",
    "    - $\\Pi_{ID, name, salary}(instructor)$\n",
    "\n",
    "![Snip20190910_37.png](img/Snip20190910_37.png)"
   ]
  },
  {
   "attachments": {},
   "cell_type": "markdown",
   "metadata": {},
   "source": [
    "# Union Operation\n",
    "\n",
    "- notation: $r \\cup s$\n",
    "- defined as: $r \\cup s = \\{t|t \\in r \\lor t \\in s\\}$\n",
    "- for $r \\cup s$ to be valid\n",
    "    1. $r, s$ must have the same **arity** (same number of attributes)\n",
    "    2. the attribute domains must be **compatible** (e.g., 2nd column of $r$ deals with the same type of values as does the 2nd column of s)\n",
    "- example, to find all courses taught in Fall 2009 or Spring 2010 or both\n",
    "    - $\\Pi_{course\\_id}(\\sigma_{semester=\"Fall\" \\land year=2009}(section)) \\cup \\Pi_{course\\_id}(\\sigma_{semester=\"Spring\" \\land year=2010}(section))$\n",
    "\n",
    "![Snip20190910_38.png](img/Snip20190910_38.png)\n",
    "\n"
   ]
  },
  {
   "attachments": {},
   "cell_type": "markdown",
   "metadata": {},
   "source": [
    "# Set Difference of two relations\n",
    "\n",
    "- notation: $r - s$\n",
    "- defined as: $r-s=\\{t|t\\in r \\land t \\notin s\\}$\n",
    "- set differences must be taken between compatible relations, similar to unions\n",
    "- example: to find all courses taught in Fall 2009 but not in Spring 2010\n",
    "    - $\\Pi_{course\\_id}(\\sigma_{semester=\"Fall\" \\land year=2009}(section)) - \\Pi_{course\\_id}(\\sigma_{semester=\"Spring\" \\land year=2010}(section))$\n",
    "\n",
    "![Snip20190910_39.png](img/Snip20190910_39.png)"
   ]
  },
  {
   "attachments": {},
   "cell_type": "markdown",
   "metadata": {},
   "source": [
    "# Cartesian-Product Operation\n",
    "\n",
    "- notation: $r \\times s$\n",
    "- defined as: $r \\times s = \\{tq|t\\in r\\land q \\in s\\}$\n",
    "    - $tq$ denotes a tuple obtained by concatenating together $t$ and $q$\n",
    "- the definition assumes that attributes of $r(R)$ and $s(S)$ are disjoint ($R\\cap S = \\emptyset$)\n",
    "- if attributes of $r(R)$ and $s(S)$ are not disjoint, renaming must be used\n",
    "\n",
    "![Snip20190910_40.png](img/Snip20190910_40.png)"
   ]
  },
  {
   "attachments": {},
   "cell_type": "markdown",
   "metadata": {},
   "source": [
    "# Composition of Operators\n",
    "\n",
    "- can build expressions using multiple operations\n",
    "\n",
    "![Snip20190910_41.png](img/Snip20190910_41.png)"
   ]
  },
  {
   "cell_type": "markdown",
   "metadata": {},
   "source": [
    "# Rename Operation\n",
    "\n",
    "- allows us to name and refer to the results of relational-algebra expressions\n",
    "- allows us to refer to a relation by more than one name\n",
    "- example: $\\rho_X(E)$ returns the expression $E$ under the name $X$\n",
    "- if a relational-algebra expression $E$ has arity $n$, then\n",
    "    - $\\rho_{x(A_1, A_2, ..., A_n)}(E)$ returns the result of expression $E$ under the name $X$, and with the attributes renamed to $A_1, A_2, ..., A_n$"
   ]
  },
  {
   "cell_type": "markdown",
   "metadata": {},
   "source": [
    "# Example Query\n",
    "\n",
    "- find the largest salary in the university\n",
    "    - step 1, find instructor salaries that are less than some other instructor salary (i.e, not maximum)\n",
    "        - using a copy of instructor under a new name $d$\n",
    "        - $\\Pi_{instructor.salary}(\\sigma_{instructor.salary < d.salary} (instructor\\times \\rho_d(instructor)))$\n",
    "    - step 2, find the largest salary\n",
    "        - $\\Pi_{salary}(instructor) - \\Pi_{instructor.salary}(\\sigma_{instructor.salary < d.salary}(instructor \\times \\rho_d(instructor)))$"
   ]
  },
  {
   "cell_type": "markdown",
   "metadata": {},
   "source": [
    "# Formal Definition of Relational Algebra\n",
    "\n",
    "- a **basic expression** in the relational algebra consists of either a **relation in the database** (e.g., instructor) or a **constant relation**\n",
    "- a general **relational algebra expression** is either a basic expression or an expression constructed recursively using one of the following rules, where $E_1$ and $E_2$ denote existing relational-algebra expressions\n",
    "    - $E_1 \\cup E_2$\n",
    "    - $E_1 - E_2$\n",
    "    - $E_1 \\times E_2$\n",
    "    - $\\sigma_p(E_1)$, where $p$ is a predicate on attributes in $E_1$\n",
    "    - $\\Pi_s(E_1)$, where $S$ is a list comprising a subset of the attributes in $E_1$\n",
    "    - $\\rho_{\\times(A_1, A_2, ..., A_n)}(E_1)$, where $\\times(A_1, A_2, ..., A_n)$ is the new name for $E_1$ and its attributes\n"
   ]
  },
  {
   "cell_type": "markdown",
   "metadata": {},
   "source": [
    "# Additional Operations\n",
    "\n",
    "- for convenience, additional relational operators can be defined that do not add any expressive power to the relational algebra but simplify common queries\n",
    "    - set intersection $\\cap$\n",
    "    - natural join $\\bowtie$\n",
    "    - theta join $\\bowtie_{theta}$\n",
    "    - assignment $\\leftarrow$\n",
    "    - set division $\\div$\n",
    "    - outer join"
   ]
  },
  {
   "attachments": {},
   "cell_type": "markdown",
   "metadata": {},
   "source": [
    "# Set-Interserction Operation\n",
    "\n",
    "- notation: $r \\cap s$\n",
    "- defined as: $r \\cap s = \\{t|t\\in r \\land t \\in s\\}$\n",
    "- assume:\n",
    "    - $r, s$ have the same arity\n",
    "    - attributes of $r$ and $s$ are compatible\n",
    "- $r \\cap s =r - (r-s)$\n",
    "\n",
    "![Snip20190910_42.png](img/Snip20190910_42.png)"
   ]
  },
  {
   "cell_type": "markdown",
   "metadata": {},
   "source": [
    "# Assignment Operation\n",
    "\n",
    "- the assignment operation ($\\leftarrow$) provides a convenient way to express complex queries\n",
    "    - write query as a sequential program consisting of \n",
    "        - a series of assignments\n",
    "        - followed by an expression whose value is displayed as a result of the query\n",
    "    - assignment must always be made to a **temporary relation variable**\n",
    "- example: find the largest salary in the university\n",
    "    - $temp \\leftarrow \\Pi_{instructor.salary}(\\sigma_{instructor.salary < d.salary}(instructor \\times \\rho_d(instructor)))$\n",
    "    - $\\Pi_{salary}(instructor) - temp$"
   ]
  },
  {
   "attachments": {},
   "cell_type": "markdown",
   "metadata": {},
   "source": [
    "# Natural-Join Operation\n",
    "\n",
    "- notation: $r \\bowtie s$\n",
    "- let $r$ and $s$ be relations on schemas $R$ and $S$ respectively, then $r \\bowtie s$ is a relation on schema $R \\cup S$ obtained as follows\n",
    "    - consider each pair of tuples $t_r$ from $r$ and $t_s$ from $s$\n",
    "    - if $t_r$ and $t_s$ have the same value on each of the attributes in $R \\cap S$, add a tuple $t$ to the result, where\n",
    "        - $t$ has the same value as $t_r$ for attributes in $R$\n",
    "        - $t$ has the same value as $t_s$ for attributes in $S$\n",
    "- example\n",
    "    - $R=(A,B,C,D), S=(E,B,D)$\n",
    "    - result schema $(A,B,C,D,E)$\n",
    "    - $r\\bowtie s$ is defined as: $\\Pi_{r.A, r.B, r.C, r.D, s.E}(\\sigma_{r.B=s.B\\land r.D=s.D}(r \\times s))$\n",
    "\n",
    "![Snip20190911_45.png](img/Snip20190911_45.png)"
   ]
  },
  {
   "cell_type": "markdown",
   "metadata": {},
   "source": [
    "# Natural Join and Theta Join\n",
    "\n",
    "- find the names of all instructors in CS department together with the course titles of all the courses that the insturctos teach\n",
    "    - $\\Pi_{name, title}(\\sigma_{dept\\_name=\"Comp.Sci.\"}(instructor \\bowtie teaches \\bowtie course))$\n",
    "- natural join is **associative**\n",
    "    - $(instructor \\bowtie teaches) \\bowtie course$ = $instructor \\bowtie (teaches \\bowtie course)$\n",
    "- natural join is **commutative**\n",
    "    - $instructor \\bowtie teaches$ = $ teaches \\bowtie instructor$\n",
    "    - tuples in the relational model are unordered\n",
    "- the **theta join** operation $r\\bowtie_{\\theta}s$ is defined as\n",
    "    - $r\\bowtie_{\\theta}s$ = $\\sigma_{\\theta}(r \\times s)$\n",
    "\n",
    "- example: pet(p_id, name, species), owner(o_id, name, address), owns(p_id, o_id)\n",
    "    - query: find the name and address of every dog that has an owner\n",
    "    - $temp \\leftarrow (pet \\bowtie owns)$\n",
    "    - $temp2 \\leftarrow temp \\bowtie_{temp.o_id = owner.o_id}owner$\n",
    "    - $\\Pi_{temp.name, address}(\\sigma_{species=\"dog\"}(temp2))$"
   ]
  },
  {
   "cell_type": "markdown",
   "metadata": {},
   "source": [
    "# Division Operator\n",
    "\n",
    "- given relations $r(R)$ and $s(S)$, such that $S \\subset R$, then $r \\div s$ is the largest relation $t(R-S)$ such that $t \\times s \\subseteq r$\n",
    "- example, $r(ID, course_id) = \\Pi_{ID, course\\_id}(takes)$ and $s(course_id)=\\Pi_{course\\_id}(\\sigma_{dept\\_name=\"Biology\"}(course))$\n",
    "    - then $r \\div s$ gives students who have taken all the courses in the biology department\n"
   ]
  },
  {
   "cell_type": "code",
   "execution_count": null,
   "metadata": {},
   "outputs": [],
   "source": []
  }
 ],
 "metadata": {
  "kernelspec": {
   "display_name": "Python 3",
   "language": "python",
   "name": "python3"
  },
  "language_info": {
   "codemirror_mode": {
    "name": "ipython",
    "version": 3
   },
   "file_extension": ".py",
   "mimetype": "text/x-python",
   "name": "python",
   "nbconvert_exporter": "python",
   "pygments_lexer": "ipython3",
   "version": "3.7.3"
  }
 },
 "nbformat": 4,
 "nbformat_minor": 2
}
