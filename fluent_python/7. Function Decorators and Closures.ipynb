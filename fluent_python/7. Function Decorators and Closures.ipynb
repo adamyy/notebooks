{
 "cells": [
  {
   "cell_type": "code",
   "execution_count": 2,
   "metadata": {},
   "outputs": [],
   "source": [
    "def make_averager():\n",
    "    series = []\n",
    "    def averager(new_value):\n",
    "        series.append(new_value)\n",
    "        return sum(series)/len(series)\n",
    "    return averager"
   ]
  },
  {
   "cell_type": "code",
   "execution_count": 3,
   "metadata": {},
   "outputs": [],
   "source": [
    "avg = make_averager()"
   ]
  },
  {
   "cell_type": "code",
   "execution_count": 4,
   "metadata": {},
   "outputs": [
    {
     "data": {
      "text/plain": [
       "<function __main__.make_averager.<locals>.averager(new_value)>"
      ]
     },
     "execution_count": 4,
     "metadata": {},
     "output_type": "execute_result"
    }
   ],
   "source": [
    "avg"
   ]
  },
  {
   "cell_type": "code",
   "execution_count": 5,
   "metadata": {},
   "outputs": [
    {
     "data": {
      "text/plain": [
       "10.0"
      ]
     },
     "execution_count": 5,
     "metadata": {},
     "output_type": "execute_result"
    }
   ],
   "source": [
    "avg(10)"
   ]
  },
  {
   "cell_type": "code",
   "execution_count": 6,
   "metadata": {},
   "outputs": [
    {
     "data": {
      "text/plain": [
       "10.5"
      ]
     },
     "execution_count": 6,
     "metadata": {},
     "output_type": "execute_result"
    }
   ],
   "source": [
    "avg(11)"
   ]
  },
  {
   "cell_type": "code",
   "execution_count": 7,
   "metadata": {},
   "outputs": [
    {
     "data": {
      "text/plain": [
       "<code object averager at 0x11206b8a0, file \"<ipython-input-2-ba1550cee893>\", line 3>"
      ]
     },
     "execution_count": 7,
     "metadata": {},
     "output_type": "execute_result"
    }
   ],
   "source": [
    "avg.__code__"
   ]
  },
  {
   "cell_type": "code",
   "execution_count": 8,
   "metadata": {},
   "outputs": [
    {
     "data": {
      "text/plain": [
       "['__class__',\n",
       " '__delattr__',\n",
       " '__dir__',\n",
       " '__doc__',\n",
       " '__eq__',\n",
       " '__format__',\n",
       " '__ge__',\n",
       " '__getattribute__',\n",
       " '__gt__',\n",
       " '__hash__',\n",
       " '__init__',\n",
       " '__init_subclass__',\n",
       " '__le__',\n",
       " '__lt__',\n",
       " '__ne__',\n",
       " '__new__',\n",
       " '__reduce__',\n",
       " '__reduce_ex__',\n",
       " '__repr__',\n",
       " '__setattr__',\n",
       " '__sizeof__',\n",
       " '__str__',\n",
       " '__subclasshook__',\n",
       " 'co_argcount',\n",
       " 'co_cellvars',\n",
       " 'co_code',\n",
       " 'co_consts',\n",
       " 'co_filename',\n",
       " 'co_firstlineno',\n",
       " 'co_flags',\n",
       " 'co_freevars',\n",
       " 'co_kwonlyargcount',\n",
       " 'co_lnotab',\n",
       " 'co_name',\n",
       " 'co_names',\n",
       " 'co_nlocals',\n",
       " 'co_stacksize',\n",
       " 'co_varnames']"
      ]
     },
     "execution_count": 8,
     "metadata": {},
     "output_type": "execute_result"
    }
   ],
   "source": [
    "dir(avg.__code__)"
   ]
  },
  {
   "cell_type": "code",
   "execution_count": 9,
   "metadata": {},
   "outputs": [
    {
     "data": {
      "text/plain": [
       "(<cell at 0x1120a0c10: list object at 0x11207a410>,)"
      ]
     },
     "execution_count": 9,
     "metadata": {},
     "output_type": "execute_result"
    }
   ],
   "source": [
    "# closure is a function that retains the bindings of the free variables\n",
    "# that exist when the function is defined, so that they can be used later\n",
    "# when the function is invoked and the defining scope is no longer available\n",
    "avg.__closure__"
   ]
  },
  {
   "cell_type": "code",
   "execution_count": 14,
   "metadata": {},
   "outputs": [],
   "source": [
    "# nonlocal: flag a variable as a free variable even when it is assigned\n",
    "# a new value within the function\n",
    "\n",
    "def make_averager():\n",
    "    count = 0\n",
    "    total = 0\n",
    "    def averager(new_value):\n",
    "        nonlocal count, total\n",
    "        count += 1\n",
    "        total += new_value\n",
    "        return total / count\n",
    "    return averager"
   ]
  },
  {
   "cell_type": "code",
   "execution_count": 15,
   "metadata": {},
   "outputs": [],
   "source": [
    "avg = make_averager()"
   ]
  },
  {
   "cell_type": "code",
   "execution_count": 16,
   "metadata": {},
   "outputs": [
    {
     "data": {
      "text/plain": [
       "10.0"
      ]
     },
     "execution_count": 16,
     "metadata": {},
     "output_type": "execute_result"
    }
   ],
   "source": [
    "avg(10)"
   ]
  },
  {
   "cell_type": "code",
   "execution_count": 17,
   "metadata": {},
   "outputs": [],
   "source": [
    "import time\n",
    "\n",
    "# 1. does not support keyword arguments\n",
    "# 2. marks the __name__ and __doc__ of the decorated function\n",
    "def clock(func):\n",
    "    def clocked(*args):\n",
    "        t0 = time.perf_counter()\n",
    "        result = func(*args)\n",
    "        elapsed = time.perf_counter() - t0\n",
    "        name = func.__name__\n",
    "        arg_str = ', '.join(repr(arg) for arg in args)\n",
    "        print('[%0.8fs] %s(%s) -> %r' % (elapsed, name, arg_str, result))\n",
    "        return result\n",
    "    return clocked\n"
   ]
  },
  {
   "cell_type": "code",
   "execution_count": 18,
   "metadata": {},
   "outputs": [],
   "source": [
    "@clock\n",
    "def snooze(seconds):\n",
    "    time.sleep(seconds)"
   ]
  },
  {
   "cell_type": "code",
   "execution_count": 19,
   "metadata": {},
   "outputs": [
    {
     "name": "stdout",
     "output_type": "stream",
     "text": [
      "[10.00505666s] snooze(10) -> None\n"
     ]
    }
   ],
   "source": [
    "snooze(10)"
   ]
  },
  {
   "cell_type": "code",
   "execution_count": 21,
   "metadata": {},
   "outputs": [],
   "source": [
    "import time\n",
    "from functools import wraps\n",
    "\n",
    "def clock(func):\n",
    "    @wraps(func)\n",
    "    def wrapper(*args, **kwargs):\n",
    "        t0 = time.perf_counter()\n",
    "        result = func(*args, **kwargs)\n",
    "        elapsed = time.perf_counter() - t0\n",
    "        name = func.__name__\n",
    "        arg_list = []\n",
    "        if args:\n",
    "            arg_list.append(', '.join(repr(arg) for arg in args))\n",
    "        if kwargs:\n",
    "            pairs = ['%s=%r' % (k, w) for k, w in sorted(kwargs.items())]\n",
    "            arg_list.append(', '.join(pairs))\n",
    "        arg_str = ', '.join(arg_list)\n",
    "        print('[%0.8fs] %s(%s) -> %r' % (elapsed, name, arg_str, result))\n",
    "        return result\n",
    "    return wrapper"
   ]
  },
  {
   "cell_type": "code",
   "execution_count": 24,
   "metadata": {},
   "outputs": [],
   "source": [
    "@clock\n",
    "def tag(name, *content, cls=None, **attrs):\n",
    "    '''generate one or more HTML tags'''\n",
    "    if cls is not None:\n",
    "        attrs['class'] = cls\n",
    "        \n",
    "    if attrs:\n",
    "        attr_str = ''.join(' %s=\"%s\"' % (attr, value)\n",
    "                           for attr, value\n",
    "                           in sorted(attrs.items()))\n",
    "    else:\n",
    "        attr_str = ''\n",
    "        \n",
    "    if content:\n",
    "        return '\\n'.join('<%s%s>%s</%s>' %\n",
    "                        (name, attr_str, c, name) for c in content)\n",
    "    else:\n",
    "        return '<%s%s />' % (name, attr_str)"
   ]
  },
  {
   "cell_type": "code",
   "execution_count": 26,
   "metadata": {},
   "outputs": [
    {
     "name": "stdout",
     "output_type": "stream",
     "text": [
      "[0.00001068s] tag('p', 'name', cls='sidebar', content='testing') -> '<p class=\"sidebar\" content=\"testing\">name</p>'\n"
     ]
    },
    {
     "data": {
      "text/plain": [
       "'<p class=\"sidebar\" content=\"testing\">name</p>'"
      ]
     },
     "execution_count": 26,
     "metadata": {},
     "output_type": "execute_result"
    }
   ],
   "source": [
    "tag('p', 'name', cls='sidebar', content='testing')"
   ]
  },
  {
   "cell_type": "code",
   "execution_count": 31,
   "metadata": {},
   "outputs": [
    {
     "name": "stdout",
     "output_type": "stream",
     "text": [
      "[0.00000084s] fibonacci(1) -> 1\n",
      "[0.00000042s] fibonacci(0) -> 0\n",
      "[0.00002616s] fibonacci(2) -> 1\n",
      "[0.00000083s] fibonacci(3) -> 2\n",
      "[0.00000062s] fibonacci(4) -> 3\n",
      "[0.00000059s] fibonacci(5) -> 5\n"
     ]
    }
   ],
   "source": [
    "from functools import lru_cache\n",
    "\n",
    "@lru_cache()\n",
    "@clock\n",
    "def fibonacci(n):\n",
    "    if n < 2:\n",
    "        return n\n",
    "    return fibonacci(n - 2) + fibonacci(n - 1)\n",
    "\n",
    "for i in range(5):\n",
    "    fibonacci(i + 1)"
   ]
  },
  {
   "cell_type": "code",
   "execution_count": 32,
   "metadata": {},
   "outputs": [],
   "source": [
    "from functools import singledispatch\n",
    "from collections import abc\n",
    "import numbers\n",
    "import html\n",
    "\n",
    "@singledispatch\n",
    "def htmlize(obj):\n",
    "    content = html.escape(repr(obj))\n",
    "    return '<pre>{}</pre>'.format(content)\n",
    "\n",
    "\n",
    "@htmlize.register(str)\n",
    "def _(text):\n",
    "    content = html.escape(text).replace('\\n', '<br>\\n')\n",
    "    return '<p>{0}</p>'.format(content)\n",
    "\n",
    "\n",
    "@htmlize.register(numbers.Integral)\n",
    "def _(n):\n",
    "    return '<pre>{0} (0x{0:x})</pre>'.format(n)\n",
    "\n",
    "\n",
    "@htmlize.register(tuple)\n",
    "@htmlize.register(abc.MutableSequence)\n",
    "def _(seq):\n",
    "    inner = '</li>\\n<li>'.join(htmlize(item) for item in seq)\n",
    "    return '<ul>\\n<li>' + inner + '</li>\\n</ul>'\n"
   ]
  },
  {
   "cell_type": "code",
   "execution_count": 33,
   "metadata": {},
   "outputs": [
    {
     "data": {
      "text/plain": [
       "{'__name__': '__main__',\n",
       " '__doc__': 'Automatically created module for IPython interactive environment',\n",
       " '__package__': None,\n",
       " '__loader__': None,\n",
       " '__spec__': None,\n",
       " '__builtin__': <module 'builtins' (built-in)>,\n",
       " '__builtins__': <module 'builtins' (built-in)>,\n",
       " '_ih': ['',\n",
       "  '__name__',\n",
       "  'def make_averager():\\n    series = []\\n    def averager(new_value):\\n        series.append(new_value)\\n        return sum(series)/len(series)\\n    return averager',\n",
       "  'avg = make_averager()',\n",
       "  'avg',\n",
       "  'avg(10)',\n",
       "  'avg(11)',\n",
       "  'avg.__code__',\n",
       "  'dir(avg.__code__)',\n",
       "  'avg.__closure__',\n",
       "  '# nonlocal: flag a variable as a free variable even when it is assigned\\n# a new value within the function\\n\\ndef make_averager():\\n    count = 0\\n    total = 0\\n    def averager(new_value):\\n        nonlocal count, total\\n        count += 1\\n        total += new_value\\n        return total / count',\n",
       "  'avg = make_averager()\\navg(10)',\n",
       "  'avg = make_averager()',\n",
       "  'avg',\n",
       "  '# nonlocal: flag a variable as a free variable even when it is assigned\\n# a new value within the function\\n\\ndef make_averager():\\n    count = 0\\n    total = 0\\n    def averager(new_value):\\n        nonlocal count, total\\n        count += 1\\n        total += new_value\\n        return total / count\\n    return averager',\n",
       "  'avg = make_averager()',\n",
       "  'avg(10)',\n",
       "  \"import time\\n\\ndef clock(func):\\n    def clocked(*args):\\n        t0 = time.perf_counter()\\n        result = func(*args)\\n        elapsed = time.perf_counter() - t0\\n        name = func.__name__\\n        arg_str = ', '.join(repr(arg) for arg in args)\\n        print('[%0.8fs] %s(%s) -> %r' % (elapsed, name, arg_str, result))\\n        return result\\n    return clocked\",\n",
       "  '@clock\\ndef snooze(seconds):\\n    time.sleep(seconds)',\n",
       "  'snooze(10)',\n",
       "  \"import time\\nfrom functools import wraps\\n\\ndef clock(func):\\n    @wraps(func)\\n    def wrapper(*args, **kwargs):\\n        t0 = time.perf_counter()\\n        result = func(*args, **kwargs)\\n        elapsed = time.perf_counter() - t0\\n        name = func.__name__\\n        arg_list = []\\n        if args:\\n            arg_list.append(', '.join(repr(arg) for arg in args))\\n        if kwargs:\\n            pairs = ['%s=%r' % (k, w) for k, w in sorted(kwargs.items())]\\n            arg_list.append(', '.join(pairs))\\n        arg_str = ', '.join(arg_list)\\n        print('[%0.8fs] %s(%s) -> %r' % (elapsed, name, arg_str, result))\\n        return result\",\n",
       "  \"import time\\nfrom functools import wraps\\n\\ndef clock(func):\\n    @wraps(func)\\n    def wrapper(*args, **kwargs):\\n        t0 = time.perf_counter()\\n        result = func(*args, **kwargs)\\n        elapsed = time.perf_counter() - t0\\n        name = func.__name__\\n        arg_list = []\\n        if args:\\n            arg_list.append(', '.join(repr(arg) for arg in args))\\n        if kwargs:\\n            pairs = ['%s=%r' % (k, w) for k, w in sorted(kwargs.items())]\\n            arg_list.append(', '.join(pairs))\\n        arg_str = ', '.join(arg_list)\\n        print('[%0.8fs] %s(%s) -> %r' % (elapsed, name, arg_str, result))\\n        return result\\n    return wrapper\",\n",
       "  '@clock\\ndef snooze(seconds):\\n    time.sleep(seconds)',\n",
       "  'snooze(0.5)',\n",
       "  '@clock\\ndef tag(name, *content, cls=None, **attrs):\\n    \\'\\'\\'generate one or more HTML tags\\'\\'\\'\\n    if cls is not None:\\n        attrs[\\'class\\'] = cls\\n        \\n    if attrs:\\n        attr_str = \\'\\'.join(\\' %s=\"%s\"\\' % (attr, value)\\n                           for attr, value\\n                           in sorted(attrs.items()))\\n    else:\\n        attr_str = \\'\\'\\n        \\n    if content:\\n        return \\'\\\\n\\'.join(\\'<%s%s>%s</%s>\\' %\\n                        (name, attr_str, c, name) for c in content)\\n    else:\\n        return \\'<%s%s />\\' % (name, attr_str)',\n",
       "  \"tag('p', 'name')\",\n",
       "  \"tag('p', 'name', cls='sidebar', content='testing')\",\n",
       "  'from functools import lru_cache\\n\\n@clock\\n@lru_cache\\ndef fibonacci(n):\\n    if n < 2:\\n        return n\\n    return fibonacci(n - 2) + fibonacci(n - 1)\\n\\nfor i in range(5):\\n    print(fibonacci(i))',\n",
       "  'from functools import lru_cache\\n\\n@clock\\n@lru_cache()\\ndef fibonacci(n):\\n    if n < 2:\\n        return n\\n    return fibonacci(n - 2) + fibonacci(n - 1)\\n\\nfor i in range(5):\\n    print(fibonacci(i))',\n",
       "  'from functools import lru_cache\\n\\n@clock\\n@lru_cache()\\ndef fibonacci(n):\\n    if n < 2:\\n        return n\\n    return fibonacci(n - 2) + fibonacci(n - 1)\\n\\nfor i in range(5):\\n    print(fibonacci(i + 1))',\n",
       "  'from functools import lru_cache\\n\\n@clock\\n@lru_cache()\\ndef fibonacci(n):\\n    if n < 2:\\n        return n\\n    return fibonacci(n - 2) + fibonacci(n - 1)\\n\\nfor i in range(5):\\n    fibonacci(i + 1)',\n",
       "  'from functools import lru_cache\\n\\n@lru_cache()\\n@clock\\ndef fibonacci(n):\\n    if n < 2:\\n        return n\\n    return fibonacci(n - 2) + fibonacci(n - 1)\\n\\nfor i in range(5):\\n    fibonacci(i + 1)',\n",
       "  \"from functools import singledispatch\\nfrom collections import abc\\nimport numbers\\nimport html\\n\\n@singledispatch\\ndef htmlize(obj):\\n    content = html.escape(repr(obj))\\n    return '<pre>{}</pre>'.format(content)\\n\\n\\n@htmlize.register(str)\\ndef _(text):\\n    content = html.escape(text).replace('\\\\n', '<br>\\\\n')\\n    return '<p>{0}</p>'.format(content)\\n\\n\\n@htmlize.register(numbers.Integral)\\ndef _(n):\\n    return '<pre>{0} (0x{0:x})</pre>'.format(n)\\n\\n\\n@htmlize.register(tuple)\\n@htmlize.register(abc.MutableSequence)\\ndef _(seq):\\n    inner = '</li>\\\\n<li>'.join(htmlize(item) for item in seq)\\n    return '<ul>\\\\n<li>' + inner + '</li>\\\\n</ul>'\",\n",
       "  'locals()'],\n",
       " '_oh': {1: '__main__',\n",
       "  4: <function __main__.make_averager.<locals>.averager(new_value)>,\n",
       "  5: 10.0,\n",
       "  6: 10.5,\n",
       "  7: <code object averager at 0x11206b8a0, file \"<ipython-input-2-ba1550cee893>\", line 3>,\n",
       "  8: ['__class__',\n",
       "   '__delattr__',\n",
       "   '__dir__',\n",
       "   '__doc__',\n",
       "   '__eq__',\n",
       "   '__format__',\n",
       "   '__ge__',\n",
       "   '__getattribute__',\n",
       "   '__gt__',\n",
       "   '__hash__',\n",
       "   '__init__',\n",
       "   '__init_subclass__',\n",
       "   '__le__',\n",
       "   '__lt__',\n",
       "   '__ne__',\n",
       "   '__new__',\n",
       "   '__reduce__',\n",
       "   '__reduce_ex__',\n",
       "   '__repr__',\n",
       "   '__setattr__',\n",
       "   '__sizeof__',\n",
       "   '__str__',\n",
       "   '__subclasshook__',\n",
       "   'co_argcount',\n",
       "   'co_cellvars',\n",
       "   'co_code',\n",
       "   'co_consts',\n",
       "   'co_filename',\n",
       "   'co_firstlineno',\n",
       "   'co_flags',\n",
       "   'co_freevars',\n",
       "   'co_kwonlyargcount',\n",
       "   'co_lnotab',\n",
       "   'co_name',\n",
       "   'co_names',\n",
       "   'co_nlocals',\n",
       "   'co_stacksize',\n",
       "   'co_varnames'],\n",
       "  9: (<cell at 0x1120a0c10: list object at 0x11207a410>,),\n",
       "  16: 10.0,\n",
       "  25: '<p>name</p>',\n",
       "  26: '<p class=\"sidebar\" content=\"testing\">name</p>'},\n",
       " '_dh': ['/Users/yifan/notes/fluent_python'],\n",
       " 'In': ['',\n",
       "  '__name__',\n",
       "  'def make_averager():\\n    series = []\\n    def averager(new_value):\\n        series.append(new_value)\\n        return sum(series)/len(series)\\n    return averager',\n",
       "  'avg = make_averager()',\n",
       "  'avg',\n",
       "  'avg(10)',\n",
       "  'avg(11)',\n",
       "  'avg.__code__',\n",
       "  'dir(avg.__code__)',\n",
       "  'avg.__closure__',\n",
       "  '# nonlocal: flag a variable as a free variable even when it is assigned\\n# a new value within the function\\n\\ndef make_averager():\\n    count = 0\\n    total = 0\\n    def averager(new_value):\\n        nonlocal count, total\\n        count += 1\\n        total += new_value\\n        return total / count',\n",
       "  'avg = make_averager()\\navg(10)',\n",
       "  'avg = make_averager()',\n",
       "  'avg',\n",
       "  '# nonlocal: flag a variable as a free variable even when it is assigned\\n# a new value within the function\\n\\ndef make_averager():\\n    count = 0\\n    total = 0\\n    def averager(new_value):\\n        nonlocal count, total\\n        count += 1\\n        total += new_value\\n        return total / count\\n    return averager',\n",
       "  'avg = make_averager()',\n",
       "  'avg(10)',\n",
       "  \"import time\\n\\ndef clock(func):\\n    def clocked(*args):\\n        t0 = time.perf_counter()\\n        result = func(*args)\\n        elapsed = time.perf_counter() - t0\\n        name = func.__name__\\n        arg_str = ', '.join(repr(arg) for arg in args)\\n        print('[%0.8fs] %s(%s) -> %r' % (elapsed, name, arg_str, result))\\n        return result\\n    return clocked\",\n",
       "  '@clock\\ndef snooze(seconds):\\n    time.sleep(seconds)',\n",
       "  'snooze(10)',\n",
       "  \"import time\\nfrom functools import wraps\\n\\ndef clock(func):\\n    @wraps(func)\\n    def wrapper(*args, **kwargs):\\n        t0 = time.perf_counter()\\n        result = func(*args, **kwargs)\\n        elapsed = time.perf_counter() - t0\\n        name = func.__name__\\n        arg_list = []\\n        if args:\\n            arg_list.append(', '.join(repr(arg) for arg in args))\\n        if kwargs:\\n            pairs = ['%s=%r' % (k, w) for k, w in sorted(kwargs.items())]\\n            arg_list.append(', '.join(pairs))\\n        arg_str = ', '.join(arg_list)\\n        print('[%0.8fs] %s(%s) -> %r' % (elapsed, name, arg_str, result))\\n        return result\",\n",
       "  \"import time\\nfrom functools import wraps\\n\\ndef clock(func):\\n    @wraps(func)\\n    def wrapper(*args, **kwargs):\\n        t0 = time.perf_counter()\\n        result = func(*args, **kwargs)\\n        elapsed = time.perf_counter() - t0\\n        name = func.__name__\\n        arg_list = []\\n        if args:\\n            arg_list.append(', '.join(repr(arg) for arg in args))\\n        if kwargs:\\n            pairs = ['%s=%r' % (k, w) for k, w in sorted(kwargs.items())]\\n            arg_list.append(', '.join(pairs))\\n        arg_str = ', '.join(arg_list)\\n        print('[%0.8fs] %s(%s) -> %r' % (elapsed, name, arg_str, result))\\n        return result\\n    return wrapper\",\n",
       "  '@clock\\ndef snooze(seconds):\\n    time.sleep(seconds)',\n",
       "  'snooze(0.5)',\n",
       "  '@clock\\ndef tag(name, *content, cls=None, **attrs):\\n    \\'\\'\\'generate one or more HTML tags\\'\\'\\'\\n    if cls is not None:\\n        attrs[\\'class\\'] = cls\\n        \\n    if attrs:\\n        attr_str = \\'\\'.join(\\' %s=\"%s\"\\' % (attr, value)\\n                           for attr, value\\n                           in sorted(attrs.items()))\\n    else:\\n        attr_str = \\'\\'\\n        \\n    if content:\\n        return \\'\\\\n\\'.join(\\'<%s%s>%s</%s>\\' %\\n                        (name, attr_str, c, name) for c in content)\\n    else:\\n        return \\'<%s%s />\\' % (name, attr_str)',\n",
       "  \"tag('p', 'name')\",\n",
       "  \"tag('p', 'name', cls='sidebar', content='testing')\",\n",
       "  'from functools import lru_cache\\n\\n@clock\\n@lru_cache\\ndef fibonacci(n):\\n    if n < 2:\\n        return n\\n    return fibonacci(n - 2) + fibonacci(n - 1)\\n\\nfor i in range(5):\\n    print(fibonacci(i))',\n",
       "  'from functools import lru_cache\\n\\n@clock\\n@lru_cache()\\ndef fibonacci(n):\\n    if n < 2:\\n        return n\\n    return fibonacci(n - 2) + fibonacci(n - 1)\\n\\nfor i in range(5):\\n    print(fibonacci(i))',\n",
       "  'from functools import lru_cache\\n\\n@clock\\n@lru_cache()\\ndef fibonacci(n):\\n    if n < 2:\\n        return n\\n    return fibonacci(n - 2) + fibonacci(n - 1)\\n\\nfor i in range(5):\\n    print(fibonacci(i + 1))',\n",
       "  'from functools import lru_cache\\n\\n@clock\\n@lru_cache()\\ndef fibonacci(n):\\n    if n < 2:\\n        return n\\n    return fibonacci(n - 2) + fibonacci(n - 1)\\n\\nfor i in range(5):\\n    fibonacci(i + 1)',\n",
       "  'from functools import lru_cache\\n\\n@lru_cache()\\n@clock\\ndef fibonacci(n):\\n    if n < 2:\\n        return n\\n    return fibonacci(n - 2) + fibonacci(n - 1)\\n\\nfor i in range(5):\\n    fibonacci(i + 1)',\n",
       "  \"from functools import singledispatch\\nfrom collections import abc\\nimport numbers\\nimport html\\n\\n@singledispatch\\ndef htmlize(obj):\\n    content = html.escape(repr(obj))\\n    return '<pre>{}</pre>'.format(content)\\n\\n\\n@htmlize.register(str)\\ndef _(text):\\n    content = html.escape(text).replace('\\\\n', '<br>\\\\n')\\n    return '<p>{0}</p>'.format(content)\\n\\n\\n@htmlize.register(numbers.Integral)\\ndef _(n):\\n    return '<pre>{0} (0x{0:x})</pre>'.format(n)\\n\\n\\n@htmlize.register(tuple)\\n@htmlize.register(abc.MutableSequence)\\ndef _(seq):\\n    inner = '</li>\\\\n<li>'.join(htmlize(item) for item in seq)\\n    return '<ul>\\\\n<li>' + inner + '</li>\\\\n</ul>'\",\n",
       "  'locals()'],\n",
       " 'Out': {1: '__main__',\n",
       "  4: <function __main__.make_averager.<locals>.averager(new_value)>,\n",
       "  5: 10.0,\n",
       "  6: 10.5,\n",
       "  7: <code object averager at 0x11206b8a0, file \"<ipython-input-2-ba1550cee893>\", line 3>,\n",
       "  8: ['__class__',\n",
       "   '__delattr__',\n",
       "   '__dir__',\n",
       "   '__doc__',\n",
       "   '__eq__',\n",
       "   '__format__',\n",
       "   '__ge__',\n",
       "   '__getattribute__',\n",
       "   '__gt__',\n",
       "   '__hash__',\n",
       "   '__init__',\n",
       "   '__init_subclass__',\n",
       "   '__le__',\n",
       "   '__lt__',\n",
       "   '__ne__',\n",
       "   '__new__',\n",
       "   '__reduce__',\n",
       "   '__reduce_ex__',\n",
       "   '__repr__',\n",
       "   '__setattr__',\n",
       "   '__sizeof__',\n",
       "   '__str__',\n",
       "   '__subclasshook__',\n",
       "   'co_argcount',\n",
       "   'co_cellvars',\n",
       "   'co_code',\n",
       "   'co_consts',\n",
       "   'co_filename',\n",
       "   'co_firstlineno',\n",
       "   'co_flags',\n",
       "   'co_freevars',\n",
       "   'co_kwonlyargcount',\n",
       "   'co_lnotab',\n",
       "   'co_name',\n",
       "   'co_names',\n",
       "   'co_nlocals',\n",
       "   'co_stacksize',\n",
       "   'co_varnames'],\n",
       "  9: (<cell at 0x1120a0c10: list object at 0x11207a410>,),\n",
       "  16: 10.0,\n",
       "  25: '<p>name</p>',\n",
       "  26: '<p class=\"sidebar\" content=\"testing\">name</p>'},\n",
       " 'get_ipython': <bound method InteractiveShell.get_ipython of <ipykernel.zmqshell.ZMQInteractiveShell object at 0x111f06b50>>,\n",
       " 'exit': <IPython.core.autocall.ZMQExitAutocall at 0x111f781d0>,\n",
       " 'quit': <IPython.core.autocall.ZMQExitAutocall at 0x111f781d0>,\n",
       " '_': <function __main__._(seq)>,\n",
       " '__': '<p>name</p>',\n",
       " '___': 10.0,\n",
       " '_i': \"from functools import singledispatch\\nfrom collections import abc\\nimport numbers\\nimport html\\n\\n@singledispatch\\ndef htmlize(obj):\\n    content = html.escape(repr(obj))\\n    return '<pre>{}</pre>'.format(content)\\n\\n\\n@htmlize.register(str)\\ndef _(text):\\n    content = html.escape(text).replace('\\\\n', '<br>\\\\n')\\n    return '<p>{0}</p>'.format(content)\\n\\n\\n@htmlize.register(numbers.Integral)\\ndef _(n):\\n    return '<pre>{0} (0x{0:x})</pre>'.format(n)\\n\\n\\n@htmlize.register(tuple)\\n@htmlize.register(abc.MutableSequence)\\ndef _(seq):\\n    inner = '</li>\\\\n<li>'.join(htmlize(item) for item in seq)\\n    return '<ul>\\\\n<li>' + inner + '</li>\\\\n</ul>'\",\n",
       " '_ii': 'from functools import lru_cache\\n\\n@lru_cache()\\n@clock\\ndef fibonacci(n):\\n    if n < 2:\\n        return n\\n    return fibonacci(n - 2) + fibonacci(n - 1)\\n\\nfor i in range(5):\\n    fibonacci(i + 1)',\n",
       " '_iii': 'from functools import lru_cache\\n\\n@clock\\n@lru_cache()\\ndef fibonacci(n):\\n    if n < 2:\\n        return n\\n    return fibonacci(n - 2) + fibonacci(n - 1)\\n\\nfor i in range(5):\\n    fibonacci(i + 1)',\n",
       " '_i1': '__name__',\n",
       " '_1': '__main__',\n",
       " '_i2': 'def make_averager():\\n    series = []\\n    def averager(new_value):\\n        series.append(new_value)\\n        return sum(series)/len(series)\\n    return averager',\n",
       " 'make_averager': <function __main__.make_averager()>,\n",
       " '_i3': 'avg = make_averager()',\n",
       " 'avg': <function __main__.make_averager.<locals>.averager(new_value)>,\n",
       " '_i4': 'avg',\n",
       " '_4': <function __main__.make_averager.<locals>.averager(new_value)>,\n",
       " '_i5': 'avg(10)',\n",
       " '_5': 10.0,\n",
       " '_i6': 'avg(11)',\n",
       " '_6': 10.5,\n",
       " '_i7': 'avg.__code__',\n",
       " '_7': <code object averager at 0x11206b8a0, file \"<ipython-input-2-ba1550cee893>\", line 3>,\n",
       " '_i8': 'dir(avg.__code__)',\n",
       " '_8': ['__class__',\n",
       "  '__delattr__',\n",
       "  '__dir__',\n",
       "  '__doc__',\n",
       "  '__eq__',\n",
       "  '__format__',\n",
       "  '__ge__',\n",
       "  '__getattribute__',\n",
       "  '__gt__',\n",
       "  '__hash__',\n",
       "  '__init__',\n",
       "  '__init_subclass__',\n",
       "  '__le__',\n",
       "  '__lt__',\n",
       "  '__ne__',\n",
       "  '__new__',\n",
       "  '__reduce__',\n",
       "  '__reduce_ex__',\n",
       "  '__repr__',\n",
       "  '__setattr__',\n",
       "  '__sizeof__',\n",
       "  '__str__',\n",
       "  '__subclasshook__',\n",
       "  'co_argcount',\n",
       "  'co_cellvars',\n",
       "  'co_code',\n",
       "  'co_consts',\n",
       "  'co_filename',\n",
       "  'co_firstlineno',\n",
       "  'co_flags',\n",
       "  'co_freevars',\n",
       "  'co_kwonlyargcount',\n",
       "  'co_lnotab',\n",
       "  'co_name',\n",
       "  'co_names',\n",
       "  'co_nlocals',\n",
       "  'co_stacksize',\n",
       "  'co_varnames'],\n",
       " '_i9': 'avg.__closure__',\n",
       " '_9': (<cell at 0x1120a0c10: list object at 0x11207a410>,),\n",
       " '_i10': '# nonlocal: flag a variable as a free variable even when it is assigned\\n# a new value within the function\\n\\ndef make_averager():\\n    count = 0\\n    total = 0\\n    def averager(new_value):\\n        nonlocal count, total\\n        count += 1\\n        total += new_value\\n        return total / count',\n",
       " '_i11': 'avg = make_averager()\\navg(10)',\n",
       " '_i12': 'avg = make_averager()',\n",
       " '_i13': 'avg',\n",
       " '_i14': '# nonlocal: flag a variable as a free variable even when it is assigned\\n# a new value within the function\\n\\ndef make_averager():\\n    count = 0\\n    total = 0\\n    def averager(new_value):\\n        nonlocal count, total\\n        count += 1\\n        total += new_value\\n        return total / count\\n    return averager',\n",
       " '_i15': 'avg = make_averager()',\n",
       " '_i16': 'avg(10)',\n",
       " '_16': 10.0,\n",
       " '_i17': \"import time\\n\\ndef clock(func):\\n    def clocked(*args):\\n        t0 = time.perf_counter()\\n        result = func(*args)\\n        elapsed = time.perf_counter() - t0\\n        name = func.__name__\\n        arg_str = ', '.join(repr(arg) for arg in args)\\n        print('[%0.8fs] %s(%s) -> %r' % (elapsed, name, arg_str, result))\\n        return result\\n    return clocked\",\n",
       " 'time': <module 'time' (built-in)>,\n",
       " 'clock': <function __main__.clock(func)>,\n",
       " '_i18': '@clock\\ndef snooze(seconds):\\n    time.sleep(seconds)',\n",
       " 'snooze': <function __main__.snooze(seconds)>,\n",
       " '_i19': 'snooze(10)',\n",
       " '_i20': \"import time\\nfrom functools import wraps\\n\\ndef clock(func):\\n    @wraps(func)\\n    def wrapper(*args, **kwargs):\\n        t0 = time.perf_counter()\\n        result = func(*args, **kwargs)\\n        elapsed = time.perf_counter() - t0\\n        name = func.__name__\\n        arg_list = []\\n        if args:\\n            arg_list.append(', '.join(repr(arg) for arg in args))\\n        if kwargs:\\n            pairs = ['%s=%r' % (k, w) for k, w in sorted(kwargs.items())]\\n            arg_list.append(', '.join(pairs))\\n        arg_str = ', '.join(arg_list)\\n        print('[%0.8fs] %s(%s) -> %r' % (elapsed, name, arg_str, result))\\n        return result\",\n",
       " 'wraps': <function functools.wraps(wrapped, assigned=('__module__', '__name__', '__qualname__', '__doc__', '__annotations__'), updated=('__dict__',))>,\n",
       " '_i21': \"import time\\nfrom functools import wraps\\n\\ndef clock(func):\\n    @wraps(func)\\n    def wrapper(*args, **kwargs):\\n        t0 = time.perf_counter()\\n        result = func(*args, **kwargs)\\n        elapsed = time.perf_counter() - t0\\n        name = func.__name__\\n        arg_list = []\\n        if args:\\n            arg_list.append(', '.join(repr(arg) for arg in args))\\n        if kwargs:\\n            pairs = ['%s=%r' % (k, w) for k, w in sorted(kwargs.items())]\\n            arg_list.append(', '.join(pairs))\\n        arg_str = ', '.join(arg_list)\\n        print('[%0.8fs] %s(%s) -> %r' % (elapsed, name, arg_str, result))\\n        return result\\n    return wrapper\",\n",
       " '_i22': '@clock\\ndef snooze(seconds):\\n    time.sleep(seconds)',\n",
       " '_i23': 'snooze(0.5)',\n",
       " '_i24': '@clock\\ndef tag(name, *content, cls=None, **attrs):\\n    \\'\\'\\'generate one or more HTML tags\\'\\'\\'\\n    if cls is not None:\\n        attrs[\\'class\\'] = cls\\n        \\n    if attrs:\\n        attr_str = \\'\\'.join(\\' %s=\"%s\"\\' % (attr, value)\\n                           for attr, value\\n                           in sorted(attrs.items()))\\n    else:\\n        attr_str = \\'\\'\\n        \\n    if content:\\n        return \\'\\\\n\\'.join(\\'<%s%s>%s</%s>\\' %\\n                        (name, attr_str, c, name) for c in content)\\n    else:\\n        return \\'<%s%s />\\' % (name, attr_str)',\n",
       " 'tag': <function __main__.tag(name, *content, cls=None, **attrs)>,\n",
       " '_i25': \"tag('p', 'name')\",\n",
       " '_25': '<p>name</p>',\n",
       " '_i26': \"tag('p', 'name', cls='sidebar', content='testing')\",\n",
       " '_26': '<p class=\"sidebar\" content=\"testing\">name</p>',\n",
       " '_i27': 'from functools import lru_cache\\n\\n@clock\\n@lru_cache\\ndef fibonacci(n):\\n    if n < 2:\\n        return n\\n    return fibonacci(n - 2) + fibonacci(n - 1)\\n\\nfor i in range(5):\\n    print(fibonacci(i))',\n",
       " 'lru_cache': <function functools.lru_cache(maxsize=128, typed=False)>,\n",
       " '_i28': 'from functools import lru_cache\\n\\n@clock\\n@lru_cache()\\ndef fibonacci(n):\\n    if n < 2:\\n        return n\\n    return fibonacci(n - 2) + fibonacci(n - 1)\\n\\nfor i in range(5):\\n    print(fibonacci(i))',\n",
       " 'fibonacci': <functools._lru_cache_wrapper at 0x1127e54b0>,\n",
       " 'i': 4,\n",
       " '_i29': 'from functools import lru_cache\\n\\n@clock\\n@lru_cache()\\ndef fibonacci(n):\\n    if n < 2:\\n        return n\\n    return fibonacci(n - 2) + fibonacci(n - 1)\\n\\nfor i in range(5):\\n    print(fibonacci(i + 1))',\n",
       " '_i30': 'from functools import lru_cache\\n\\n@clock\\n@lru_cache()\\ndef fibonacci(n):\\n    if n < 2:\\n        return n\\n    return fibonacci(n - 2) + fibonacci(n - 1)\\n\\nfor i in range(5):\\n    fibonacci(i + 1)',\n",
       " '_i31': 'from functools import lru_cache\\n\\n@lru_cache()\\n@clock\\ndef fibonacci(n):\\n    if n < 2:\\n        return n\\n    return fibonacci(n - 2) + fibonacci(n - 1)\\n\\nfor i in range(5):\\n    fibonacci(i + 1)',\n",
       " '_i32': \"from functools import singledispatch\\nfrom collections import abc\\nimport numbers\\nimport html\\n\\n@singledispatch\\ndef htmlize(obj):\\n    content = html.escape(repr(obj))\\n    return '<pre>{}</pre>'.format(content)\\n\\n\\n@htmlize.register(str)\\ndef _(text):\\n    content = html.escape(text).replace('\\\\n', '<br>\\\\n')\\n    return '<p>{0}</p>'.format(content)\\n\\n\\n@htmlize.register(numbers.Integral)\\ndef _(n):\\n    return '<pre>{0} (0x{0:x})</pre>'.format(n)\\n\\n\\n@htmlize.register(tuple)\\n@htmlize.register(abc.MutableSequence)\\ndef _(seq):\\n    inner = '</li>\\\\n<li>'.join(htmlize(item) for item in seq)\\n    return '<ul>\\\\n<li>' + inner + '</li>\\\\n</ul>'\",\n",
       " 'singledispatch': <function functools.singledispatch(func)>,\n",
       " 'abc': <module 'collections.abc' from '/usr/local/Cellar/python/3.7.5/Frameworks/Python.framework/Versions/3.7/lib/python3.7/collections/abc.py'>,\n",
       " 'numbers': <module 'numbers' from '/usr/local/Cellar/python/3.7.5/Frameworks/Python.framework/Versions/3.7/lib/python3.7/numbers.py'>,\n",
       " 'html': <module 'html' from '/usr/local/Cellar/python/3.7.5/Frameworks/Python.framework/Versions/3.7/lib/python3.7/html/__init__.py'>,\n",
       " 'htmlize': <function __main__.htmlize(obj)>,\n",
       " '_i33': 'locals()'}"
      ]
     },
     "execution_count": 33,
     "metadata": {},
     "output_type": "execute_result"
    }
   ],
   "source": [
    "locals()"
   ]
  },
  {
   "cell_type": "code",
   "execution_count": 36,
   "metadata": {},
   "outputs": [
    {
     "name": "stdout",
     "output_type": "stream",
     "text": [
      "{'args': ('a', 1, [2], {3: 4}), 'kwargs': {'key': 'value'}, 'a': 1}\n"
     ]
    }
   ],
   "source": [
    "def trylocals(*args, **kwargs):\n",
    "    a = 1\n",
    "    print(locals())\n",
    "    \n",
    "trylocals(\"a\", 1, [2], {3: 4}, key='value')"
   ]
  },
  {
   "cell_type": "code",
   "execution_count": null,
   "metadata": {},
   "outputs": [],
   "source": []
  }
 ],
 "metadata": {
  "kernelspec": {
   "display_name": "Python 3",
   "language": "python",
   "name": "python3"
  },
  "language_info": {
   "codemirror_mode": {
    "name": "ipython",
    "version": 3
   },
   "file_extension": ".py",
   "mimetype": "text/x-python",
   "name": "python",
   "nbconvert_exporter": "python",
   "pygments_lexer": "ipython3",
   "version": "3.7.5"
  }
 },
 "nbformat": 4,
 "nbformat_minor": 2
}
